{
 "cells": [
  {
   "cell_type": "markdown",
   "metadata": {
    "toc": true
   },
   "source": [
    "<h1>Содержание<span class=\"tocSkip\"></span></h1>\n",
    "<div class=\"toc\"><ul class=\"toc-item\"><li><span><a href=\"#Подготовка-данных\" data-toc-modified-id=\"Подготовка-данных-1\"><span class=\"toc-item-num\">1&nbsp;&nbsp;</span>Подготовка данных</a></span><ul class=\"toc-item\"><li><span><a href=\"#Загрузка-и-изучение-данных\" data-toc-modified-id=\"Загрузка-и-изучение-данных-1.1\"><span class=\"toc-item-num\">1.1&nbsp;&nbsp;</span>Загрузка и изучение данных</a></span></li><li><span><a href=\"#проверка-расчетов-эффективности-обогащения\" data-toc-modified-id=\"проверка-расчетов-эффективности-обогащения-1.2\"><span class=\"toc-item-num\">1.2&nbsp;&nbsp;</span>проверка расчетов эффективности обогащения</a></span></li><li><span><a href=\"#Изучение-признаков,-недоступных-в-тестовой-выборке\" data-toc-modified-id=\"Изучение-признаков,-недоступных-в-тестовой-выборке-1.3\"><span class=\"toc-item-num\">1.3&nbsp;&nbsp;</span>Изучение признаков, недоступных в тестовой выборке</a></span></li><li><span><a href=\"#Предобработка-данных\" data-toc-modified-id=\"Предобработка-данных-1.4\"><span class=\"toc-item-num\">1.4&nbsp;&nbsp;</span>Предобработка данных</a></span></li></ul></li><li><span><a href=\"#Анализ-данных\" data-toc-modified-id=\"Анализ-данных-2\"><span class=\"toc-item-num\">2&nbsp;&nbsp;</span>Анализ данных</a></span><ul class=\"toc-item\"><li><span><a href=\"#Изучение-концентрации-металов-au,pb,ag-на-различных-этапах\" data-toc-modified-id=\"Изучение-концентрации-металов-au,pb,ag-на-различных-этапах-2.1\"><span class=\"toc-item-num\">2.1&nbsp;&nbsp;</span>Изучение концентрации металов au,pb,ag на различных этапах</a></span></li><li><span><a href=\"#Сравнение-распределений-гранул-сырья-на-обучающей-и-тестовой-выборках\" data-toc-modified-id=\"Сравнение-распределений-гранул-сырья-на-обучающей-и-тестовой-выборках-2.2\"><span class=\"toc-item-num\">2.2&nbsp;&nbsp;</span>Сравнение распределений гранул сырья на обучающей и тестовой выборках</a></span></li><li><span><a href=\"#Исследование-сумарной-концентрации-металлов-на-разных-этапах\" data-toc-modified-id=\"Исследование-сумарной-концентрации-металлов-на-разных-этапах-2.3\"><span class=\"toc-item-num\">2.3&nbsp;&nbsp;</span>Исследование сумарной концентрации металлов на разных этапах</a></span></li></ul></li><li><span><a href=\"#Модель\" data-toc-modified-id=\"Модель-3\"><span class=\"toc-item-num\">3&nbsp;&nbsp;</span>Модель</a></span><ul class=\"toc-item\"><li><span><a href=\"#Функция-для-расчета-sMAPE\" data-toc-modified-id=\"Функция-для-расчета-sMAPE-3.1\"><span class=\"toc-item-num\">3.1&nbsp;&nbsp;</span>Функция для расчета sMAPE</a></span></li><li><span><a href=\"#Разделение-обучающей-выборки-на-features-и-target\" data-toc-modified-id=\"Разделение-обучающей-выборки-на-features-и-target-3.2\"><span class=\"toc-item-num\">3.2&nbsp;&nbsp;</span>Разделение обучающей выборки на features и target</a></span></li><li><span><a href=\"#Поиск-лучшей-модели\" data-toc-modified-id=\"Поиск-лучшей-модели-3.3\"><span class=\"toc-item-num\">3.3&nbsp;&nbsp;</span>Поиск лучшей модели</a></span></li><li><span><a href=\"#Проверка-моделей-на-тестовой-выборке\" data-toc-modified-id=\"Проверка-моделей-на-тестовой-выборке-3.4\"><span class=\"toc-item-num\">3.4&nbsp;&nbsp;</span>Проверка моделей на тестовой выборке</a></span></li><li><span><a href=\"#Вывод\" data-toc-modified-id=\"Вывод-3.5\"><span class=\"toc-item-num\">3.5&nbsp;&nbsp;</span>Вывод</a></span></li></ul></li><li><span><a href=\"#Вывод\" data-toc-modified-id=\"Вывод-4\"><span class=\"toc-item-num\">4&nbsp;&nbsp;</span>Вывод</a></span></li><li><span><a href=\"#Чек-лист-готовности-проекта\" data-toc-modified-id=\"Чек-лист-готовности-проекта-5\"><span class=\"toc-item-num\">5&nbsp;&nbsp;</span>Чек-лист готовности проекта</a></span></li></ul></div>"
   ]
  },
  {
   "cell_type": "markdown",
   "metadata": {},
   "source": [
    "# Восстановление золота из руды"
   ]
  },
  {
   "cell_type": "markdown",
   "metadata": {},
   "source": [
    "Подготовьте прототип модели машинного обучения для «Цифры». Компания разрабатывает решения для эффективной работы промышленных предприятий.\n",
    "\n",
    "Модель должна предсказать коэффициент восстановления золота из золотосодержащей руды. Используйте данные с параметрами добычи и очистки. \n",
    "\n",
    "Модель поможет оптимизировать производство, чтобы не запускать предприятие с убыточными характеристиками.\n",
    "\n",
    "Вам нужно:\n",
    "\n",
    "1. Подготовить данные;\n",
    "2. Провести исследовательский анализ данных;\n",
    "3. Построить и обучить модель.\n",
    "\n",
    "Чтобы выполнить проект, обращайтесь к библиотекам *pandas*, *matplotlib* и *sklearn.* Вам поможет их документация."
   ]
  },
  {
   "cell_type": "markdown",
   "metadata": {},
   "source": [
    "## Подготовка данных"
   ]
  },
  {
   "cell_type": "markdown",
   "metadata": {},
   "source": [
    "Импортирую необходимые библиотеки"
   ]
  },
  {
   "cell_type": "code",
   "execution_count": 1,
   "metadata": {},
   "outputs": [],
   "source": [
    "import numpy as np\n",
    "import pandas as pd\n",
    "import matplotlib.pyplot as plt\n",
    "import matplotlib.pyplot as plt\n",
    "from sklearn.metrics import mean_absolute_error as mae\n",
    "from sklearn.tree import DecisionTreeRegressor\n",
    "from sklearn.ensemble import RandomForestRegressor\n",
    "from sklearn.linear_model import LinearRegression\n",
    "from sklearn.model_selection import cross_val_score\n",
    "from sklearn.model_selection import GridSearchCV\n",
    "from sklearn.preprocessing import PolynomialFeatures\n",
    "from sklearn.preprocessing import StandardScaler\n",
    "from sklearn.metrics import make_scorer"
   ]
  },
  {
   "cell_type": "markdown",
   "metadata": {},
   "source": [
    "### Загрузка и изучение данных"
   ]
  },
  {
   "cell_type": "code",
   "execution_count": 2,
   "metadata": {},
   "outputs": [],
   "source": [
    "data_train = pd.read_csv('/datasets/gold_industry_train.csv')\n",
    "data_test = pd.read_csv('/datasets/gold_industry_test.csv')\n",
    "data_full = pd.read_csv('/datasets/gold_industry_full.csv')"
   ]
  },
  {
   "cell_type": "code",
   "execution_count": 3,
   "metadata": {},
   "outputs": [
    {
     "data": {
      "text/html": [
       "<div>\n",
       "<style scoped>\n",
       "    .dataframe tbody tr th:only-of-type {\n",
       "        vertical-align: middle;\n",
       "    }\n",
       "\n",
       "    .dataframe tbody tr th {\n",
       "        vertical-align: top;\n",
       "    }\n",
       "\n",
       "    .dataframe thead th {\n",
       "        text-align: right;\n",
       "    }\n",
       "</style>\n",
       "<table border=\"1\" class=\"dataframe\">\n",
       "  <thead>\n",
       "    <tr style=\"text-align: right;\">\n",
       "      <th></th>\n",
       "      <th>date</th>\n",
       "      <th>rougher.input.feed_au</th>\n",
       "      <th>rougher.input.feed_ag</th>\n",
       "      <th>rougher.input.feed_pb</th>\n",
       "      <th>rougher.input.feed_sol</th>\n",
       "      <th>rougher.input.feed_rate</th>\n",
       "      <th>rougher.input.feed_size</th>\n",
       "      <th>rougher.input.floatbank10_sulfate</th>\n",
       "      <th>rougher.input.floatbank10_xanthate</th>\n",
       "      <th>rougher.state.floatbank10_a_air</th>\n",
       "      <th>...</th>\n",
       "      <th>secondary_cleaner.output.tail_sol</th>\n",
       "      <th>final.output.concentrate_au</th>\n",
       "      <th>final.output.concentrate_ag</th>\n",
       "      <th>final.output.concentrate_pb</th>\n",
       "      <th>final.output.concentrate_sol</th>\n",
       "      <th>final.output.recovery</th>\n",
       "      <th>final.output.tail_au</th>\n",
       "      <th>final.output.tail_ag</th>\n",
       "      <th>final.output.tail_pb</th>\n",
       "      <th>final.output.tail_sol</th>\n",
       "    </tr>\n",
       "  </thead>\n",
       "  <tbody>\n",
       "    <tr>\n",
       "      <th>0</th>\n",
       "      <td>2016-01-15 00:00:00</td>\n",
       "      <td>6.486150</td>\n",
       "      <td>6.100378</td>\n",
       "      <td>2.284912</td>\n",
       "      <td>36.808594</td>\n",
       "      <td>523.546326</td>\n",
       "      <td>55.486599</td>\n",
       "      <td>11.986616</td>\n",
       "      <td>6.007990</td>\n",
       "      <td>999.706909</td>\n",
       "      <td>...</td>\n",
       "      <td>8.764648</td>\n",
       "      <td>42.192020</td>\n",
       "      <td>6.055403</td>\n",
       "      <td>9.889648</td>\n",
       "      <td>5.507324</td>\n",
       "      <td>70.541216</td>\n",
       "      <td>2.143149</td>\n",
       "      <td>10.411962</td>\n",
       "      <td>0.895447</td>\n",
       "      <td>16.904297</td>\n",
       "    </tr>\n",
       "    <tr>\n",
       "      <th>1</th>\n",
       "      <td>2016-01-15 01:00:00</td>\n",
       "      <td>6.478583</td>\n",
       "      <td>6.161113</td>\n",
       "      <td>2.266033</td>\n",
       "      <td>35.753385</td>\n",
       "      <td>525.290581</td>\n",
       "      <td>57.278666</td>\n",
       "      <td>11.971193</td>\n",
       "      <td>6.005766</td>\n",
       "      <td>1000.286398</td>\n",
       "      <td>...</td>\n",
       "      <td>9.001494</td>\n",
       "      <td>42.701629</td>\n",
       "      <td>6.029369</td>\n",
       "      <td>9.968944</td>\n",
       "      <td>5.257781</td>\n",
       "      <td>69.266198</td>\n",
       "      <td>2.224930</td>\n",
       "      <td>10.462676</td>\n",
       "      <td>0.927452</td>\n",
       "      <td>16.634514</td>\n",
       "    </tr>\n",
       "    <tr>\n",
       "      <th>2</th>\n",
       "      <td>2016-01-15 02:00:00</td>\n",
       "      <td>6.362222</td>\n",
       "      <td>6.116455</td>\n",
       "      <td>2.159622</td>\n",
       "      <td>35.971630</td>\n",
       "      <td>530.026610</td>\n",
       "      <td>57.510649</td>\n",
       "      <td>11.920603</td>\n",
       "      <td>6.197377</td>\n",
       "      <td>999.719565</td>\n",
       "      <td>...</td>\n",
       "      <td>8.842896</td>\n",
       "      <td>42.657501</td>\n",
       "      <td>6.055926</td>\n",
       "      <td>10.213995</td>\n",
       "      <td>5.383759</td>\n",
       "      <td>68.116445</td>\n",
       "      <td>2.257889</td>\n",
       "      <td>10.507046</td>\n",
       "      <td>0.953716</td>\n",
       "      <td>16.208849</td>\n",
       "    </tr>\n",
       "    <tr>\n",
       "      <th>3</th>\n",
       "      <td>2016-01-15 03:00:00</td>\n",
       "      <td>6.118189</td>\n",
       "      <td>6.043309</td>\n",
       "      <td>2.037807</td>\n",
       "      <td>36.862241</td>\n",
       "      <td>542.590390</td>\n",
       "      <td>57.792734</td>\n",
       "      <td>11.630094</td>\n",
       "      <td>6.203177</td>\n",
       "      <td>999.814770</td>\n",
       "      <td>...</td>\n",
       "      <td>9.122857</td>\n",
       "      <td>42.689819</td>\n",
       "      <td>6.047977</td>\n",
       "      <td>9.977019</td>\n",
       "      <td>4.858634</td>\n",
       "      <td>68.347543</td>\n",
       "      <td>2.146849</td>\n",
       "      <td>10.422762</td>\n",
       "      <td>0.883763</td>\n",
       "      <td>16.532835</td>\n",
       "    </tr>\n",
       "    <tr>\n",
       "      <th>4</th>\n",
       "      <td>2016-01-15 04:00:00</td>\n",
       "      <td>5.663707</td>\n",
       "      <td>6.060915</td>\n",
       "      <td>1.786875</td>\n",
       "      <td>34.347666</td>\n",
       "      <td>540.531893</td>\n",
       "      <td>56.047189</td>\n",
       "      <td>10.957755</td>\n",
       "      <td>6.198826</td>\n",
       "      <td>999.678690</td>\n",
       "      <td>...</td>\n",
       "      <td>8.871028</td>\n",
       "      <td>42.774141</td>\n",
       "      <td>6.148599</td>\n",
       "      <td>10.142511</td>\n",
       "      <td>4.939416</td>\n",
       "      <td>66.927016</td>\n",
       "      <td>2.055292</td>\n",
       "      <td>10.360302</td>\n",
       "      <td>0.792826</td>\n",
       "      <td>16.525686</td>\n",
       "    </tr>\n",
       "  </tbody>\n",
       "</table>\n",
       "<p>5 rows × 87 columns</p>\n",
       "</div>"
      ],
      "text/plain": [
       "                  date  rougher.input.feed_au  rougher.input.feed_ag  \\\n",
       "0  2016-01-15 00:00:00               6.486150               6.100378   \n",
       "1  2016-01-15 01:00:00               6.478583               6.161113   \n",
       "2  2016-01-15 02:00:00               6.362222               6.116455   \n",
       "3  2016-01-15 03:00:00               6.118189               6.043309   \n",
       "4  2016-01-15 04:00:00               5.663707               6.060915   \n",
       "\n",
       "   rougher.input.feed_pb  rougher.input.feed_sol  rougher.input.feed_rate  \\\n",
       "0               2.284912               36.808594               523.546326   \n",
       "1               2.266033               35.753385               525.290581   \n",
       "2               2.159622               35.971630               530.026610   \n",
       "3               2.037807               36.862241               542.590390   \n",
       "4               1.786875               34.347666               540.531893   \n",
       "\n",
       "   rougher.input.feed_size  rougher.input.floatbank10_sulfate  \\\n",
       "0                55.486599                          11.986616   \n",
       "1                57.278666                          11.971193   \n",
       "2                57.510649                          11.920603   \n",
       "3                57.792734                          11.630094   \n",
       "4                56.047189                          10.957755   \n",
       "\n",
       "   rougher.input.floatbank10_xanthate  rougher.state.floatbank10_a_air  ...  \\\n",
       "0                            6.007990                       999.706909  ...   \n",
       "1                            6.005766                      1000.286398  ...   \n",
       "2                            6.197377                       999.719565  ...   \n",
       "3                            6.203177                       999.814770  ...   \n",
       "4                            6.198826                       999.678690  ...   \n",
       "\n",
       "   secondary_cleaner.output.tail_sol  final.output.concentrate_au  \\\n",
       "0                           8.764648                    42.192020   \n",
       "1                           9.001494                    42.701629   \n",
       "2                           8.842896                    42.657501   \n",
       "3                           9.122857                    42.689819   \n",
       "4                           8.871028                    42.774141   \n",
       "\n",
       "   final.output.concentrate_ag  final.output.concentrate_pb  \\\n",
       "0                     6.055403                     9.889648   \n",
       "1                     6.029369                     9.968944   \n",
       "2                     6.055926                    10.213995   \n",
       "3                     6.047977                     9.977019   \n",
       "4                     6.148599                    10.142511   \n",
       "\n",
       "   final.output.concentrate_sol  final.output.recovery  final.output.tail_au  \\\n",
       "0                      5.507324              70.541216              2.143149   \n",
       "1                      5.257781              69.266198              2.224930   \n",
       "2                      5.383759              68.116445              2.257889   \n",
       "3                      4.858634              68.347543              2.146849   \n",
       "4                      4.939416              66.927016              2.055292   \n",
       "\n",
       "   final.output.tail_ag  final.output.tail_pb  final.output.tail_sol  \n",
       "0             10.411962              0.895447              16.904297  \n",
       "1             10.462676              0.927452              16.634514  \n",
       "2             10.507046              0.953716              16.208849  \n",
       "3             10.422762              0.883763              16.532835  \n",
       "4             10.360302              0.792826              16.525686  \n",
       "\n",
       "[5 rows x 87 columns]"
      ]
     },
     "metadata": {},
     "output_type": "display_data"
    },
    {
     "data": {
      "text/html": [
       "<div>\n",
       "<style scoped>\n",
       "    .dataframe tbody tr th:only-of-type {\n",
       "        vertical-align: middle;\n",
       "    }\n",
       "\n",
       "    .dataframe tbody tr th {\n",
       "        vertical-align: top;\n",
       "    }\n",
       "\n",
       "    .dataframe thead th {\n",
       "        text-align: right;\n",
       "    }\n",
       "</style>\n",
       "<table border=\"1\" class=\"dataframe\">\n",
       "  <thead>\n",
       "    <tr style=\"text-align: right;\">\n",
       "      <th></th>\n",
       "      <th>date</th>\n",
       "      <th>rougher.input.feed_au</th>\n",
       "      <th>rougher.input.feed_ag</th>\n",
       "      <th>rougher.input.feed_pb</th>\n",
       "      <th>rougher.input.feed_sol</th>\n",
       "      <th>rougher.input.feed_rate</th>\n",
       "      <th>rougher.input.feed_size</th>\n",
       "      <th>rougher.input.floatbank10_sulfate</th>\n",
       "      <th>rougher.input.floatbank10_xanthate</th>\n",
       "      <th>rougher.state.floatbank10_a_air</th>\n",
       "      <th>...</th>\n",
       "      <th>secondary_cleaner.state.floatbank4_a_air</th>\n",
       "      <th>secondary_cleaner.state.floatbank4_a_level</th>\n",
       "      <th>secondary_cleaner.state.floatbank4_b_air</th>\n",
       "      <th>secondary_cleaner.state.floatbank4_b_level</th>\n",
       "      <th>secondary_cleaner.state.floatbank5_a_air</th>\n",
       "      <th>secondary_cleaner.state.floatbank5_a_level</th>\n",
       "      <th>secondary_cleaner.state.floatbank5_b_air</th>\n",
       "      <th>secondary_cleaner.state.floatbank5_b_level</th>\n",
       "      <th>secondary_cleaner.state.floatbank6_a_air</th>\n",
       "      <th>secondary_cleaner.state.floatbank6_a_level</th>\n",
       "    </tr>\n",
       "  </thead>\n",
       "  <tbody>\n",
       "    <tr>\n",
       "      <th>0</th>\n",
       "      <td>2017-12-09 14:59:59</td>\n",
       "      <td>4.365491</td>\n",
       "      <td>6.158718</td>\n",
       "      <td>3.875727</td>\n",
       "      <td>39.135119</td>\n",
       "      <td>555.820208</td>\n",
       "      <td>94.544358</td>\n",
       "      <td>6.146982</td>\n",
       "      <td>9.308612</td>\n",
       "      <td>1196.238112</td>\n",
       "      <td>...</td>\n",
       "      <td>23.018622</td>\n",
       "      <td>-500.492702</td>\n",
       "      <td>20.020205</td>\n",
       "      <td>-500.220296</td>\n",
       "      <td>17.963512</td>\n",
       "      <td>-499.939490</td>\n",
       "      <td>12.990306</td>\n",
       "      <td>-500.080993</td>\n",
       "      <td>19.990336</td>\n",
       "      <td>-499.191575</td>\n",
       "    </tr>\n",
       "    <tr>\n",
       "      <th>1</th>\n",
       "      <td>2017-12-09 15:59:59</td>\n",
       "      <td>4.362781</td>\n",
       "      <td>6.048130</td>\n",
       "      <td>3.902537</td>\n",
       "      <td>39.713906</td>\n",
       "      <td>544.731687</td>\n",
       "      <td>123.742430</td>\n",
       "      <td>6.210119</td>\n",
       "      <td>9.297709</td>\n",
       "      <td>1201.904177</td>\n",
       "      <td>...</td>\n",
       "      <td>23.024963</td>\n",
       "      <td>-501.153409</td>\n",
       "      <td>20.054122</td>\n",
       "      <td>-500.314711</td>\n",
       "      <td>17.979515</td>\n",
       "      <td>-499.272871</td>\n",
       "      <td>12.992404</td>\n",
       "      <td>-499.976268</td>\n",
       "      <td>20.013986</td>\n",
       "      <td>-500.625471</td>\n",
       "    </tr>\n",
       "    <tr>\n",
       "      <th>2</th>\n",
       "      <td>2017-12-09 16:59:59</td>\n",
       "      <td>5.081681</td>\n",
       "      <td>6.082745</td>\n",
       "      <td>4.564078</td>\n",
       "      <td>37.208683</td>\n",
       "      <td>558.155110</td>\n",
       "      <td>82.610855</td>\n",
       "      <td>7.363824</td>\n",
       "      <td>9.003562</td>\n",
       "      <td>1200.826926</td>\n",
       "      <td>...</td>\n",
       "      <td>22.993827</td>\n",
       "      <td>-501.559663</td>\n",
       "      <td>20.029144</td>\n",
       "      <td>-500.000662</td>\n",
       "      <td>18.012723</td>\n",
       "      <td>-500.024764</td>\n",
       "      <td>13.016445</td>\n",
       "      <td>-500.058432</td>\n",
       "      <td>19.973767</td>\n",
       "      <td>-501.394155</td>\n",
       "    </tr>\n",
       "    <tr>\n",
       "      <th>3</th>\n",
       "      <td>2017-12-09 17:59:59</td>\n",
       "      <td>5.145949</td>\n",
       "      <td>6.084374</td>\n",
       "      <td>4.768124</td>\n",
       "      <td>36.808874</td>\n",
       "      <td>539.713765</td>\n",
       "      <td>77.984784</td>\n",
       "      <td>6.927072</td>\n",
       "      <td>8.955597</td>\n",
       "      <td>1199.292489</td>\n",
       "      <td>...</td>\n",
       "      <td>23.032807</td>\n",
       "      <td>-501.287889</td>\n",
       "      <td>19.977466</td>\n",
       "      <td>-500.159903</td>\n",
       "      <td>17.980463</td>\n",
       "      <td>-500.504602</td>\n",
       "      <td>12.949071</td>\n",
       "      <td>-500.009937</td>\n",
       "      <td>20.010332</td>\n",
       "      <td>-508.337973</td>\n",
       "    </tr>\n",
       "    <tr>\n",
       "      <th>4</th>\n",
       "      <td>2017-12-09 18:59:59</td>\n",
       "      <td>5.735249</td>\n",
       "      <td>6.165220</td>\n",
       "      <td>4.512346</td>\n",
       "      <td>37.810642</td>\n",
       "      <td>558.713584</td>\n",
       "      <td>86.434874</td>\n",
       "      <td>7.823471</td>\n",
       "      <td>7.490356</td>\n",
       "      <td>1198.005449</td>\n",
       "      <td>...</td>\n",
       "      <td>23.001911</td>\n",
       "      <td>-499.947838</td>\n",
       "      <td>20.023735</td>\n",
       "      <td>-499.713680</td>\n",
       "      <td>17.990955</td>\n",
       "      <td>-500.334769</td>\n",
       "      <td>13.007523</td>\n",
       "      <td>-499.968459</td>\n",
       "      <td>19.995999</td>\n",
       "      <td>-499.788805</td>\n",
       "    </tr>\n",
       "  </tbody>\n",
       "</table>\n",
       "<p>5 rows × 53 columns</p>\n",
       "</div>"
      ],
      "text/plain": [
       "                  date  rougher.input.feed_au  rougher.input.feed_ag  \\\n",
       "0  2017-12-09 14:59:59               4.365491               6.158718   \n",
       "1  2017-12-09 15:59:59               4.362781               6.048130   \n",
       "2  2017-12-09 16:59:59               5.081681               6.082745   \n",
       "3  2017-12-09 17:59:59               5.145949               6.084374   \n",
       "4  2017-12-09 18:59:59               5.735249               6.165220   \n",
       "\n",
       "   rougher.input.feed_pb  rougher.input.feed_sol  rougher.input.feed_rate  \\\n",
       "0               3.875727               39.135119               555.820208   \n",
       "1               3.902537               39.713906               544.731687   \n",
       "2               4.564078               37.208683               558.155110   \n",
       "3               4.768124               36.808874               539.713765   \n",
       "4               4.512346               37.810642               558.713584   \n",
       "\n",
       "   rougher.input.feed_size  rougher.input.floatbank10_sulfate  \\\n",
       "0                94.544358                           6.146982   \n",
       "1               123.742430                           6.210119   \n",
       "2                82.610855                           7.363824   \n",
       "3                77.984784                           6.927072   \n",
       "4                86.434874                           7.823471   \n",
       "\n",
       "   rougher.input.floatbank10_xanthate  rougher.state.floatbank10_a_air  ...  \\\n",
       "0                            9.308612                      1196.238112  ...   \n",
       "1                            9.297709                      1201.904177  ...   \n",
       "2                            9.003562                      1200.826926  ...   \n",
       "3                            8.955597                      1199.292489  ...   \n",
       "4                            7.490356                      1198.005449  ...   \n",
       "\n",
       "   secondary_cleaner.state.floatbank4_a_air  \\\n",
       "0                                 23.018622   \n",
       "1                                 23.024963   \n",
       "2                                 22.993827   \n",
       "3                                 23.032807   \n",
       "4                                 23.001911   \n",
       "\n",
       "   secondary_cleaner.state.floatbank4_a_level  \\\n",
       "0                                 -500.492702   \n",
       "1                                 -501.153409   \n",
       "2                                 -501.559663   \n",
       "3                                 -501.287889   \n",
       "4                                 -499.947838   \n",
       "\n",
       "   secondary_cleaner.state.floatbank4_b_air  \\\n",
       "0                                 20.020205   \n",
       "1                                 20.054122   \n",
       "2                                 20.029144   \n",
       "3                                 19.977466   \n",
       "4                                 20.023735   \n",
       "\n",
       "   secondary_cleaner.state.floatbank4_b_level  \\\n",
       "0                                 -500.220296   \n",
       "1                                 -500.314711   \n",
       "2                                 -500.000662   \n",
       "3                                 -500.159903   \n",
       "4                                 -499.713680   \n",
       "\n",
       "   secondary_cleaner.state.floatbank5_a_air  \\\n",
       "0                                 17.963512   \n",
       "1                                 17.979515   \n",
       "2                                 18.012723   \n",
       "3                                 17.980463   \n",
       "4                                 17.990955   \n",
       "\n",
       "   secondary_cleaner.state.floatbank5_a_level  \\\n",
       "0                                 -499.939490   \n",
       "1                                 -499.272871   \n",
       "2                                 -500.024764   \n",
       "3                                 -500.504602   \n",
       "4                                 -500.334769   \n",
       "\n",
       "   secondary_cleaner.state.floatbank5_b_air  \\\n",
       "0                                 12.990306   \n",
       "1                                 12.992404   \n",
       "2                                 13.016445   \n",
       "3                                 12.949071   \n",
       "4                                 13.007523   \n",
       "\n",
       "   secondary_cleaner.state.floatbank5_b_level  \\\n",
       "0                                 -500.080993   \n",
       "1                                 -499.976268   \n",
       "2                                 -500.058432   \n",
       "3                                 -500.009937   \n",
       "4                                 -499.968459   \n",
       "\n",
       "   secondary_cleaner.state.floatbank6_a_air  \\\n",
       "0                                 19.990336   \n",
       "1                                 20.013986   \n",
       "2                                 19.973767   \n",
       "3                                 20.010332   \n",
       "4                                 19.995999   \n",
       "\n",
       "   secondary_cleaner.state.floatbank6_a_level  \n",
       "0                                 -499.191575  \n",
       "1                                 -500.625471  \n",
       "2                                 -501.394155  \n",
       "3                                 -508.337973  \n",
       "4                                 -499.788805  \n",
       "\n",
       "[5 rows x 53 columns]"
      ]
     },
     "metadata": {},
     "output_type": "display_data"
    },
    {
     "data": {
      "text/html": [
       "<div>\n",
       "<style scoped>\n",
       "    .dataframe tbody tr th:only-of-type {\n",
       "        vertical-align: middle;\n",
       "    }\n",
       "\n",
       "    .dataframe tbody tr th {\n",
       "        vertical-align: top;\n",
       "    }\n",
       "\n",
       "    .dataframe thead th {\n",
       "        text-align: right;\n",
       "    }\n",
       "</style>\n",
       "<table border=\"1\" class=\"dataframe\">\n",
       "  <thead>\n",
       "    <tr style=\"text-align: right;\">\n",
       "      <th></th>\n",
       "      <th>date</th>\n",
       "      <th>rougher.input.feed_au</th>\n",
       "      <th>rougher.input.feed_ag</th>\n",
       "      <th>rougher.input.feed_pb</th>\n",
       "      <th>rougher.input.feed_sol</th>\n",
       "      <th>rougher.input.feed_rate</th>\n",
       "      <th>rougher.input.feed_size</th>\n",
       "      <th>rougher.input.floatbank10_sulfate</th>\n",
       "      <th>rougher.input.floatbank10_xanthate</th>\n",
       "      <th>rougher.state.floatbank10_a_air</th>\n",
       "      <th>...</th>\n",
       "      <th>secondary_cleaner.output.tail_sol</th>\n",
       "      <th>final.output.concentrate_au</th>\n",
       "      <th>final.output.concentrate_ag</th>\n",
       "      <th>final.output.concentrate_pb</th>\n",
       "      <th>final.output.concentrate_sol</th>\n",
       "      <th>final.output.recovery</th>\n",
       "      <th>final.output.tail_au</th>\n",
       "      <th>final.output.tail_ag</th>\n",
       "      <th>final.output.tail_pb</th>\n",
       "      <th>final.output.tail_sol</th>\n",
       "    </tr>\n",
       "  </thead>\n",
       "  <tbody>\n",
       "    <tr>\n",
       "      <th>0</th>\n",
       "      <td>2016-01-15 00:00:00</td>\n",
       "      <td>6.486150</td>\n",
       "      <td>6.100378</td>\n",
       "      <td>2.284912</td>\n",
       "      <td>36.808594</td>\n",
       "      <td>523.546326</td>\n",
       "      <td>55.486599</td>\n",
       "      <td>11.986616</td>\n",
       "      <td>6.007990</td>\n",
       "      <td>999.706909</td>\n",
       "      <td>...</td>\n",
       "      <td>8.764648</td>\n",
       "      <td>42.192020</td>\n",
       "      <td>6.055403</td>\n",
       "      <td>9.889648</td>\n",
       "      <td>5.507324</td>\n",
       "      <td>70.541216</td>\n",
       "      <td>2.143149</td>\n",
       "      <td>10.411962</td>\n",
       "      <td>0.895447</td>\n",
       "      <td>16.904297</td>\n",
       "    </tr>\n",
       "    <tr>\n",
       "      <th>1</th>\n",
       "      <td>2016-01-15 01:00:00</td>\n",
       "      <td>6.478583</td>\n",
       "      <td>6.161113</td>\n",
       "      <td>2.266033</td>\n",
       "      <td>35.753385</td>\n",
       "      <td>525.290581</td>\n",
       "      <td>57.278666</td>\n",
       "      <td>11.971193</td>\n",
       "      <td>6.005766</td>\n",
       "      <td>1000.286398</td>\n",
       "      <td>...</td>\n",
       "      <td>9.001494</td>\n",
       "      <td>42.701629</td>\n",
       "      <td>6.029369</td>\n",
       "      <td>9.968944</td>\n",
       "      <td>5.257781</td>\n",
       "      <td>69.266198</td>\n",
       "      <td>2.224930</td>\n",
       "      <td>10.462676</td>\n",
       "      <td>0.927452</td>\n",
       "      <td>16.634514</td>\n",
       "    </tr>\n",
       "    <tr>\n",
       "      <th>2</th>\n",
       "      <td>2016-01-15 02:00:00</td>\n",
       "      <td>6.362222</td>\n",
       "      <td>6.116455</td>\n",
       "      <td>2.159622</td>\n",
       "      <td>35.971630</td>\n",
       "      <td>530.026610</td>\n",
       "      <td>57.510649</td>\n",
       "      <td>11.920603</td>\n",
       "      <td>6.197377</td>\n",
       "      <td>999.719565</td>\n",
       "      <td>...</td>\n",
       "      <td>8.842896</td>\n",
       "      <td>42.657501</td>\n",
       "      <td>6.055926</td>\n",
       "      <td>10.213995</td>\n",
       "      <td>5.383759</td>\n",
       "      <td>68.116445</td>\n",
       "      <td>2.257889</td>\n",
       "      <td>10.507046</td>\n",
       "      <td>0.953716</td>\n",
       "      <td>16.208849</td>\n",
       "    </tr>\n",
       "    <tr>\n",
       "      <th>3</th>\n",
       "      <td>2016-01-15 03:00:00</td>\n",
       "      <td>6.118189</td>\n",
       "      <td>6.043309</td>\n",
       "      <td>2.037807</td>\n",
       "      <td>36.862241</td>\n",
       "      <td>542.590390</td>\n",
       "      <td>57.792734</td>\n",
       "      <td>11.630094</td>\n",
       "      <td>6.203177</td>\n",
       "      <td>999.814770</td>\n",
       "      <td>...</td>\n",
       "      <td>9.122857</td>\n",
       "      <td>42.689819</td>\n",
       "      <td>6.047977</td>\n",
       "      <td>9.977019</td>\n",
       "      <td>4.858634</td>\n",
       "      <td>68.347543</td>\n",
       "      <td>2.146849</td>\n",
       "      <td>10.422762</td>\n",
       "      <td>0.883763</td>\n",
       "      <td>16.532835</td>\n",
       "    </tr>\n",
       "    <tr>\n",
       "      <th>4</th>\n",
       "      <td>2016-01-15 04:00:00</td>\n",
       "      <td>5.663707</td>\n",
       "      <td>6.060915</td>\n",
       "      <td>1.786875</td>\n",
       "      <td>34.347666</td>\n",
       "      <td>540.531893</td>\n",
       "      <td>56.047189</td>\n",
       "      <td>10.957755</td>\n",
       "      <td>6.198826</td>\n",
       "      <td>999.678690</td>\n",
       "      <td>...</td>\n",
       "      <td>8.871028</td>\n",
       "      <td>42.774141</td>\n",
       "      <td>6.148599</td>\n",
       "      <td>10.142511</td>\n",
       "      <td>4.939416</td>\n",
       "      <td>66.927016</td>\n",
       "      <td>2.055292</td>\n",
       "      <td>10.360302</td>\n",
       "      <td>0.792826</td>\n",
       "      <td>16.525686</td>\n",
       "    </tr>\n",
       "  </tbody>\n",
       "</table>\n",
       "<p>5 rows × 87 columns</p>\n",
       "</div>"
      ],
      "text/plain": [
       "                  date  rougher.input.feed_au  rougher.input.feed_ag  \\\n",
       "0  2016-01-15 00:00:00               6.486150               6.100378   \n",
       "1  2016-01-15 01:00:00               6.478583               6.161113   \n",
       "2  2016-01-15 02:00:00               6.362222               6.116455   \n",
       "3  2016-01-15 03:00:00               6.118189               6.043309   \n",
       "4  2016-01-15 04:00:00               5.663707               6.060915   \n",
       "\n",
       "   rougher.input.feed_pb  rougher.input.feed_sol  rougher.input.feed_rate  \\\n",
       "0               2.284912               36.808594               523.546326   \n",
       "1               2.266033               35.753385               525.290581   \n",
       "2               2.159622               35.971630               530.026610   \n",
       "3               2.037807               36.862241               542.590390   \n",
       "4               1.786875               34.347666               540.531893   \n",
       "\n",
       "   rougher.input.feed_size  rougher.input.floatbank10_sulfate  \\\n",
       "0                55.486599                          11.986616   \n",
       "1                57.278666                          11.971193   \n",
       "2                57.510649                          11.920603   \n",
       "3                57.792734                          11.630094   \n",
       "4                56.047189                          10.957755   \n",
       "\n",
       "   rougher.input.floatbank10_xanthate  rougher.state.floatbank10_a_air  ...  \\\n",
       "0                            6.007990                       999.706909  ...   \n",
       "1                            6.005766                      1000.286398  ...   \n",
       "2                            6.197377                       999.719565  ...   \n",
       "3                            6.203177                       999.814770  ...   \n",
       "4                            6.198826                       999.678690  ...   \n",
       "\n",
       "   secondary_cleaner.output.tail_sol  final.output.concentrate_au  \\\n",
       "0                           8.764648                    42.192020   \n",
       "1                           9.001494                    42.701629   \n",
       "2                           8.842896                    42.657501   \n",
       "3                           9.122857                    42.689819   \n",
       "4                           8.871028                    42.774141   \n",
       "\n",
       "   final.output.concentrate_ag  final.output.concentrate_pb  \\\n",
       "0                     6.055403                     9.889648   \n",
       "1                     6.029369                     9.968944   \n",
       "2                     6.055926                    10.213995   \n",
       "3                     6.047977                     9.977019   \n",
       "4                     6.148599                    10.142511   \n",
       "\n",
       "   final.output.concentrate_sol  final.output.recovery  final.output.tail_au  \\\n",
       "0                      5.507324              70.541216              2.143149   \n",
       "1                      5.257781              69.266198              2.224930   \n",
       "2                      5.383759              68.116445              2.257889   \n",
       "3                      4.858634              68.347543              2.146849   \n",
       "4                      4.939416              66.927016              2.055292   \n",
       "\n",
       "   final.output.tail_ag  final.output.tail_pb  final.output.tail_sol  \n",
       "0             10.411962              0.895447              16.904297  \n",
       "1             10.462676              0.927452              16.634514  \n",
       "2             10.507046              0.953716              16.208849  \n",
       "3             10.422762              0.883763              16.532835  \n",
       "4             10.360302              0.792826              16.525686  \n",
       "\n",
       "[5 rows x 87 columns]"
      ]
     },
     "metadata": {},
     "output_type": "display_data"
    }
   ],
   "source": [
    "display(data_train.head())\n",
    "display(data_test.head())\n",
    "display(data_full.head())"
   ]
  },
  {
   "cell_type": "code",
   "execution_count": 4,
   "metadata": {},
   "outputs": [
    {
     "data": {
      "text/plain": [
       "Index(['date', 'rougher.input.feed_au', 'rougher.input.feed_ag',\n",
       "       'rougher.input.feed_pb', 'rougher.input.feed_sol',\n",
       "       'rougher.input.feed_rate', 'rougher.input.feed_size',\n",
       "       'rougher.input.floatbank10_sulfate',\n",
       "       'rougher.input.floatbank10_xanthate', 'rougher.state.floatbank10_a_air',\n",
       "       'rougher.state.floatbank10_a_level', 'rougher.state.floatbank10_b_air',\n",
       "       'rougher.state.floatbank10_b_level', 'rougher.state.floatbank10_c_air',\n",
       "       'rougher.state.floatbank10_c_level', 'rougher.state.floatbank10_d_air',\n",
       "       'rougher.state.floatbank10_d_level', 'rougher.state.floatbank10_e_air',\n",
       "       'rougher.state.floatbank10_e_level', 'rougher.state.floatbank10_f_air',\n",
       "       'rougher.state.floatbank10_f_level',\n",
       "       'rougher.input.floatbank11_sulfate',\n",
       "       'rougher.input.floatbank11_xanthate',\n",
       "       'rougher.calculation.sulfate_to_au_concentrate',\n",
       "       'rougher.calculation.floatbank10_sulfate_to_au_feed',\n",
       "       'rougher.calculation.floatbank11_sulfate_to_au_feed',\n",
       "       'rougher.calculation.au_pb_ratio', 'rougher.output.concentrate_au',\n",
       "       'rougher.output.concentrate_ag', 'rougher.output.concentrate_pb',\n",
       "       'rougher.output.concentrate_sol', 'rougher.output.recovery',\n",
       "       'rougher.output.tail_au', 'rougher.output.tail_ag',\n",
       "       'rougher.output.tail_pb', 'rougher.output.tail_sol',\n",
       "       'primary_cleaner.input.sulfate', 'primary_cleaner.input.depressant',\n",
       "       'primary_cleaner.input.feed_size', 'primary_cleaner.input.xanthate',\n",
       "       'primary_cleaner.state.floatbank8_a_air',\n",
       "       'primary_cleaner.state.floatbank8_a_level',\n",
       "       'primary_cleaner.state.floatbank8_b_air',\n",
       "       'primary_cleaner.state.floatbank8_b_level',\n",
       "       'primary_cleaner.state.floatbank8_c_air',\n",
       "       'primary_cleaner.state.floatbank8_c_level',\n",
       "       'primary_cleaner.state.floatbank8_d_air',\n",
       "       'primary_cleaner.state.floatbank8_d_level',\n",
       "       'primary_cleaner.output.concentrate_au',\n",
       "       'primary_cleaner.output.concentrate_ag',\n",
       "       'primary_cleaner.output.concentrate_pb',\n",
       "       'primary_cleaner.output.concentrate_sol',\n",
       "       'primary_cleaner.output.tail_au', 'primary_cleaner.output.tail_ag',\n",
       "       'primary_cleaner.output.tail_pb', 'primary_cleaner.output.tail_sol',\n",
       "       'secondary_cleaner.state.floatbank2_a_air',\n",
       "       'secondary_cleaner.state.floatbank2_a_level',\n",
       "       'secondary_cleaner.state.floatbank2_b_air',\n",
       "       'secondary_cleaner.state.floatbank2_b_level',\n",
       "       'secondary_cleaner.state.floatbank3_a_air',\n",
       "       'secondary_cleaner.state.floatbank3_a_level',\n",
       "       'secondary_cleaner.state.floatbank3_b_air',\n",
       "       'secondary_cleaner.state.floatbank3_b_level',\n",
       "       'secondary_cleaner.state.floatbank4_a_air',\n",
       "       'secondary_cleaner.state.floatbank4_a_level',\n",
       "       'secondary_cleaner.state.floatbank4_b_air',\n",
       "       'secondary_cleaner.state.floatbank4_b_level',\n",
       "       'secondary_cleaner.state.floatbank5_a_air',\n",
       "       'secondary_cleaner.state.floatbank5_a_level',\n",
       "       'secondary_cleaner.state.floatbank5_b_air',\n",
       "       'secondary_cleaner.state.floatbank5_b_level',\n",
       "       'secondary_cleaner.state.floatbank6_a_air',\n",
       "       'secondary_cleaner.state.floatbank6_a_level',\n",
       "       'secondary_cleaner.output.tail_au', 'secondary_cleaner.output.tail_ag',\n",
       "       'secondary_cleaner.output.tail_pb', 'secondary_cleaner.output.tail_sol',\n",
       "       'final.output.concentrate_au', 'final.output.concentrate_ag',\n",
       "       'final.output.concentrate_pb', 'final.output.concentrate_sol',\n",
       "       'final.output.recovery', 'final.output.tail_au', 'final.output.tail_ag',\n",
       "       'final.output.tail_pb', 'final.output.tail_sol'],\n",
       "      dtype='object')"
      ]
     },
     "execution_count": 4,
     "metadata": {},
     "output_type": "execute_result"
    }
   ],
   "source": [
    "data_train.columns"
   ]
  },
  {
   "cell_type": "code",
   "execution_count": 5,
   "metadata": {
    "scrolled": true
   },
   "outputs": [
    {
     "name": "stdout",
     "output_type": "stream",
     "text": [
      "(14579, 87)\n",
      "(4860, 53)\n",
      "(19439, 87)\n"
     ]
    }
   ],
   "source": [
    "print(data_train.shape)\n",
    "print(data_test.shape)\n",
    "print(data_full.shape)"
   ]
  },
  {
   "cell_type": "markdown",
   "metadata": {},
   "source": [
    "### проверка расчетов эффективности обогащения"
   ]
  },
  {
   "cell_type": "code",
   "execution_count": 6,
   "metadata": {},
   "outputs": [],
   "source": [
    "def recovery(raw):\n",
    "    c = raw['rougher.output.concentrate_au']\n",
    "    f = raw['rougher.input.feed_au']\n",
    "    t = raw['rougher.output.tail_au']\n",
    "    try:\n",
    "        recovery = (c * (f - t)) / (f * (c -t)) * 100\n",
    "    except:\n",
    "        return np.nan\n",
    "    return recovery"
   ]
  },
  {
   "cell_type": "code",
   "execution_count": 7,
   "metadata": {},
   "outputs": [
    {
     "name": "stdout",
     "output_type": "stream",
     "text": [
      "9.83758577644259e-15\n"
     ]
    }
   ],
   "source": [
    "print(\n",
    "    mae(\n",
    "        data_train.apply(recovery, axis = 1),\n",
    "        data_train['rougher.output.recovery']\n",
    "    )\n",
    ")"
   ]
  },
  {
   "cell_type": "markdown",
   "metadata": {},
   "source": [
    "скорее всего разница возникла из-за округления или погрешностей измерений\n",
    "\n",
    "разница не существенная"
   ]
  },
  {
   "cell_type": "markdown",
   "metadata": {},
   "source": [
    "### Изучение признаков, недоступных в тестовой выборке"
   ]
  },
  {
   "cell_type": "code",
   "execution_count": 8,
   "metadata": {},
   "outputs": [
    {
     "data": {
      "text/plain": [
       "Index(['final.output.concentrate_ag', 'final.output.concentrate_au',\n",
       "       'final.output.concentrate_pb', 'final.output.concentrate_sol',\n",
       "       'final.output.recovery', 'final.output.tail_ag', 'final.output.tail_au',\n",
       "       'final.output.tail_pb', 'final.output.tail_sol',\n",
       "       'primary_cleaner.output.concentrate_ag',\n",
       "       'primary_cleaner.output.concentrate_au',\n",
       "       'primary_cleaner.output.concentrate_pb',\n",
       "       'primary_cleaner.output.concentrate_sol',\n",
       "       'primary_cleaner.output.tail_ag', 'primary_cleaner.output.tail_au',\n",
       "       'primary_cleaner.output.tail_pb', 'primary_cleaner.output.tail_sol',\n",
       "       'rougher.calculation.au_pb_ratio',\n",
       "       'rougher.calculation.floatbank10_sulfate_to_au_feed',\n",
       "       'rougher.calculation.floatbank11_sulfate_to_au_feed',\n",
       "       'rougher.calculation.sulfate_to_au_concentrate',\n",
       "       'rougher.output.concentrate_ag', 'rougher.output.concentrate_au',\n",
       "       'rougher.output.concentrate_pb', 'rougher.output.concentrate_sol',\n",
       "       'rougher.output.recovery', 'rougher.output.tail_ag',\n",
       "       'rougher.output.tail_au', 'rougher.output.tail_pb',\n",
       "       'rougher.output.tail_sol', 'secondary_cleaner.output.tail_ag',\n",
       "       'secondary_cleaner.output.tail_au', 'secondary_cleaner.output.tail_pb',\n",
       "       'secondary_cleaner.output.tail_sol'],\n",
       "      dtype='object')"
      ]
     },
     "execution_count": 8,
     "metadata": {},
     "output_type": "execute_result"
    }
   ],
   "source": [
    "data_train.columns.symmetric_difference(data_test.columns)"
   ]
  },
  {
   "cell_type": "markdown",
   "metadata": {},
   "source": [
    "в тестовом наборе отсутствуют признаки, которые замеряются позже, а также целевые признаки(в тестовом наборе присутствуют только признаки которые будут доступны во время эксплуатации модели)"
   ]
  },
  {
   "cell_type": "markdown",
   "metadata": {},
   "source": [
    "### Предобработка данных"
   ]
  },
  {
   "cell_type": "code",
   "execution_count": 9,
   "metadata": {},
   "outputs": [
    {
     "name": "stdout",
     "output_type": "stream",
     "text": [
      "обущающая выборка содержит:\n",
      " secondary_cleaner.output.tail_sol         920\n",
      "rougher.state.floatbank10_e_air           429\n",
      "rougher.input.floatbank11_xanthate        407\n",
      "primary_cleaner.output.concentrate_sol    265\n",
      "final.output.concentrate_sol              192\n",
      "dtype: int64 пропусков\n",
      "тестовая выборка содержит:\n",
      " secondary_cleaner.state.floatbank2_a_air    126\n",
      "rougher.input.floatbank11_xanthate           46\n",
      "rougher.input.feed_size                      44\n",
      "primary_cleaner.input.xanthate               43\n",
      "rougher.input.feed_pb                        28\n",
      "dtype: int64, пропусков\n",
      "полная выборка содержит:\n",
      " secondary_cleaner.output.tail_sol           1748\n",
      "rougher.input.floatbank11_xanthate           453\n",
      "rougher.state.floatbank10_e_air              436\n",
      "primary_cleaner.output.concentrate_sol       370\n",
      "secondary_cleaner.state.floatbank2_a_air     220\n",
      "dtype: int64, пропусков\n"
     ]
    }
   ],
   "source": [
    "print('обущающая выборка содержит:\\n', data_train.isna().sum().sort_values(ascending = False).head(), \"пропусков\")\n",
    "print(f\"тестовая выборка содержит:\\n {data_test.isna().sum().sort_values(ascending = False).head()}, пропусков\")\n",
    "print(f\"полная выборка содержит:\\n {data_full.isna().sum().sort_values(ascending = False).head()}, пропусков\")"
   ]
  },
  {
   "cell_type": "markdown",
   "metadata": {},
   "source": [
    "В обучающей и тестовой выборках были обнаружены пропуски. Пропусков в secondary_cleaner.output.tail_sol около 6%. кол-во пропусков в остальных столбцах незначительное"
   ]
  },
  {
   "cell_type": "code",
   "execution_count": 10,
   "metadata": {},
   "outputs": [],
   "source": [
    "data_test.dropna(inplace = True)\n",
    "data_train.dropna(inplace = True)"
   ]
  },
  {
   "cell_type": "markdown",
   "metadata": {},
   "source": [
    "## Анализ данных"
   ]
  },
  {
   "cell_type": "markdown",
   "metadata": {},
   "source": [
    "### Изучение концентрации металов au,pb,ag на различных этапах"
   ]
  },
  {
   "cell_type": "code",
   "execution_count": 11,
   "metadata": {},
   "outputs": [],
   "source": [
    "data_train_filt = data_train\n",
    "data_test_filt = data_test"
   ]
  },
  {
   "cell_type": "code",
   "execution_count": 12,
   "metadata": {},
   "outputs": [
    {
     "name": "stdout",
     "output_type": "stream",
     "text": [
      "mean     8.526306\n",
      "std      1.821282\n",
      "min      0.010000\n",
      "25%      7.087555\n",
      "50%      8.370199\n",
      "75%      9.947442\n",
      "max     13.731330\n",
      "Name: rougher.input.feed_au, dtype: float64\n",
      "mean    19.955100\n",
      "std      3.916161\n",
      "min      0.000000\n",
      "25%     19.136818\n",
      "50%     20.505897\n",
      "75%     21.928527\n",
      "max     28.824507\n",
      "Name: rougher.output.concentrate_au, dtype: float64\n",
      "mean    32.009648\n",
      "std      5.393016\n",
      "min      0.000000\n",
      "25%     30.256478\n",
      "50%     32.657458\n",
      "75%     34.853186\n",
      "max     45.933934\n",
      "Name: primary_cleaner.output.concentrate_au, dtype: float64\n",
      "mean    44.264355\n",
      "std      4.405221\n",
      "min      0.000000\n",
      "25%     43.406787\n",
      "50%     44.982441\n",
      "75%     46.253263\n",
      "max     51.233068\n",
      "Name: final.output.concentrate_au, dtype: float64\n",
      "mean     8.988052\n",
      "std      1.909020\n",
      "min      0.010000\n",
      "25%      7.438985\n",
      "50%      8.876414\n",
      "75%     10.389965\n",
      "max     14.596026\n",
      "Name: rougher.input.feed_ag, dtype: float64\n",
      "mean    12.007146\n",
      "std      2.840801\n",
      "min      0.000000\n",
      "25%     10.627091\n",
      "50%     12.201344\n",
      "75%     13.811787\n",
      "max     21.393960\n",
      "Name: rougher.output.concentrate_ag, dtype: float64\n",
      "mean     8.647857\n",
      "std      1.976063\n",
      "min      0.000000\n",
      "25%      7.522840\n",
      "50%      8.704608\n",
      "75%      9.931692\n",
      "max     15.005789\n",
      "Name: primary_cleaner.output.concentrate_ag, dtype: float64\n",
      "mean     5.183165\n",
      "std      1.338941\n",
      "min      0.000000\n",
      "25%      4.277477\n",
      "50%      5.077489\n",
      "75%      5.884423\n",
      "max     16.001945\n",
      "Name: final.output.concentrate_ag, dtype: float64\n",
      "mean    3.645455\n",
      "std     1.044827\n",
      "min     0.010000\n",
      "25%     2.929227\n",
      "50%     3.583839\n",
      "75%     4.278124\n",
      "max     7.052325\n",
      "Name: rougher.input.feed_pb, dtype: float64\n",
      "mean     7.514193\n",
      "std      1.771952\n",
      "min      0.000000\n",
      "25%      6.687909\n",
      "50%      7.702312\n",
      "75%      8.511913\n",
      "max     12.702148\n",
      "Name: rougher.output.concentrate_pb, dtype: float64\n",
      "mean     9.869133\n",
      "std      2.430629\n",
      "min      0.000000\n",
      "25%      8.813224\n",
      "50%     10.187193\n",
      "75%     11.410810\n",
      "max     17.081278\n",
      "Name: primary_cleaner.output.concentrate_pb, dtype: float64\n",
      "mean     9.994056\n",
      "std      1.588296\n",
      "min      0.000000\n",
      "25%      9.100068\n",
      "50%     10.091336\n",
      "75%     11.028972\n",
      "max     15.962201\n",
      "Name: final.output.concentrate_pb, dtype: float64\n"
     ]
    }
   ],
   "source": [
    "for metal in ['au', 'ag', 'pb']:\n",
    "    for a in ['rougher','primary_cleaner', 'secondary_cleaner', 'final']:\n",
    "        for b in ['input', 'output']:\n",
    "            for c in ['feed_','concentrate_']:\n",
    "                try:\n",
    "                    print(data_train[f\"{a}.{b}.{c}{metal}\"].describe()['mean' : 'max'])\n",
    "                except:\n",
    "                    pass\n",
    "                "
   ]
  },
  {
   "cell_type": "markdown",
   "metadata": {},
   "source": [
    "Были обнаружены аномалии(нулевые значения концентраций)"
   ]
  },
  {
   "cell_type": "code",
   "execution_count": 13,
   "metadata": {},
   "outputs": [],
   "source": [
    "\n",
    "for metal in ['au']:\n",
    "    for a in ['rougher','primary_cleaner', 'secondary_cleaner', 'final']:\n",
    "        for b in ['input', 'output']:\n",
    "            for c in ['feed_','concentrate_']:\n",
    "                try:\n",
    "                    data_train_filt = data_train_filt[data_train_filt[f\"{a}.{b}.{c}{metal}\"] != 0]\n",
    "                    data_train_test = data_train_test[data_train_test[f\"{a}.{b}.{c}{metal}\"] != 0]\n",
    "                    \n",
    "                except:\n",
    "                    pass"
   ]
  },
  {
   "cell_type": "markdown",
   "metadata": {},
   "source": [
    "строки с нулевыми концентрациями были удалены"
   ]
  },
  {
   "cell_type": "code",
   "execution_count": 14,
   "metadata": {},
   "outputs": [
    {
     "name": "stdout",
     "output_type": "stream",
     "text": [
      "\t\tau:\n"
     ]
    },
    {
     "data": {
      "image/png": "[encoded data removed]",
      "text/plain": [
       "<Figure size 432x288 with 1 Axes>"
      ]
     },
     "metadata": {
      "needs_background": "light"
     },
     "output_type": "display_data"
    },
    {
     "name": "stdout",
     "output_type": "stream",
     "text": [
      "\t\tag:\n"
     ]
    },
    {
     "data": {
      "image/png": "[encoded data removed]",
      "text/plain": [
       "<Figure size 432x288 with 1 Axes>"
      ]
     },
     "metadata": {
      "needs_background": "light"
     },
     "output_type": "display_data"
    },
    {
     "name": "stdout",
     "output_type": "stream",
     "text": [
      "\t\tpb:\n"
     ]
    },
    {
     "data": {
      "image/png": "[encoded data removed]",
      "text/plain": [
       "<Figure size 432x288 with 1 Axes>"
      ]
     },
     "metadata": {
      "needs_background": "light"
     },
     "output_type": "display_data"
    },
    {
     "name": "stdout",
     "output_type": "stream",
     "text": [
      "     au_mean  au_median    ag_mean  ag_median    pb_mean  pb_median\n",
      "0   8.521535   8.376044   8.986629   8.891867   3.637816   3.572770\n",
      "1  20.457120  20.564280  12.308580  12.287832   7.699063   7.736866\n",
      "2  32.169570  32.637801   8.722006   8.747413   9.913118  10.181467\n",
      "3  44.396797  44.969243   5.212260   5.102267  10.029213  10.090205\n"
     ]
    }
   ],
   "source": [
    "me = 'au'\n",
    "co = 0\n",
    "temp_df = pd.DataFrame()\n",
    "for metal in ['au', 'ag', 'pb']:\n",
    "    for a in ['rougher','primary_cleaner', 'secondary_cleaner', 'final']:\n",
    "        for b in ['input', 'output']:\n",
    "            for c in ['feed_','concentrate_']:\n",
    "                if me == metal:\n",
    "                    co+= 1\n",
    "                else:\n",
    "                    co = 1\n",
    "                    me = metal\n",
    "                try:\n",
    "                    temp_df.loc[co - 1, metal + '_mean'] = data_train_filt[f\"{a}.{b}.{c}{metal}\"].mean()\n",
    "                    temp_df.loc[co - 1, metal + '_median'] = data_train_filt[f\"{a}.{b}.{c}{metal}\"].median()\n",
    "                    plt.hist(data_train_filt[f\"{a}.{b}.{c}{metal}\"],bins = 50, label = co,alpha = 0.7)\n",
    "                    if metal == \"au\":\n",
    "                        plt.xlim(0,50)\n",
    "                    else:\n",
    "                        plt.xlim(0,20)\n",
    "                    if co == 4:\n",
    "                        plt.legend(loc = 'upper right')\n",
    "                        print(f\"\\t\\t{metal}:\")\n",
    "                        plt.show()\n",
    "                except:\n",
    "                    co = co-1\n",
    "print(temp_df)"
   ]
  },
  {
   "cell_type": "markdown",
   "metadata": {},
   "source": [
    "Концентрация au значительно возрастает после каждого этапа\n",
    "\n",
    "концентрация ag вырастает после флотации, а потом падает после каждого следующего этапа\n",
    "\n",
    "концентрация pb растет после флотации и первой обработки, дальше значительных изменений нет\n"
   ]
  },
  {
   "cell_type": "markdown",
   "metadata": {},
   "source": [
    "### Сравнение распределений гранул сырья на обучающей и тестовой выборках"
   ]
  },
  {
   "cell_type": "markdown",
   "metadata": {},
   "source": [
    "Изучение размеров гранул сырья до флотации"
   ]
  },
  {
   "cell_type": "code",
   "execution_count": 15,
   "metadata": {},
   "outputs": [
    {
     "data": {
      "image/png": "[encoded data removed]",
      "text/plain": [
       "<Figure size 864x648 with 1 Axes>"
      ]
     },
     "metadata": {
      "needs_background": "light"
     },
     "output_type": "display_data"
    }
   ],
   "source": [
    "plt.figure(figsize=[12,9])\n",
    "\n",
    "plt.hist(data_train_filt['rougher.input.feed_size'], bins=200, label = 'Train rougher.input.feed_size', alpha=.5, density=True)\n",
    "plt.hist(data_test_filt['rougher.input.feed_size'], bins=200, label = 'Test rougher.input.feed_size', alpha=.5, density=True)\n",
    "\n",
    "plt.xlabel(\"Размер гранул сырья\")\n",
    "plt.ylabel(\"Количество\")\n",
    "\n",
    "plt.legend(loc='upper left', fontsize='x-large')\n",
    "\n",
    "plt.title(\"Гистограмма распределения гранул сырья перед флотацией\")\n",
    "plt.show()"
   ]
  },
  {
   "cell_type": "markdown",
   "metadata": {},
   "source": [
    "По графику можно сделать вывод, что размер гранул сырья в обеих выборках распределен нормально, со смещением влево. Размер гранул не отличается сильно"
   ]
  },
  {
   "cell_type": "markdown",
   "metadata": {},
   "source": [
    "### Исследование сумарной концентрации металлов на разных этапах"
   ]
  },
  {
   "cell_type": "code",
   "execution_count": 16,
   "metadata": {},
   "outputs": [],
   "source": [
    "rougher_input = (data_train_filt['rougher.input.feed_au'] + \n",
    "                                        data_train_filt['rougher.input.feed_ag'] + \n",
    "                                        data_train_filt['rougher.input.feed_pb'] +\n",
    "                                        data_train_filt['rougher.input.feed_sol'])\n",
    "final_output = (data_train_filt['final.output.concentrate_au'] + \n",
    "                                      data_train_filt['final.output.concentrate_ag'] + \n",
    "                                      data_train_filt['final.output.concentrate_pb'] +\n",
    "                                      data_train_filt['final.output.concentrate_sol'])\n",
    "primary_cleaner_output = (data_train_filt['primary_cleaner.output.concentrate_au'] + \n",
    "                                                data_train_filt['primary_cleaner.output.concentrate_ag'] + \n",
    "                                                data_train_filt['primary_cleaner.output.concentrate_pb'] +\n",
    "                                                data_train_filt['primary_cleaner.output.concentrate_sol'])\n",
    "rougher_output = (data_train_filt['rougher.output.concentrate_au'] + \n",
    "                                        data_train_filt['rougher.output.concentrate_ag'] + \n",
    "                                        data_train_filt['rougher.output.concentrate_pb'] +\n",
    "                                        data_train_filt['rougher.output.concentrate_sol'])"
   ]
  },
  {
   "cell_type": "code",
   "execution_count": 17,
   "metadata": {
    "scrolled": true
   },
   "outputs": [
    {
     "data": {
      "image/png": "[encoded data removed]",
      "text/plain": [
       "<Figure size 864x648 with 1 Axes>"
      ]
     },
     "metadata": {
      "needs_background": "light"
     },
     "output_type": "display_data"
    }
   ],
   "source": [
    "plt.figure(figsize=[12,9])\n",
    "\n",
    "plt.hist(final_output, bins=100, label = 'final_output', alpha=0.5)\n",
    "plt.hist(primary_cleaner_output, bins=100, label = 'primary_cleaner_output', alpha=0.5)\n",
    "plt.hist(rougher_output, bins=100, label = 'rougher_output', alpha=0.5)\n",
    "plt.hist(rougher_input, bins=100, label = 'rougher_input', alpha=0.5)\n",
    "plt.xlim([0, 100])\n",
    "plt.ylim([0, 1400])\n",
    "\n",
    "plt.xlabel(\"Концентрация\")\n",
    "plt.ylabel(\"Количество \")\n",
    "\n",
    "plt.legend(loc='upper left', fontsize='x-large')\n",
    "\n",
    "plt.title(\"Гистограмма распределения концентраций на разных этапах очистки\")\n",
    "plt.show()"
   ]
  },
  {
   "cell_type": "markdown",
   "metadata": {},
   "source": [
    "Было обнаружено большое кол-во аномалий около 0 после первичного этапа очистки"
   ]
  },
  {
   "cell_type": "code",
   "execution_count": 18,
   "metadata": {},
   "outputs": [
    {
     "data": {
      "image/png": "[encoded data removed]",
      "text/plain": [
       "<Figure size 864x648 with 1 Axes>"
      ]
     },
     "metadata": {
      "needs_background": "light"
     },
     "output_type": "display_data"
    }
   ],
   "source": [
    "plt.figure(figsize=[12,9])\n",
    "\n",
    "plt.hist(final_output, bins=100, label = 'final_output', alpha=0.5)\n",
    "plt.hist(primary_cleaner_output, bins=100, label = 'primary_cleaner_output', alpha=0.5)\n",
    "plt.hist(rougher_output, bins=100, label = 'rougher_output', alpha=0.5)\n",
    "\n",
    "plt.xlim([0, 20])\n",
    "plt.ylim([0, 100])\n",
    "\n",
    "plt.xlabel(\"Концентрация\")\n",
    "plt.ylabel(\"Количество \")\n",
    "\n",
    "plt.legend(loc='upper left', fontsize='x-large')\n",
    "\n",
    "plt.title(\"Гистограмма распределения концентраций на разных этапах очистки\")\n",
    "plt.show()"
   ]
  },
  {
   "cell_type": "code",
   "execution_count": 19,
   "metadata": {},
   "outputs": [],
   "source": [
    "#data_train_filt = data_train_filt[data_train_filt['primary_cleaner.output.concentrate_au'] != 0]"
   ]
  },
  {
   "cell_type": "code",
   "execution_count": 20,
   "metadata": {},
   "outputs": [
    {
     "data": {
      "image/png": "[encoded data removed]",
      "text/plain": [
       "<Figure size 864x648 with 1 Axes>"
      ]
     },
     "metadata": {
      "needs_background": "light"
     },
     "output_type": "display_data"
    }
   ],
   "source": [
    "plt.figure(figsize=[12,9])\n",
    "\n",
    "plt.hist(final_output, bins=10, label = 'final_output', alpha=0.5)\n",
    "plt.hist(primary_cleaner_output, bins=10, label = 'primary_cleaner_output', alpha=0.5)\n",
    "plt.hist(rougher_output, bins=10, label = 'rougher_output', alpha=0.5)\n",
    "plt.hist(rougher_input, bins=100, label = 'rougher_input', alpha=0.5)\n",
    "\n",
    "plt.xlim([0, 1])\n",
    "plt.ylim([0, 100])\n",
    "\n",
    "plt.xlabel(\"Концентрация\")\n",
    "plt.ylabel(\"Количество \")\n",
    "\n",
    "plt.legend(loc='upper left', fontsize='x-large')\n",
    "\n",
    "plt.title(\"Гистограмма распределения концентраций на разных этапах очистки\")\n",
    "plt.show()"
   ]
  },
  {
   "cell_type": "markdown",
   "metadata": {},
   "source": [
    "После увеличения графика было обнаружено, что суммарной концентрации = 0 нет"
   ]
  },
  {
   "cell_type": "code",
   "execution_count": 21,
   "metadata": {},
   "outputs": [
    {
     "data": {
      "image/png": "[encoded data removed]",
      "text/plain": [
       "<Figure size 864x648 with 1 Axes>"
      ]
     },
     "metadata": {
      "needs_background": "light"
     },
     "output_type": "display_data"
    }
   ],
   "source": [
    "plt.figure(figsize=[12,9])\n",
    "\n",
    "plt.hist(final_output, bins=100, label = 'final_output', alpha=0.5)\n",
    "plt.hist(primary_cleaner_output, bins=100, label = 'primary_cleaner_output', alpha=0.5)\n",
    "plt.hist(rougher_output, bins=100, label = 'rougher_output', alpha=0.5)\n",
    "plt.hist(rougher_input, bins=100, label = 'rougher_input', alpha=0.5)\n",
    "\n",
    "plt.xlim([50, 100])\n",
    "plt.ylim([0, 1400])\n",
    "\n",
    "plt.xlabel(\"Концентрация\")\n",
    "plt.ylabel(\"Количество \")\n",
    "\n",
    "plt.legend(loc='upper left', fontsize='x-large')\n",
    "\n",
    "plt.title(\"Гистограмма распределения концентраций на разных этапах очистки\")\n",
    "plt.show()"
   ]
  },
  {
   "cell_type": "code",
   "execution_count": 22,
   "metadata": {},
   "outputs": [
    {
     "name": "stdout",
     "output_type": "stream",
     "text": [
      "после флотации:\n",
      " count    11922.000000\n",
      "mean        70.144223\n",
      "std          7.524946\n",
      "min          0.040000\n",
      "25%         66.944141\n",
      "50%         70.858098\n",
      "75%         74.880902\n",
      "max         87.273435\n",
      "dtype: float64\n",
      "после первичной очистки: \n",
      " count    11922.000000\n",
      "mean        61.596401\n",
      "std          8.116566\n",
      "min          0.040000\n",
      "25%         59.524469\n",
      "50%         62.766197\n",
      "75%         65.815772\n",
      "max         78.255313\n",
      "dtype: float64\n",
      "финальный концентрат: \n",
      " count    11922.000000\n",
      "mean        69.551572\n",
      "std          4.878268\n",
      "min         11.078117\n",
      "25%         68.378757\n",
      "50%         69.955769\n",
      "75%         71.688203\n",
      "max         80.210644\n",
      "dtype: float64\n",
      "До флотации: count    11922.000000\n",
      "mean        58.044801\n",
      "std          6.808861\n",
      "min          0.040000\n",
      "25%         54.269788\n",
      "50%         58.230343\n",
      "75%         62.574433\n",
      "max         76.978947\n",
      "dtype: float64\n"
     ]
    }
   ],
   "source": [
    "print('после флотации:\\n', rougher_output.describe())\n",
    "print('после первичной очистки: \\n', primary_cleaner_output.describe())\n",
    "print('финальный концентрат: \\n', final_output.describe())\n",
    "print(f'До флотации: {rougher_input.describe()}')"
   ]
  },
  {
   "cell_type": "markdown",
   "metadata": {},
   "source": [
    "Самые высокие значения концентраций после флотации. После первичной очистки они уменьшаются, а потом увеличиваются после второго этапа очистки. В финальном концентрате наименьший разброс значений концентрации,а также наивысший первый квартиль."
   ]
  },
  {
   "cell_type": "markdown",
   "metadata": {},
   "source": [
    "## Модель"
   ]
  },
  {
   "cell_type": "markdown",
   "metadata": {},
   "source": [
    "### Функция для расчета sMAPE"
   ]
  },
  {
   "cell_type": "code",
   "execution_count": 23,
   "metadata": {},
   "outputs": [],
   "source": [
    "def sMAPE(true, predict):\n",
    "    return 1 / len(true) * sum( abs(true - predict) / ( (abs(true) + abs(predict)) * 0.5) ) * 100"
   ]
  },
  {
   "cell_type": "code",
   "execution_count": 24,
   "metadata": {},
   "outputs": [],
   "source": [
    "def sMAPE_score(smape_r, smape_f):\n",
    "    return 0.25 * smape_r + 0.75 * smape_f"
   ]
  },
  {
   "cell_type": "markdown",
   "metadata": {},
   "source": [
    "### Разделение обучающей выборки на features и target"
   ]
  },
  {
   "cell_type": "code",
   "execution_count": 25,
   "metadata": {},
   "outputs": [
    {
     "name": "stdout",
     "output_type": "stream",
     "text": [
      "Index(['date', 'rougher.input.feed_au', 'rougher.input.feed_ag',\n",
      "       'rougher.input.feed_pb', 'rougher.input.feed_sol',\n",
      "       'rougher.input.feed_rate', 'rougher.input.feed_size',\n",
      "       'rougher.input.floatbank10_sulfate',\n",
      "       'rougher.input.floatbank10_xanthate', 'rougher.state.floatbank10_a_air',\n",
      "       'rougher.state.floatbank10_a_level', 'rougher.state.floatbank10_b_air',\n",
      "       'rougher.state.floatbank10_b_level', 'rougher.state.floatbank10_c_air',\n",
      "       'rougher.state.floatbank10_c_level', 'rougher.state.floatbank10_d_air',\n",
      "       'rougher.state.floatbank10_d_level', 'rougher.state.floatbank10_e_air',\n",
      "       'rougher.state.floatbank10_e_level', 'rougher.state.floatbank10_f_air',\n",
      "       'rougher.state.floatbank10_f_level',\n",
      "       'rougher.input.floatbank11_sulfate',\n",
      "       'rougher.input.floatbank11_xanthate', 'primary_cleaner.input.sulfate',\n",
      "       'primary_cleaner.input.depressant', 'primary_cleaner.input.feed_size',\n",
      "       'primary_cleaner.input.xanthate',\n",
      "       'primary_cleaner.state.floatbank8_a_air',\n",
      "       'primary_cleaner.state.floatbank8_a_level',\n",
      "       'primary_cleaner.state.floatbank8_b_air',\n",
      "       'primary_cleaner.state.floatbank8_b_level',\n",
      "       'primary_cleaner.state.floatbank8_c_air',\n",
      "       'primary_cleaner.state.floatbank8_c_level',\n",
      "       'primary_cleaner.state.floatbank8_d_air',\n",
      "       'primary_cleaner.state.floatbank8_d_level',\n",
      "       'secondary_cleaner.state.floatbank2_a_air',\n",
      "       'secondary_cleaner.state.floatbank2_a_level',\n",
      "       'secondary_cleaner.state.floatbank2_b_air',\n",
      "       'secondary_cleaner.state.floatbank2_b_level',\n",
      "       'secondary_cleaner.state.floatbank3_a_air',\n",
      "       'secondary_cleaner.state.floatbank3_a_level',\n",
      "       'secondary_cleaner.state.floatbank3_b_air',\n",
      "       'secondary_cleaner.state.floatbank3_b_level',\n",
      "       'secondary_cleaner.state.floatbank4_a_air',\n",
      "       'secondary_cleaner.state.floatbank4_a_level',\n",
      "       'secondary_cleaner.state.floatbank4_b_air',\n",
      "       'secondary_cleaner.state.floatbank4_b_level',\n",
      "       'secondary_cleaner.state.floatbank5_a_air',\n",
      "       'secondary_cleaner.state.floatbank5_a_level',\n",
      "       'secondary_cleaner.state.floatbank5_b_air',\n",
      "       'secondary_cleaner.state.floatbank5_b_level',\n",
      "       'secondary_cleaner.state.floatbank6_a_air',\n",
      "       'secondary_cleaner.state.floatbank6_a_level'],\n",
      "      dtype='object')\n"
     ]
    }
   ],
   "source": [
    "print(data_test_filt.columns)"
   ]
  },
  {
   "cell_type": "markdown",
   "metadata": {},
   "source": [
    "Все столбцы тестового набора данных, кроме date, необходимы для обучений."
   ]
  },
  {
   "cell_type": "code",
   "execution_count": 26,
   "metadata": {},
   "outputs": [],
   "source": [
    "full_features_columns = data_test_filt.columns[1:]\n",
    "rougher_features_columns = set(full_features_columns[12:34])\n",
    "final_features_columns = set(full_features_columns)"
   ]
  },
  {
   "cell_type": "markdown",
   "metadata": {},
   "source": [
    "Подготовка признаков для final.output"
   ]
  },
  {
   "cell_type": "code",
   "execution_count": 27,
   "metadata": {},
   "outputs": [],
   "source": [
    "train_features_full = (data_train_filt\n",
    "                       .drop((set(data_train_filt.columns) - final_features_columns), axis=1)\n",
    "                      )"
   ]
  },
  {
   "cell_type": "markdown",
   "metadata": {},
   "source": [
    "Подготовка признаков для rougher.output"
   ]
  },
  {
   "cell_type": "code",
   "execution_count": 28,
   "metadata": {},
   "outputs": [],
   "source": [
    "train_features_rougher = (train_features_full\n",
    "                          .drop((set(train_features_full.columns) - rougher_features_columns), axis=1)\n",
    "                         )"
   ]
  },
  {
   "cell_type": "markdown",
   "metadata": {},
   "source": [
    "Подготовка целевых признаков"
   ]
  },
  {
   "cell_type": "code",
   "execution_count": 29,
   "metadata": {},
   "outputs": [],
   "source": [
    "train_target_full = data_train_filt['final.output.recovery']\n",
    "train_target_rougher = data_train_filt['rougher.output.recovery']"
   ]
  },
  {
   "cell_type": "markdown",
   "metadata": {},
   "source": [
    "Подготовка признаков тестовой выборки"
   ]
  },
  {
   "cell_type": "code",
   "execution_count": 30,
   "metadata": {},
   "outputs": [],
   "source": [
    "test_features_full = data_test_filt.drop(\"date\",axis = 1)\n",
    "test_features_rougher = test_features_full.drop((set(test_features_full.columns) - rougher_features_columns), axis=1)"
   ]
  },
  {
   "cell_type": "markdown",
   "metadata": {},
   "source": [
    "Сохранение индексов тестовой выборки перед масштабированием"
   ]
  },
  {
   "cell_type": "code",
   "execution_count": 31,
   "metadata": {},
   "outputs": [],
   "source": [
    "test_features_rougher_index = test_features_rougher.index\n",
    "test_features_full_index = test_features_full.index"
   ]
  },
  {
   "cell_type": "markdown",
   "metadata": {},
   "source": [
    "Масштабирование признаков"
   ]
  },
  {
   "cell_type": "code",
   "execution_count": 32,
   "metadata": {},
   "outputs": [],
   "source": [
    "scaler = StandardScaler()\n",
    "scaler.fit(train_features_full)\n",
    "train_features_full = scaler.transform(train_features_full)\n",
    "test_features_full = scaler.transform(test_features_full)\n",
    "scaler.fit(train_features_rougher)\n",
    "train_features_rougher = scaler.transform(train_features_rougher)\n",
    "test_features_rougher = scaler.transform(test_features_rougher)"
   ]
  },
  {
   "cell_type": "markdown",
   "metadata": {},
   "source": [
    "### Поиск лучшей модели"
   ]
  },
  {
   "cell_type": "markdown",
   "metadata": {},
   "source": [
    "Линейная регрессия"
   ]
  },
  {
   "cell_type": "code",
   "execution_count": 33,
   "metadata": {},
   "outputs": [
    {
     "name": "stdout",
     "output_type": "stream",
     "text": [
      "sMAPE rougher: 6.46650368144242\n",
      "sMAPE cleaner: 9.007789307453805\n",
      "Final sMAPE: 8.372467900950959\n"
     ]
    }
   ],
   "source": [
    "model = LinearRegression()\n",
    "smape_f = cross_val_score(model,\n",
    "                             train_features_full,\n",
    "                             train_target_full,\n",
    "                             scoring = make_scorer(sMAPE),\n",
    "                             cv = 5).mean()\n",
    "smape_r = cross_val_score(model,\n",
    "                                train_features_rougher,\n",
    "                                train_target_rougher,\n",
    "                                scoring = make_scorer(sMAPE),\n",
    "                                cv = 5).mean()\n",
    "\n",
    "print('sMAPE rougher:', smape_r)\n",
    "print('sMAPE cleaner:', smape_f)\n",
    "print('Final sMAPE:', sMAPE_score(smape_r, smape_f))"
   ]
  },
  {
   "cell_type": "markdown",
   "metadata": {},
   "source": [
    "Дерево решений"
   ]
  },
  {
   "cell_type": "code",
   "execution_count": 34,
   "metadata": {},
   "outputs": [
    {
     "name": "stdout",
     "output_type": "stream",
     "text": [
      "Лучшее значение smape: 7.953545394628013\n",
      "Глубина: 1\n"
     ]
    }
   ],
   "source": [
    "best_score = 10\n",
    "best_depth = 0\n",
    "for depth in range(1, 10):\n",
    "    model = DecisionTreeRegressor(random_state=12345, max_depth=depth)\n",
    "    score_f = cross_val_score(\n",
    "                            model,\n",
    "                            train_features_full,\n",
    "                            train_target_full,\n",
    "                            cv=4,\n",
    "                            scoring=make_scorer(sMAPE)\n",
    "                            ).mean()\n",
    "    score_r = cross_val_score(\n",
    "                            model,\n",
    "                            train_features_rougher,\n",
    "                            train_target_rougher,\n",
    "                            cv=4,\n",
    "                            scoring=make_scorer(sMAPE)\n",
    "                            ).mean()\n",
    "    score = sMAPE_score(score_r, score_f)\n",
    "    if score < best_score:\n",
    "        best_score = score\n",
    "        best_depth = depth\n",
    "print(\"Лучшее значение smape:\", best_score)\n",
    "print('Глубина:', best_depth)"
   ]
  },
  {
   "cell_type": "markdown",
   "metadata": {},
   "source": [
    "Случайный лес"
   ]
  },
  {
   "cell_type": "code",
   "execution_count": 35,
   "metadata": {},
   "outputs": [
    {
     "name": "stdout",
     "output_type": "stream",
     "text": [
      "Лучшее значение количества деревьев: 40\n",
      "Лучшее значение глубины дерева: 1\n",
      "Лучшее значение smape: 7.898972383410717\n"
     ]
    }
   ],
   "source": [
    "best_score = 10\n",
    "best_depth = 0\n",
    "best_est = 0\n",
    "for depth in range(1, 5):\n",
    "    for trees in range(10, 61, 10):\n",
    "        model = RandomForestRegressor(random_state=12345, n_estimators=trees, max_depth=depth)\n",
    "        score_f = cross_val_score(\n",
    "                            model,\n",
    "                            train_features_full,\n",
    "                            train_target_full,\n",
    "                            cv=4,\n",
    "                            scoring=make_scorer(sMAPE)\n",
    "                            ).mean()\n",
    "        score_r = cross_val_score(\n",
    "                            model,\n",
    "                            train_features_rougher,\n",
    "                            train_target_rougher,\n",
    "                            cv=4,\n",
    "                            scoring=make_scorer(sMAPE)\n",
    "                            ).mean()\n",
    "        score = sMAPE_score(score_r, score_f)\n",
    "        if score < best_score:\n",
    "            best_score = score\n",
    "            best_depth = depth\n",
    "            best_trees = trees\n",
    "print(\"Лучшее значение количества деревьев:\", best_trees)\n",
    "print(\"Лучшее значение глубины дерева:\", best_depth)\n",
    "print(\"Лучшее значение smape:\", best_score)"
   ]
  },
  {
   "cell_type": "markdown",
   "metadata": {},
   "source": [
    "**Промежуточный вывод**\n",
    "\n",
    "функция sMAPE была создана, данные были успешно разделены и масштабированы.\n",
    "\n",
    "лучший результат показала модель случайного леса(smape = 7.606 при кол-во деревьев = 50 и глубине = 2)\n",
    "\n",
    "модель полиномиальной регрессии создать не удалось"
   ]
  },
  {
   "cell_type": "markdown",
   "metadata": {},
   "source": [
    "### Проверка моделей на тестовой выборке"
   ]
  },
  {
   "cell_type": "markdown",
   "metadata": {},
   "source": [
    "выделяю целевой признак в тестовой выборке"
   ]
  },
  {
   "cell_type": "code",
   "execution_count": 36,
   "metadata": {},
   "outputs": [],
   "source": [
    "test_target_rougher = pd.merge(\n",
    "    data_full, \n",
    "    data_test_filt[['date']], \n",
    "    on='date', \n",
    "    how='inner'\n",
    ")['rougher.output.recovery']\n",
    "\n",
    "test_target_full = pd.merge(\n",
    "    data_full, \n",
    "    data_test_filt[['date']], \n",
    "    on='date', \n",
    "    how='inner'\n",
    ")['final.output.recovery']"
   ]
  },
  {
   "cell_type": "code",
   "execution_count": 37,
   "metadata": {},
   "outputs": [
    {
     "name": "stdout",
     "output_type": "stream",
     "text": [
      "Для модели случайного леса sMAPE = 7.579006566912277\n"
     ]
    }
   ],
   "source": [
    "model = RandomForestRegressor(random_state=12345, max_depth = 2, n_estimators = 50)\n",
    "model.fit(train_features_full, train_target_full)\n",
    "predicted_full = model.predict(test_features_full)\n",
    "model.fit(train_features_rougher, train_target_rougher)\n",
    "predicted_rougher = model.predict(test_features_rougher)\n",
    "print(\"Для модели случайного леса sMAPE =\",\n",
    "      sMAPE_score(\n",
    "          sMAPE(test_target_rougher,predicted_rougher),\n",
    "          sMAPE(test_target_full, predicted_full)\n",
    "      )\n",
    "     )"
   ]
  },
  {
   "cell_type": "markdown",
   "metadata": {},
   "source": [
    "Результаты sMAPE для модели случайного леса = 7.58 \n",
    "\n",
    "Стоит сравнить результаты с константной моделью"
   ]
  },
  {
   "cell_type": "code",
   "execution_count": 38,
   "metadata": {
    "scrolled": true
   },
   "outputs": [
    {
     "name": "stdout",
     "output_type": "stream",
     "text": [
      "Для медианной константной модели sMAPE = 8.17075140631702\n"
     ]
    }
   ],
   "source": [
    "median_rougher = pd.Series(train_target_rougher.median(), index=test_target_rougher.index)\n",
    "median_full = pd.Series(train_target_full.median(), index=test_target_full.index)\n",
    "print('Для медианной константной модели sMAPE =',\n",
    "      sMAPE_score(\n",
    "          sMAPE(test_target_rougher, \n",
    "          median_rougher),\n",
    "          sMAPE(test_target_full,\n",
    "          median_full)\n",
    "      )\n",
    "     )"
   ]
  },
  {
   "cell_type": "markdown",
   "metadata": {},
   "source": [
    "sMAPE у медианной константной модели результат sMAPE оказался хуже, чем sMAPE случайного леса, что говорит об адекватности модели"
   ]
  },
  {
   "cell_type": "markdown",
   "metadata": {},
   "source": [
    "### Вывод\n",
    "\n",
    "Лучшая модель была проверена на тестовой выборке.\n",
    "\n",
    "При этом константная медианная модель прогнозирует целевой признак менее точно, о чем свидетельствует значение sMAPE.\n",
    "\n"
   ]
  },
  {
   "cell_type": "markdown",
   "metadata": {},
   "source": [
    "## Вывод\n",
    "\n",
    "Данные были загружены и изучены,  расчеты эффективности обогощения были проверенны, строки с пропусками были удалены.\n",
    "\n",
    "Концентрации металов на разных этапах, сумарные концентрации на разных этапах и распределение гранул сырья блыи изучены\n",
    "\n",
    "Концентрация au значительно возрастает после каждого этапа\n",
    "\n",
    "концентрация ag вырастает после флотации, а потом падает после каждого следующего этапа\n",
    "\n",
    "концентрация pb растет после флотации и первой обработки, дальше значительных изменений нет\n",
    "\n",
    "размер гранул сырья в обеих выборках распределен нормально, со смещением влево. Размер гранул не отличается сильно\n",
    "\n",
    "Самые высокие значения концентраций после флотации. После первичной очистки они уменьшаются, а потом увеличиваются после второго этапа очистки. В финальном концентрате наименьший разброс значений концентрации,а также наивысший первый квартиль.\n",
    "\n",
    "Данные были разделены и масштабированы.\n",
    "\n",
    "Функция sMAPE была создана\n",
    "\n",
    "модели линейной регресии, случайного леса и дерева принятия решений были созданы. для моделей были подобраны лучшие параметры. была выбрана лучшая модель\n",
    "\n",
    "Лучшая модель была проверена на тестовой выборке. sMAPE этой модели оказался лучше, чем sMAPE константной медианной модели."
   ]
  },
  {
   "cell_type": "markdown",
   "metadata": {},
   "source": [
    "## Чек-лист готовности проекта"
   ]
  },
  {
   "cell_type": "markdown",
   "metadata": {},
   "source": [
    "- [x]  Jupyter Notebook открыт\n",
    "- [x]  Весь код выполняется без ошибок\n",
    "- [x]  Ячейки с кодом расположены в порядке выполнения\n",
    "- [x]  Выполнен шаг 1: данные подготовлены\n",
    "    - [x]  Проверена формула вычисления эффективности обогащения\n",
    "    - [x]  Проанализированы признаки, недоступные в тестовой выборке\n",
    "    - [x]  Проведена предобработка данных\n",
    "- [x]  Выполнен шаг 2: данные проанализированы\n",
    "    - [x]  Исследовано изменение концентрации элементов на каждом этапе\n",
    "    - [x]  Проанализированы распределения размеров гранул на обучающей и тестовой выборках\n",
    "    - [x]  Исследованы суммарные концентрации\n",
    "- [x]  Выполнен шаг 3: построена модель прогнозирования\n",
    "    - [x]  Написана функция для вычисления итогового *sMAPE*\n",
    "    - [x]  Обучено и проверено несколько моделей\n",
    "    - [x]  Выбрана лучшая модель, её качество проверено на тестовой выборке"
   ]
  }
 ],
 "metadata": {
  "ExecuteTimeLog": [
   {
    "duration": 409,
    "start_time": "2023-07-16T15:12:59.119Z"
   },
   {
    "duration": 110,
    "start_time": "2023-07-16T15:14:13.608Z"
   },
   {
    "duration": 3,
    "start_time": "2023-07-16T15:14:20.249Z"
   },
   {
    "duration": 52,
    "start_time": "2023-07-16T15:14:20.795Z"
   },
   {
    "duration": 52,
    "start_time": "2023-07-16T15:15:27.354Z"
   },
   {
    "duration": 53,
    "start_time": "2023-07-16T15:15:35.889Z"
   },
   {
    "duration": 17,
    "start_time": "2023-07-16T15:16:28.149Z"
   },
   {
    "duration": 15,
    "start_time": "2023-07-16T15:16:33.593Z"
   },
   {
    "duration": 13,
    "start_time": "2023-07-16T15:16:50.694Z"
   },
   {
    "duration": 3106,
    "start_time": "2023-07-16T15:17:33.890Z"
   },
   {
    "duration": 71,
    "start_time": "2023-07-16T15:18:34.414Z"
   },
   {
    "duration": 17,
    "start_time": "2023-07-16T15:30:23.701Z"
   },
   {
    "duration": 18,
    "start_time": "2023-07-16T15:30:42.882Z"
   },
   {
    "duration": 23,
    "start_time": "2023-07-16T15:30:49.937Z"
   },
   {
    "duration": 18,
    "start_time": "2023-07-16T15:30:52.195Z"
   },
   {
    "duration": 51,
    "start_time": "2023-07-17T12:08:13.068Z"
   },
   {
    "duration": 461,
    "start_time": "2023-07-17T12:08:16.992Z"
   },
   {
    "duration": 5104,
    "start_time": "2023-07-17T12:08:17.457Z"
   },
   {
    "duration": 76,
    "start_time": "2023-07-17T12:08:22.564Z"
   },
   {
    "duration": 21,
    "start_time": "2023-07-17T12:08:22.642Z"
   },
   {
    "duration": 4,
    "start_time": "2023-07-17T12:26:12.358Z"
   },
   {
    "duration": 505,
    "start_time": "2023-07-17T12:27:17.770Z"
   },
   {
    "duration": 5,
    "start_time": "2023-07-17T12:30:43.769Z"
   },
   {
    "duration": 280,
    "start_time": "2023-07-17T12:32:24.486Z"
   },
   {
    "duration": 332,
    "start_time": "2023-07-17T12:32:39.654Z"
   },
   {
    "duration": 298,
    "start_time": "2023-07-17T12:33:12.896Z"
   },
   {
    "duration": 298,
    "start_time": "2023-07-17T12:33:19.982Z"
   },
   {
    "duration": 6,
    "start_time": "2023-07-17T12:33:33.791Z"
   },
   {
    "duration": 363,
    "start_time": "2023-07-17T12:33:34.193Z"
   },
   {
    "duration": 1543,
    "start_time": "2023-07-17T21:35:58.790Z"
   },
   {
    "duration": 3,
    "start_time": "2023-07-17T21:36:05.356Z"
   },
   {
    "duration": 100,
    "start_time": "2023-07-17T22:17:55.613Z"
   },
   {
    "duration": 3,
    "start_time": "2023-07-17T22:17:58.080Z"
   },
   {
    "duration": 2213,
    "start_time": "2023-07-17T22:17:58.086Z"
   },
   {
    "duration": 58,
    "start_time": "2023-07-17T22:18:00.301Z"
   },
   {
    "duration": 20,
    "start_time": "2023-07-17T22:18:00.360Z"
   },
   {
    "duration": 24,
    "start_time": "2023-07-17T22:18:00.381Z"
   },
   {
    "duration": 1405,
    "start_time": "2023-07-17T22:18:00.407Z"
   },
   {
    "duration": 254,
    "start_time": "2023-07-17T22:18:19.401Z"
   },
   {
    "duration": 9,
    "start_time": "2023-07-17T22:38:28.106Z"
   },
   {
    "duration": 8,
    "start_time": "2023-07-17T22:38:52.050Z"
   },
   {
    "duration": 5,
    "start_time": "2023-07-17T22:38:58.144Z"
   },
   {
    "duration": 7,
    "start_time": "2023-07-17T22:39:17.348Z"
   },
   {
    "duration": 61,
    "start_time": "2023-07-21T13:07:55.604Z"
   },
   {
    "duration": 1659,
    "start_time": "2023-07-21T13:07:59.047Z"
   },
   {
    "duration": 3122,
    "start_time": "2023-07-21T13:08:00.708Z"
   },
   {
    "duration": 73,
    "start_time": "2023-07-21T13:08:03.832Z"
   },
   {
    "duration": 21,
    "start_time": "2023-07-21T13:08:03.915Z"
   },
   {
    "duration": 18,
    "start_time": "2023-07-21T13:08:03.938Z"
   },
   {
    "duration": 286,
    "start_time": "2023-07-21T13:08:03.958Z"
   },
   {
    "duration": 8,
    "start_time": "2023-07-21T13:08:04.246Z"
   },
   {
    "duration": 72,
    "start_time": "2023-07-21T13:08:04.256Z"
   },
   {
    "duration": 14,
    "start_time": "2023-07-21T13:08:34.256Z"
   },
   {
    "duration": 14,
    "start_time": "2023-07-21T13:08:46.428Z"
   },
   {
    "duration": 80,
    "start_time": "2023-07-21T13:09:18.407Z"
   },
   {
    "duration": 10,
    "start_time": "2023-07-21T13:09:26.715Z"
   },
   {
    "duration": 12,
    "start_time": "2023-07-21T13:09:34.258Z"
   },
   {
    "duration": 34,
    "start_time": "2023-07-21T13:11:11.718Z"
   },
   {
    "duration": 19,
    "start_time": "2023-07-21T13:11:21.762Z"
   },
   {
    "duration": 47,
    "start_time": "2023-07-21T13:11:47.661Z"
   },
   {
    "duration": 135,
    "start_time": "2023-07-21T13:12:01.670Z"
   },
   {
    "duration": 30,
    "start_time": "2023-07-21T13:12:05.058Z"
   },
   {
    "duration": 17,
    "start_time": "2023-07-21T13:12:12.884Z"
   },
   {
    "duration": 10,
    "start_time": "2023-07-21T13:12:23.394Z"
   },
   {
    "duration": 22,
    "start_time": "2023-07-21T13:12:26.103Z"
   },
   {
    "duration": 3,
    "start_time": "2023-07-21T13:13:07.864Z"
   },
   {
    "duration": 10,
    "start_time": "2023-07-21T13:14:36.841Z"
   },
   {
    "duration": 9,
    "start_time": "2023-07-21T13:14:44.232Z"
   },
   {
    "duration": 10,
    "start_time": "2023-07-21T13:15:27.435Z"
   },
   {
    "duration": 9,
    "start_time": "2023-07-21T13:15:34.803Z"
   },
   {
    "duration": 12,
    "start_time": "2023-07-21T13:15:39.373Z"
   },
   {
    "duration": 12,
    "start_time": "2023-07-21T13:17:14.268Z"
   },
   {
    "duration": 124,
    "start_time": "2023-07-21T13:17:48.256Z"
   },
   {
    "duration": 18,
    "start_time": "2023-07-21T13:17:51.410Z"
   },
   {
    "duration": 17,
    "start_time": "2023-07-21T13:18:18.984Z"
   },
   {
    "duration": 39,
    "start_time": "2023-07-21T13:35:22.208Z"
   },
   {
    "duration": 18,
    "start_time": "2023-07-21T13:35:47.897Z"
   },
   {
    "duration": 11,
    "start_time": "2023-07-21T13:49:55.655Z"
   },
   {
    "duration": 5,
    "start_time": "2023-07-21T14:26:22.211Z"
   },
   {
    "duration": 5,
    "start_time": "2023-07-21T14:26:31.306Z"
   },
   {
    "duration": 2183,
    "start_time": "2023-07-21T14:26:47.658Z"
   },
   {
    "duration": 9,
    "start_time": "2023-07-21T14:27:23.324Z"
   },
   {
    "duration": 5,
    "start_time": "2023-07-21T14:27:28.704Z"
   },
   {
    "duration": 2081,
    "start_time": "2023-07-21T14:27:57.940Z"
   },
   {
    "duration": 3,
    "start_time": "2023-07-21T14:28:29.460Z"
   },
   {
    "duration": 3,
    "start_time": "2023-07-21T14:33:41.671Z"
   },
   {
    "duration": 5419,
    "start_time": "2023-07-21T14:33:53.868Z"
   },
   {
    "duration": 8,
    "start_time": "2023-07-21T15:06:33.732Z"
   },
   {
    "duration": 122,
    "start_time": "2023-07-21T15:15:27.418Z"
   },
   {
    "duration": 127,
    "start_time": "2023-07-21T15:15:39.006Z"
   },
   {
    "duration": 117,
    "start_time": "2023-07-21T15:15:42.553Z"
   },
   {
    "duration": 5,
    "start_time": "2023-07-21T15:15:53.569Z"
   },
   {
    "duration": 8,
    "start_time": "2023-07-21T15:16:02.118Z"
   },
   {
    "duration": 4,
    "start_time": "2023-07-21T15:19:10.190Z"
   },
   {
    "duration": 33,
    "start_time": "2023-07-21T15:19:18.853Z"
   },
   {
    "duration": 42,
    "start_time": "2023-07-21T15:19:26.748Z"
   },
   {
    "duration": 50,
    "start_time": "2023-07-21T15:20:06.086Z"
   },
   {
    "duration": 56,
    "start_time": "2023-07-21T15:21:47.688Z"
   },
   {
    "duration": 4,
    "start_time": "2023-07-21T15:33:54.303Z"
   },
   {
    "duration": 3,
    "start_time": "2023-07-21T15:33:59.396Z"
   },
   {
    "duration": 4,
    "start_time": "2023-07-21T15:34:53.522Z"
   },
   {
    "duration": 11,
    "start_time": "2023-07-21T15:35:27.454Z"
   },
   {
    "duration": 3,
    "start_time": "2023-07-21T15:35:34.564Z"
   },
   {
    "duration": 43,
    "start_time": "2023-07-21T15:35:34.760Z"
   },
   {
    "duration": 1991,
    "start_time": "2023-07-21T15:35:39.453Z"
   },
   {
    "duration": 42,
    "start_time": "2023-07-21T15:35:46.510Z"
   },
   {
    "duration": 33,
    "start_time": "2023-07-21T15:36:46.411Z"
   },
   {
    "duration": 3,
    "start_time": "2023-07-21T15:37:12.637Z"
   },
   {
    "duration": 791,
    "start_time": "2023-07-21T15:37:12.643Z"
   },
   {
    "duration": 56,
    "start_time": "2023-07-21T15:37:13.436Z"
   },
   {
    "duration": 5,
    "start_time": "2023-07-21T15:37:13.493Z"
   },
   {
    "duration": 4,
    "start_time": "2023-07-21T15:37:13.513Z"
   },
   {
    "duration": 9,
    "start_time": "2023-07-21T15:37:13.519Z"
   },
   {
    "duration": 272,
    "start_time": "2023-07-21T15:37:13.529Z"
   },
   {
    "duration": 14,
    "start_time": "2023-07-21T15:37:13.803Z"
   },
   {
    "duration": 30,
    "start_time": "2023-07-21T15:37:13.819Z"
   },
   {
    "duration": 19,
    "start_time": "2023-07-21T15:37:13.853Z"
   },
   {
    "duration": 17,
    "start_time": "2023-07-21T15:37:13.874Z"
   },
   {
    "duration": 68,
    "start_time": "2023-07-21T15:37:13.892Z"
   },
   {
    "duration": 37,
    "start_time": "2023-07-21T15:37:13.962Z"
   },
   {
    "duration": 32,
    "start_time": "2023-07-21T15:40:12.785Z"
   },
   {
    "duration": 47,
    "start_time": "2023-07-21T15:41:10.017Z"
   },
   {
    "duration": 49,
    "start_time": "2023-07-21T15:41:19.050Z"
   },
   {
    "duration": 8,
    "start_time": "2023-07-21T15:45:11.916Z"
   },
   {
    "duration": 9,
    "start_time": "2023-07-21T15:45:17.896Z"
   },
   {
    "duration": 5,
    "start_time": "2023-07-21T15:45:24.222Z"
   },
   {
    "duration": 46,
    "start_time": "2023-07-21T15:50:49.111Z"
   },
   {
    "duration": 47,
    "start_time": "2023-07-21T15:50:53.563Z"
   },
   {
    "duration": 46,
    "start_time": "2023-07-21T15:50:56.129Z"
   },
   {
    "duration": 115,
    "start_time": "2023-07-21T15:51:12.988Z"
   },
   {
    "duration": 36,
    "start_time": "2023-07-21T15:51:17.003Z"
   },
   {
    "duration": 131,
    "start_time": "2023-07-21T15:51:21.074Z"
   },
   {
    "duration": 36,
    "start_time": "2023-07-21T15:51:24.098Z"
   },
   {
    "duration": 34,
    "start_time": "2023-07-21T15:51:26.646Z"
   },
   {
    "duration": 47,
    "start_time": "2023-07-21T15:51:30.343Z"
   },
   {
    "duration": 50,
    "start_time": "2023-07-21T15:55:38.281Z"
   },
   {
    "duration": 117,
    "start_time": "2023-07-21T15:58:52.051Z"
   },
   {
    "duration": 22,
    "start_time": "2023-07-21T15:58:59.903Z"
   },
   {
    "duration": 24,
    "start_time": "2023-07-21T15:59:12.383Z"
   },
   {
    "duration": 28,
    "start_time": "2023-07-21T15:59:48.111Z"
   },
   {
    "duration": 21,
    "start_time": "2023-07-21T16:16:50.247Z"
   },
   {
    "duration": 16,
    "start_time": "2023-07-21T16:17:25.340Z"
   },
   {
    "duration": 17,
    "start_time": "2023-07-21T16:17:49.170Z"
   },
   {
    "duration": 23,
    "start_time": "2023-07-21T16:18:03.138Z"
   },
   {
    "duration": 23,
    "start_time": "2023-07-21T16:18:23.075Z"
   },
   {
    "duration": 17,
    "start_time": "2023-07-21T16:18:32.660Z"
   },
   {
    "duration": 17,
    "start_time": "2023-07-21T16:19:06.600Z"
   },
   {
    "duration": 24,
    "start_time": "2023-07-21T16:19:27.505Z"
   },
   {
    "duration": 17,
    "start_time": "2023-07-21T16:19:57.414Z"
   },
   {
    "duration": 16,
    "start_time": "2023-07-21T16:20:11.223Z"
   },
   {
    "duration": 17,
    "start_time": "2023-07-21T16:20:16.731Z"
   },
   {
    "duration": 27,
    "start_time": "2023-07-21T16:20:41.496Z"
   },
   {
    "duration": 26,
    "start_time": "2023-07-21T16:34:31.808Z"
   },
   {
    "duration": 26,
    "start_time": "2023-07-21T16:41:21.462Z"
   },
   {
    "duration": 321,
    "start_time": "2023-07-21T16:41:23.882Z"
   },
   {
    "duration": 1664,
    "start_time": "2023-07-21T16:41:30.159Z"
   },
   {
    "duration": 1061,
    "start_time": "2023-07-21T16:42:13.633Z"
   },
   {
    "duration": 2473,
    "start_time": "2023-07-21T16:42:59.818Z"
   },
   {
    "duration": 1643,
    "start_time": "2023-07-21T16:44:31.801Z"
   },
   {
    "duration": 879,
    "start_time": "2023-07-21T16:45:04.109Z"
   },
   {
    "duration": 2115,
    "start_time": "2023-07-21T16:45:43.609Z"
   },
   {
    "duration": 1242,
    "start_time": "2023-07-21T16:46:13.775Z"
   },
   {
    "duration": 1363,
    "start_time": "2023-07-21T16:48:31.203Z"
   },
   {
    "duration": 960,
    "start_time": "2023-07-21T16:49:26.459Z"
   },
   {
    "duration": 1199,
    "start_time": "2023-07-21T16:49:36.639Z"
   },
   {
    "duration": 1453,
    "start_time": "2023-07-21T16:50:08.986Z"
   },
   {
    "duration": 1310,
    "start_time": "2023-07-21T16:50:15.455Z"
   },
   {
    "duration": 1390,
    "start_time": "2023-07-21T16:51:18.412Z"
   },
   {
    "duration": 1449,
    "start_time": "2023-07-21T16:51:39.488Z"
   },
   {
    "duration": 68,
    "start_time": "2023-07-22T15:23:46.643Z"
   },
   {
    "duration": 1415,
    "start_time": "2023-07-22T15:23:50.014Z"
   },
   {
    "duration": 3420,
    "start_time": "2023-07-22T15:23:51.430Z"
   },
   {
    "duration": 156,
    "start_time": "2023-07-22T15:23:54.852Z"
   },
   {
    "duration": 5,
    "start_time": "2023-07-22T15:23:55.010Z"
   },
   {
    "duration": 18,
    "start_time": "2023-07-22T15:23:55.017Z"
   },
   {
    "duration": 5,
    "start_time": "2023-07-22T15:23:55.036Z"
   },
   {
    "duration": 325,
    "start_time": "2023-07-22T15:23:55.043Z"
   },
   {
    "duration": 8,
    "start_time": "2023-07-22T15:23:55.369Z"
   },
   {
    "duration": 28,
    "start_time": "2023-07-22T15:23:55.378Z"
   },
   {
    "duration": 15,
    "start_time": "2023-07-22T15:23:55.408Z"
   },
   {
    "duration": 3,
    "start_time": "2023-07-22T15:23:55.425Z"
   },
   {
    "duration": 52,
    "start_time": "2023-07-22T15:23:55.429Z"
   },
   {
    "duration": 50,
    "start_time": "2023-07-22T15:23:55.482Z"
   },
   {
    "duration": 1116,
    "start_time": "2023-07-22T15:23:55.534Z"
   },
   {
    "duration": 593,
    "start_time": "2023-07-22T15:23:56.651Z"
   },
   {
    "duration": 3,
    "start_time": "2023-07-22T15:28:14.542Z"
   },
   {
    "duration": 665,
    "start_time": "2023-07-22T15:28:14.547Z"
   },
   {
    "duration": 49,
    "start_time": "2023-07-22T15:28:15.213Z"
   },
   {
    "duration": 4,
    "start_time": "2023-07-22T15:28:15.264Z"
   },
   {
    "duration": 10,
    "start_time": "2023-07-22T15:28:15.269Z"
   },
   {
    "duration": 25,
    "start_time": "2023-07-22T15:28:15.281Z"
   },
   {
    "duration": 210,
    "start_time": "2023-07-22T15:28:15.308Z"
   },
   {
    "duration": 6,
    "start_time": "2023-07-22T15:28:15.519Z"
   },
   {
    "duration": 68,
    "start_time": "2023-07-22T15:28:15.526Z"
   },
   {
    "duration": 12,
    "start_time": "2023-07-22T15:28:15.596Z"
   },
   {
    "duration": 718,
    "start_time": "2023-07-22T15:28:15.610Z"
   },
   {
    "duration": 4,
    "start_time": "2023-07-22T15:28:16.330Z"
   },
   {
    "duration": 109,
    "start_time": "2023-07-22T15:28:16.335Z"
   },
   {
    "duration": 92,
    "start_time": "2023-07-22T15:28:16.446Z"
   },
   {
    "duration": 2159,
    "start_time": "2023-07-22T15:28:16.541Z"
   },
   {
    "duration": 665,
    "start_time": "2023-07-22T15:28:18.706Z"
   },
   {
    "duration": 560,
    "start_time": "2023-07-22T15:28:34.297Z"
   },
   {
    "duration": 711,
    "start_time": "2023-07-22T15:29:16.056Z"
   },
   {
    "duration": 18,
    "start_time": "2023-07-22T15:30:19.885Z"
   },
   {
    "duration": 3,
    "start_time": "2023-07-22T15:30:30.199Z"
   },
   {
    "duration": 707,
    "start_time": "2023-07-22T15:30:30.203Z"
   },
   {
    "duration": 50,
    "start_time": "2023-07-22T15:30:30.912Z"
   },
   {
    "duration": 17,
    "start_time": "2023-07-22T15:30:30.964Z"
   },
   {
    "duration": 29,
    "start_time": "2023-07-22T15:30:30.983Z"
   },
   {
    "duration": 62,
    "start_time": "2023-07-22T15:30:31.014Z"
   },
   {
    "duration": 221,
    "start_time": "2023-07-22T15:30:31.078Z"
   },
   {
    "duration": 10,
    "start_time": "2023-07-22T15:30:31.301Z"
   },
   {
    "duration": 37,
    "start_time": "2023-07-22T15:30:31.312Z"
   },
   {
    "duration": 53,
    "start_time": "2023-07-22T15:30:31.352Z"
   },
   {
    "duration": 3,
    "start_time": "2023-07-22T15:30:31.407Z"
   },
   {
    "duration": 106,
    "start_time": "2023-07-22T15:30:31.411Z"
   },
   {
    "duration": 27,
    "start_time": "2023-07-22T15:30:31.520Z"
   },
   {
    "duration": 1591,
    "start_time": "2023-07-22T15:30:31.549Z"
   },
   {
    "duration": 1200,
    "start_time": "2023-07-22T15:30:33.142Z"
   },
   {
    "duration": 623,
    "start_time": "2023-07-22T15:36:45.870Z"
   },
   {
    "duration": 582,
    "start_time": "2023-07-22T15:36:56.388Z"
   },
   {
    "duration": 88,
    "start_time": "2023-07-22T15:54:36.962Z"
   },
   {
    "duration": 13,
    "start_time": "2023-07-22T15:55:22.731Z"
   },
   {
    "duration": 556,
    "start_time": "2023-07-22T15:58:59.730Z"
   },
   {
    "duration": 632,
    "start_time": "2023-07-22T15:59:07.639Z"
   },
   {
    "duration": 530,
    "start_time": "2023-07-22T15:59:22.917Z"
   },
   {
    "duration": 615,
    "start_time": "2023-07-22T16:01:34.853Z"
   },
   {
    "duration": 562,
    "start_time": "2023-07-22T16:01:45.506Z"
   },
   {
    "duration": 6,
    "start_time": "2023-07-22T16:03:55.063Z"
   },
   {
    "duration": 648,
    "start_time": "2023-07-22T16:04:05.556Z"
   },
   {
    "duration": 884,
    "start_time": "2023-07-22T16:04:42.766Z"
   },
   {
    "duration": 550,
    "start_time": "2023-07-22T16:04:48.162Z"
   },
   {
    "duration": 3,
    "start_time": "2023-07-22T16:04:51.058Z"
   },
   {
    "duration": 826,
    "start_time": "2023-07-22T16:04:51.063Z"
   },
   {
    "duration": 63,
    "start_time": "2023-07-22T16:04:51.891Z"
   },
   {
    "duration": 5,
    "start_time": "2023-07-22T16:04:51.956Z"
   },
   {
    "duration": 17,
    "start_time": "2023-07-22T16:04:51.962Z"
   },
   {
    "duration": 11,
    "start_time": "2023-07-22T16:04:51.980Z"
   },
   {
    "duration": 261,
    "start_time": "2023-07-22T16:04:51.992Z"
   },
   {
    "duration": 5,
    "start_time": "2023-07-22T16:04:52.260Z"
   },
   {
    "duration": 29,
    "start_time": "2023-07-22T16:04:52.267Z"
   },
   {
    "duration": 33,
    "start_time": "2023-07-22T16:04:52.298Z"
   },
   {
    "duration": 24,
    "start_time": "2023-07-22T16:04:52.334Z"
   },
   {
    "duration": 59,
    "start_time": "2023-07-22T16:04:52.360Z"
   },
   {
    "duration": 16,
    "start_time": "2023-07-22T16:04:52.423Z"
   },
   {
    "duration": 1439,
    "start_time": "2023-07-22T16:04:52.441Z"
   },
   {
    "duration": 739,
    "start_time": "2023-07-22T16:04:53.882Z"
   },
   {
    "duration": 8,
    "start_time": "2023-07-22T16:04:54.626Z"
   },
   {
    "duration": 661,
    "start_time": "2023-07-22T16:04:54.638Z"
   },
   {
    "duration": 1339,
    "start_time": "2023-07-22T16:04:55.305Z"
   },
   {
    "duration": 12,
    "start_time": "2023-07-22T16:04:56.646Z"
   },
   {
    "duration": 1283,
    "start_time": "2023-07-22T16:04:56.660Z"
   },
   {
    "duration": 40,
    "start_time": "2023-07-22T16:05:28.982Z"
   },
   {
    "duration": 1808,
    "start_time": "2023-07-22T16:05:30.806Z"
   },
   {
    "duration": 1026,
    "start_time": "2023-07-22T16:05:32.616Z"
   },
   {
    "duration": 8,
    "start_time": "2023-07-22T16:05:33.645Z"
   },
   {
    "duration": 1171,
    "start_time": "2023-07-22T16:05:33.657Z"
   },
   {
    "duration": 1481,
    "start_time": "2023-07-22T16:05:34.830Z"
   },
   {
    "duration": 15,
    "start_time": "2023-07-22T16:05:36.316Z"
   },
   {
    "duration": 1795,
    "start_time": "2023-07-22T16:05:36.333Z"
   },
   {
    "duration": 759,
    "start_time": "2023-07-22T16:06:02.127Z"
   },
   {
    "duration": 3,
    "start_time": "2023-07-22T16:06:26.745Z"
   },
   {
    "duration": 760,
    "start_time": "2023-07-22T16:06:26.750Z"
   },
   {
    "duration": 77,
    "start_time": "2023-07-22T16:06:27.513Z"
   },
   {
    "duration": 16,
    "start_time": "2023-07-22T16:06:27.592Z"
   },
   {
    "duration": 6,
    "start_time": "2023-07-22T16:06:27.612Z"
   },
   {
    "duration": 7,
    "start_time": "2023-07-22T16:06:27.619Z"
   },
   {
    "duration": 260,
    "start_time": "2023-07-22T16:06:27.628Z"
   },
   {
    "duration": 7,
    "start_time": "2023-07-22T16:06:27.890Z"
   },
   {
    "duration": 20,
    "start_time": "2023-07-22T16:06:27.908Z"
   },
   {
    "duration": 18,
    "start_time": "2023-07-22T16:06:27.930Z"
   },
   {
    "duration": 3,
    "start_time": "2023-07-22T16:06:27.951Z"
   },
   {
    "duration": 61,
    "start_time": "2023-07-22T16:06:27.956Z"
   },
   {
    "duration": 1313,
    "start_time": "2023-07-22T16:06:28.019Z"
   },
   {
    "duration": 649,
    "start_time": "2023-07-22T16:06:29.335Z"
   },
   {
    "duration": 11,
    "start_time": "2023-07-22T16:06:29.988Z"
   },
   {
    "duration": 721,
    "start_time": "2023-07-22T16:06:30.001Z"
   },
   {
    "duration": 540,
    "start_time": "2023-07-22T16:06:30.727Z"
   },
   {
    "duration": 7,
    "start_time": "2023-07-22T16:06:31.270Z"
   },
   {
    "duration": 648,
    "start_time": "2023-07-22T16:06:31.279Z"
   },
   {
    "duration": 13,
    "start_time": "2023-07-22T16:07:45.913Z"
   },
   {
    "duration": 797,
    "start_time": "2023-07-22T16:07:45.928Z"
   },
   {
    "duration": 59,
    "start_time": "2023-07-22T16:07:46.729Z"
   },
   {
    "duration": 4,
    "start_time": "2023-07-22T16:07:46.789Z"
   },
   {
    "duration": 30,
    "start_time": "2023-07-22T16:07:46.795Z"
   },
   {
    "duration": 12,
    "start_time": "2023-07-22T16:07:46.827Z"
   },
   {
    "duration": 250,
    "start_time": "2023-07-22T16:07:46.840Z"
   },
   {
    "duration": 28,
    "start_time": "2023-07-22T16:07:47.091Z"
   },
   {
    "duration": 17,
    "start_time": "2023-07-22T16:07:47.126Z"
   },
   {
    "duration": 15,
    "start_time": "2023-07-22T16:07:47.144Z"
   },
   {
    "duration": 4,
    "start_time": "2023-07-22T16:07:47.161Z"
   },
   {
    "duration": 176,
    "start_time": "2023-07-22T16:07:47.166Z"
   },
   {
    "duration": 28,
    "start_time": "2023-07-22T16:07:47.344Z"
   },
   {
    "duration": 1256,
    "start_time": "2023-07-22T16:07:47.375Z"
   },
   {
    "duration": 738,
    "start_time": "2023-07-22T16:07:48.632Z"
   },
   {
    "duration": 7,
    "start_time": "2023-07-22T16:07:49.372Z"
   },
   {
    "duration": 779,
    "start_time": "2023-07-22T16:07:49.381Z"
   },
   {
    "duration": 527,
    "start_time": "2023-07-22T16:07:50.162Z"
   },
   {
    "duration": 5,
    "start_time": "2023-07-22T16:07:50.691Z"
   },
   {
    "duration": 715,
    "start_time": "2023-07-22T16:07:50.698Z"
   },
   {
    "duration": 558,
    "start_time": "2023-07-22T16:08:04.767Z"
   },
   {
    "duration": 5,
    "start_time": "2023-07-22T16:08:38.518Z"
   },
   {
    "duration": 738,
    "start_time": "2023-07-22T16:08:38.525Z"
   },
   {
    "duration": 80,
    "start_time": "2023-07-22T16:08:39.265Z"
   },
   {
    "duration": 5,
    "start_time": "2023-07-22T16:08:39.348Z"
   },
   {
    "duration": 8,
    "start_time": "2023-07-22T16:08:39.354Z"
   },
   {
    "duration": 8,
    "start_time": "2023-07-22T16:08:39.364Z"
   },
   {
    "duration": 249,
    "start_time": "2023-07-22T16:08:39.374Z"
   },
   {
    "duration": 7,
    "start_time": "2023-07-22T16:08:39.628Z"
   },
   {
    "duration": 46,
    "start_time": "2023-07-22T16:08:39.638Z"
   },
   {
    "duration": 16,
    "start_time": "2023-07-22T16:08:39.685Z"
   },
   {
    "duration": 4,
    "start_time": "2023-07-22T16:08:39.702Z"
   },
   {
    "duration": 51,
    "start_time": "2023-07-22T16:08:39.712Z"
   },
   {
    "duration": 30,
    "start_time": "2023-07-22T16:08:39.764Z"
   },
   {
    "duration": 1473,
    "start_time": "2023-07-22T16:08:39.796Z"
   },
   {
    "duration": 679,
    "start_time": "2023-07-22T16:08:41.271Z"
   },
   {
    "duration": 7,
    "start_time": "2023-07-22T16:08:41.951Z"
   },
   {
    "duration": 722,
    "start_time": "2023-07-22T16:08:41.960Z"
   },
   {
    "duration": 629,
    "start_time": "2023-07-22T16:08:42.684Z"
   },
   {
    "duration": 2,
    "start_time": "2023-07-22T16:08:43.317Z"
   },
   {
    "duration": 646,
    "start_time": "2023-07-22T16:08:43.322Z"
   },
   {
    "duration": 6,
    "start_time": "2023-07-22T16:09:50.551Z"
   },
   {
    "duration": 860,
    "start_time": "2023-07-22T16:09:50.559Z"
   },
   {
    "duration": 51,
    "start_time": "2023-07-22T16:09:51.421Z"
   },
   {
    "duration": 4,
    "start_time": "2023-07-22T16:09:51.474Z"
   },
   {
    "duration": 4,
    "start_time": "2023-07-22T16:09:51.480Z"
   },
   {
    "duration": 7,
    "start_time": "2023-07-22T16:09:51.510Z"
   },
   {
    "duration": 325,
    "start_time": "2023-07-22T16:09:51.518Z"
   },
   {
    "duration": 5,
    "start_time": "2023-07-22T16:09:51.845Z"
   },
   {
    "duration": 26,
    "start_time": "2023-07-22T16:09:51.851Z"
   },
   {
    "duration": 43,
    "start_time": "2023-07-22T16:09:51.879Z"
   },
   {
    "duration": 3,
    "start_time": "2023-07-22T16:09:51.924Z"
   },
   {
    "duration": 70,
    "start_time": "2023-07-22T16:09:51.929Z"
   },
   {
    "duration": 21,
    "start_time": "2023-07-22T16:09:52.001Z"
   },
   {
    "duration": 1623,
    "start_time": "2023-07-22T16:09:52.036Z"
   },
   {
    "duration": 1877,
    "start_time": "2023-07-22T16:09:53.660Z"
   },
   {
    "duration": 7,
    "start_time": "2023-07-22T16:09:55.539Z"
   },
   {
    "duration": 1077,
    "start_time": "2023-07-22T16:09:55.547Z"
   },
   {
    "duration": 677,
    "start_time": "2023-07-22T16:09:56.626Z"
   },
   {
    "duration": 5,
    "start_time": "2023-07-22T16:09:57.310Z"
   },
   {
    "duration": 539,
    "start_time": "2023-07-22T16:09:57.317Z"
   },
   {
    "duration": 255,
    "start_time": "2023-07-22T16:10:38.905Z"
   },
   {
    "duration": 753,
    "start_time": "2023-07-22T16:12:12.487Z"
   },
   {
    "duration": 9,
    "start_time": "2023-07-22T16:14:13.957Z"
   },
   {
    "duration": 139,
    "start_time": "2023-07-22T16:15:26.539Z"
   },
   {
    "duration": 8,
    "start_time": "2023-07-22T16:15:37.475Z"
   },
   {
    "duration": 13,
    "start_time": "2023-07-22T16:16:01.757Z"
   },
   {
    "duration": 4,
    "start_time": "2023-07-22T16:23:29.773Z"
   },
   {
    "duration": 14,
    "start_time": "2023-07-22T16:40:28.874Z"
   },
   {
    "duration": 24,
    "start_time": "2023-07-22T16:40:33.826Z"
   },
   {
    "duration": 206,
    "start_time": "2023-07-22T16:40:36.340Z"
   },
   {
    "duration": 22,
    "start_time": "2023-07-22T16:40:40.307Z"
   },
   {
    "duration": 21,
    "start_time": "2023-07-22T16:40:43.329Z"
   },
   {
    "duration": 22,
    "start_time": "2023-07-22T16:40:46.031Z"
   },
   {
    "duration": 156,
    "start_time": "2023-07-22T16:40:50.332Z"
   },
   {
    "duration": 6,
    "start_time": "2023-07-22T16:40:54.071Z"
   },
   {
    "duration": 11,
    "start_time": "2023-07-22T16:43:14.093Z"
   },
   {
    "duration": 6,
    "start_time": "2023-07-22T16:43:23.859Z"
   },
   {
    "duration": 3,
    "start_time": "2023-07-22T16:43:43.755Z"
   },
   {
    "duration": 4,
    "start_time": "2023-07-22T16:44:36.685Z"
   },
   {
    "duration": 14,
    "start_time": "2023-07-22T16:45:14.100Z"
   },
   {
    "duration": 10,
    "start_time": "2023-07-22T16:50:24.690Z"
   },
   {
    "duration": 11,
    "start_time": "2023-07-22T16:50:36.943Z"
   },
   {
    "duration": 23,
    "start_time": "2023-07-22T16:50:41.634Z"
   },
   {
    "duration": 3,
    "start_time": "2023-07-22T16:51:18.089Z"
   },
   {
    "duration": 17,
    "start_time": "2023-07-22T16:51:21.374Z"
   },
   {
    "duration": 6,
    "start_time": "2023-07-22T16:51:47.471Z"
   },
   {
    "duration": 11,
    "start_time": "2023-07-22T16:52:13.247Z"
   },
   {
    "duration": 3,
    "start_time": "2023-07-22T16:52:16.670Z"
   },
   {
    "duration": 6,
    "start_time": "2023-07-22T16:52:17.862Z"
   },
   {
    "duration": 27,
    "start_time": "2023-07-22T16:54:16.704Z"
   },
   {
    "duration": 7,
    "start_time": "2023-07-22T16:54:38.114Z"
   },
   {
    "duration": 5,
    "start_time": "2023-07-22T16:55:06.839Z"
   },
   {
    "duration": 6,
    "start_time": "2023-07-22T16:55:59.299Z"
   },
   {
    "duration": 11,
    "start_time": "2023-07-22T16:56:50.538Z"
   },
   {
    "duration": 10,
    "start_time": "2023-07-22T16:57:00.173Z"
   },
   {
    "duration": 5,
    "start_time": "2023-07-22T16:57:10.401Z"
   },
   {
    "duration": 9,
    "start_time": "2023-07-22T16:57:11.346Z"
   },
   {
    "duration": 4,
    "start_time": "2023-07-22T16:57:33.763Z"
   },
   {
    "duration": 6,
    "start_time": "2023-07-22T16:58:05.827Z"
   },
   {
    "duration": 4,
    "start_time": "2023-07-22T16:59:32.290Z"
   },
   {
    "duration": 140,
    "start_time": "2023-07-22T17:14:44.866Z"
   },
   {
    "duration": 5,
    "start_time": "2023-07-22T17:18:38.270Z"
   },
   {
    "duration": 5,
    "start_time": "2023-07-22T17:18:41.228Z"
   },
   {
    "duration": 149,
    "start_time": "2023-07-22T17:24:07.415Z"
   },
   {
    "duration": 3,
    "start_time": "2023-07-22T17:26:37.210Z"
   },
   {
    "duration": 5,
    "start_time": "2023-07-22T17:33:48.322Z"
   },
   {
    "duration": 3507,
    "start_time": "2023-07-22T17:40:37.503Z"
   },
   {
    "duration": 3401,
    "start_time": "2023-07-22T17:41:54.720Z"
   },
   {
    "duration": 4095,
    "start_time": "2023-07-22T17:42:07.816Z"
   },
   {
    "duration": 3678,
    "start_time": "2023-07-22T17:42:58.260Z"
   },
   {
    "duration": 19,
    "start_time": "2023-07-22T17:47:13.798Z"
   },
   {
    "duration": 4031,
    "start_time": "2023-07-22T17:47:16.479Z"
   },
   {
    "duration": 11,
    "start_time": "2023-07-22T17:55:14.487Z"
   },
   {
    "duration": 33159,
    "start_time": "2023-07-22T17:55:27.269Z"
   },
   {
    "duration": 31591,
    "start_time": "2023-07-22T17:56:22.868Z"
   },
   {
    "duration": 32018,
    "start_time": "2023-07-22T17:57:11.620Z"
   },
   {
    "duration": 34072,
    "start_time": "2023-07-22T18:01:08.030Z"
   },
   {
    "duration": 190567,
    "start_time": "2023-07-22T18:07:27.821Z"
   },
   {
    "duration": 0,
    "start_time": "2023-07-22T18:10:38.393Z"
   },
   {
    "duration": 32327,
    "start_time": "2023-07-22T18:10:41.881Z"
   },
   {
    "duration": 32518,
    "start_time": "2023-07-22T18:11:31.962Z"
   },
   {
    "duration": 0,
    "start_time": "2023-07-22T18:16:03.495Z"
   },
   {
    "duration": 0,
    "start_time": "2023-07-22T18:16:43.632Z"
   },
   {
    "duration": 32990,
    "start_time": "2023-07-22T18:17:52.461Z"
   },
   {
    "duration": 685074,
    "start_time": "2023-07-22T18:21:35.922Z"
   },
   {
    "duration": 0,
    "start_time": "2023-07-22T18:33:58.672Z"
   },
   {
    "duration": 1331,
    "start_time": "2023-07-22T18:34:39.533Z"
   },
   {
    "duration": 954,
    "start_time": "2023-07-22T18:34:40.866Z"
   },
   {
    "duration": 55,
    "start_time": "2023-07-22T18:34:41.822Z"
   },
   {
    "duration": 4,
    "start_time": "2023-07-22T18:34:41.879Z"
   },
   {
    "duration": 5,
    "start_time": "2023-07-22T18:34:41.885Z"
   },
   {
    "duration": 23,
    "start_time": "2023-07-22T18:34:41.892Z"
   },
   {
    "duration": 224,
    "start_time": "2023-07-22T18:34:41.916Z"
   },
   {
    "duration": 7,
    "start_time": "2023-07-22T18:34:42.142Z"
   },
   {
    "duration": 16,
    "start_time": "2023-07-22T18:34:42.150Z"
   },
   {
    "duration": 44,
    "start_time": "2023-07-22T18:34:42.167Z"
   },
   {
    "duration": 7,
    "start_time": "2023-07-22T18:34:42.212Z"
   },
   {
    "duration": 43,
    "start_time": "2023-07-22T18:34:42.222Z"
   },
   {
    "duration": 17,
    "start_time": "2023-07-22T18:34:42.267Z"
   },
   {
    "duration": 2435,
    "start_time": "2023-07-22T18:34:42.287Z"
   },
   {
    "duration": 1704,
    "start_time": "2023-07-22T18:34:44.725Z"
   },
   {
    "duration": 8,
    "start_time": "2023-07-22T18:34:46.431Z"
   },
   {
    "duration": 1307,
    "start_time": "2023-07-22T18:34:46.441Z"
   },
   {
    "duration": 925,
    "start_time": "2023-07-22T18:34:47.749Z"
   },
   {
    "duration": 3,
    "start_time": "2023-07-22T18:34:48.675Z"
   },
   {
    "duration": 204,
    "start_time": "2023-07-22T18:34:48.679Z"
   },
   {
    "duration": 845,
    "start_time": "2023-07-22T18:34:48.885Z"
   },
   {
    "duration": 13,
    "start_time": "2023-07-22T18:34:49.732Z"
   },
   {
    "duration": 3,
    "start_time": "2023-07-22T18:34:49.746Z"
   },
   {
    "duration": 6,
    "start_time": "2023-07-22T18:34:49.750Z"
   },
   {
    "duration": 212,
    "start_time": "2023-07-22T18:34:49.806Z"
   },
   {
    "duration": 0,
    "start_time": "2023-07-22T18:34:50.023Z"
   },
   {
    "duration": 0,
    "start_time": "2023-07-22T18:34:50.026Z"
   },
   {
    "duration": 0,
    "start_time": "2023-07-22T18:34:50.027Z"
   },
   {
    "duration": 0,
    "start_time": "2023-07-22T18:34:50.028Z"
   },
   {
    "duration": 0,
    "start_time": "2023-07-22T18:34:50.030Z"
   },
   {
    "duration": 0,
    "start_time": "2023-07-22T18:34:50.031Z"
   },
   {
    "duration": 0,
    "start_time": "2023-07-22T18:34:50.033Z"
   },
   {
    "duration": 3,
    "start_time": "2023-07-22T18:35:16.598Z"
   },
   {
    "duration": 3,
    "start_time": "2023-07-22T18:35:19.572Z"
   },
   {
    "duration": 724,
    "start_time": "2023-07-22T18:35:19.577Z"
   },
   {
    "duration": 64,
    "start_time": "2023-07-22T18:35:20.303Z"
   },
   {
    "duration": 5,
    "start_time": "2023-07-22T18:35:20.369Z"
   },
   {
    "duration": 4,
    "start_time": "2023-07-22T18:35:20.376Z"
   },
   {
    "duration": 27,
    "start_time": "2023-07-22T18:35:20.381Z"
   },
   {
    "duration": 242,
    "start_time": "2023-07-22T18:35:20.414Z"
   },
   {
    "duration": 7,
    "start_time": "2023-07-22T18:35:20.657Z"
   },
   {
    "duration": 23,
    "start_time": "2023-07-22T18:35:20.665Z"
   },
   {
    "duration": 34,
    "start_time": "2023-07-22T18:35:20.690Z"
   },
   {
    "duration": 3,
    "start_time": "2023-07-22T18:35:20.725Z"
   },
   {
    "duration": 45,
    "start_time": "2023-07-22T18:35:20.729Z"
   },
   {
    "duration": 13,
    "start_time": "2023-07-22T18:35:20.776Z"
   },
   {
    "duration": 1148,
    "start_time": "2023-07-22T18:35:20.808Z"
   },
   {
    "duration": 6,
    "start_time": "2023-07-22T18:35:24.718Z"
   },
   {
    "duration": 729,
    "start_time": "2023-07-22T18:35:24.726Z"
   },
   {
    "duration": 63,
    "start_time": "2023-07-22T18:35:25.457Z"
   },
   {
    "duration": 4,
    "start_time": "2023-07-22T18:35:25.523Z"
   },
   {
    "duration": 21,
    "start_time": "2023-07-22T18:35:25.528Z"
   },
   {
    "duration": 7,
    "start_time": "2023-07-22T18:35:25.551Z"
   },
   {
    "duration": 210,
    "start_time": "2023-07-22T18:35:25.559Z"
   },
   {
    "duration": 5,
    "start_time": "2023-07-22T18:35:25.771Z"
   },
   {
    "duration": 32,
    "start_time": "2023-07-22T18:35:25.777Z"
   },
   {
    "duration": 18,
    "start_time": "2023-07-22T18:35:25.816Z"
   },
   {
    "duration": 3,
    "start_time": "2023-07-22T18:35:25.836Z"
   },
   {
    "duration": 54,
    "start_time": "2023-07-22T18:35:25.841Z"
   },
   {
    "duration": 17,
    "start_time": "2023-07-22T18:35:25.897Z"
   },
   {
    "duration": 1146,
    "start_time": "2023-07-22T18:35:25.917Z"
   },
   {
    "duration": 591,
    "start_time": "2023-07-22T18:35:27.065Z"
   },
   {
    "duration": 6,
    "start_time": "2023-07-22T18:35:27.657Z"
   },
   {
    "duration": 587,
    "start_time": "2023-07-22T18:35:27.664Z"
   },
   {
    "duration": 529,
    "start_time": "2023-07-22T18:35:28.253Z"
   },
   {
    "duration": 2,
    "start_time": "2023-07-22T18:35:28.783Z"
   },
   {
    "duration": 256,
    "start_time": "2023-07-22T18:35:28.787Z"
   },
   {
    "duration": 1091,
    "start_time": "2023-07-22T18:35:29.044Z"
   },
   {
    "duration": 70,
    "start_time": "2023-07-22T18:35:30.137Z"
   },
   {
    "duration": 4,
    "start_time": "2023-07-22T18:35:30.209Z"
   },
   {
    "duration": 37,
    "start_time": "2023-07-22T18:35:30.221Z"
   },
   {
    "duration": 50,
    "start_time": "2023-07-22T18:35:30.259Z"
   },
   {
    "duration": 27,
    "start_time": "2023-07-22T18:35:30.314Z"
   },
   {
    "duration": 64,
    "start_time": "2023-07-22T18:35:30.343Z"
   },
   {
    "duration": 47,
    "start_time": "2023-07-22T18:35:30.410Z"
   },
   {
    "duration": 41,
    "start_time": "2023-07-22T18:35:30.459Z"
   },
   {
    "duration": 4720,
    "start_time": "2023-07-22T18:35:30.501Z"
   },
   {
    "duration": 20646,
    "start_time": "2023-07-22T18:35:35.223Z"
   },
   {
    "duration": 0,
    "start_time": "2023-07-22T18:35:55.871Z"
   },
   {
    "duration": 4337,
    "start_time": "2023-07-22T18:36:01.772Z"
   },
   {
    "duration": 9005,
    "start_time": "2023-07-22T18:36:06.115Z"
   },
   {
    "duration": 536350,
    "start_time": "2023-07-22T18:36:15.122Z"
   },
   {
    "duration": 1585,
    "start_time": "2023-07-23T15:59:11.633Z"
   },
   {
    "duration": 1972,
    "start_time": "2023-07-23T15:59:13.220Z"
   },
   {
    "duration": 47,
    "start_time": "2023-07-23T15:59:15.194Z"
   },
   {
    "duration": 4,
    "start_time": "2023-07-23T15:59:15.242Z"
   },
   {
    "duration": 5,
    "start_time": "2023-07-23T15:59:15.248Z"
   },
   {
    "duration": 4,
    "start_time": "2023-07-23T15:59:15.254Z"
   },
   {
    "duration": 240,
    "start_time": "2023-07-23T15:59:15.259Z"
   },
   {
    "duration": 4,
    "start_time": "2023-07-23T15:59:15.501Z"
   },
   {
    "duration": 16,
    "start_time": "2023-07-23T15:59:15.520Z"
   },
   {
    "duration": 18,
    "start_time": "2023-07-23T15:59:15.538Z"
   },
   {
    "duration": 6,
    "start_time": "2023-07-23T15:59:15.558Z"
   },
   {
    "duration": 68,
    "start_time": "2023-07-23T15:59:15.565Z"
   },
   {
    "duration": 20,
    "start_time": "2023-07-23T15:59:15.635Z"
   },
   {
    "duration": 1110,
    "start_time": "2023-07-23T15:59:15.657Z"
   },
   {
    "duration": 542,
    "start_time": "2023-07-23T15:59:16.768Z"
   },
   {
    "duration": 10,
    "start_time": "2023-07-23T15:59:17.311Z"
   },
   {
    "duration": 582,
    "start_time": "2023-07-23T15:59:17.323Z"
   },
   {
    "duration": 469,
    "start_time": "2023-07-23T15:59:17.907Z"
   },
   {
    "duration": 2,
    "start_time": "2023-07-23T15:59:18.378Z"
   },
   {
    "duration": 196,
    "start_time": "2023-07-23T15:59:18.382Z"
   },
   {
    "duration": 515,
    "start_time": "2023-07-23T15:59:18.579Z"
   },
   {
    "duration": 12,
    "start_time": "2023-07-23T15:59:19.095Z"
   },
   {
    "duration": 20,
    "start_time": "2023-07-23T15:59:19.108Z"
   },
   {
    "duration": 15,
    "start_time": "2023-07-23T15:59:19.130Z"
   },
   {
    "duration": 14,
    "start_time": "2023-07-23T15:59:19.146Z"
   },
   {
    "duration": 45,
    "start_time": "2023-07-23T15:59:19.162Z"
   },
   {
    "duration": 6,
    "start_time": "2023-07-23T15:59:19.209Z"
   },
   {
    "duration": 12,
    "start_time": "2023-07-23T15:59:19.217Z"
   },
   {
    "duration": 16,
    "start_time": "2023-07-23T15:59:19.231Z"
   },
   {
    "duration": 2676,
    "start_time": "2023-07-23T15:59:19.248Z"
   },
   {
    "duration": 10961,
    "start_time": "2023-07-23T15:59:21.926Z"
   },
   {
    "duration": 1417,
    "start_time": "2023-07-23T16:04:18.964Z"
   },
   {
    "duration": 703,
    "start_time": "2023-07-23T16:04:20.382Z"
   },
   {
    "duration": 57,
    "start_time": "2023-07-23T16:04:21.087Z"
   },
   {
    "duration": 4,
    "start_time": "2023-07-23T16:04:21.145Z"
   },
   {
    "duration": 15,
    "start_time": "2023-07-23T16:04:21.151Z"
   },
   {
    "duration": 21,
    "start_time": "2023-07-23T16:04:21.168Z"
   },
   {
    "duration": 241,
    "start_time": "2023-07-23T16:04:21.190Z"
   },
   {
    "duration": 6,
    "start_time": "2023-07-23T16:04:21.432Z"
   },
   {
    "duration": 41,
    "start_time": "2023-07-23T16:04:21.439Z"
   },
   {
    "duration": 35,
    "start_time": "2023-07-23T16:04:21.482Z"
   },
   {
    "duration": 12,
    "start_time": "2023-07-23T16:04:21.519Z"
   },
   {
    "duration": 57,
    "start_time": "2023-07-23T16:04:21.532Z"
   },
   {
    "duration": 17,
    "start_time": "2023-07-23T16:04:21.591Z"
   },
   {
    "duration": 1033,
    "start_time": "2023-07-23T16:04:21.610Z"
   },
   {
    "duration": 540,
    "start_time": "2023-07-23T16:04:22.645Z"
   },
   {
    "duration": 6,
    "start_time": "2023-07-23T16:04:23.187Z"
   },
   {
    "duration": 545,
    "start_time": "2023-07-23T16:04:23.194Z"
   },
   {
    "duration": 441,
    "start_time": "2023-07-23T16:04:23.741Z"
   },
   {
    "duration": 2,
    "start_time": "2023-07-23T16:04:24.183Z"
   },
   {
    "duration": 219,
    "start_time": "2023-07-23T16:04:24.187Z"
   },
   {
    "duration": 523,
    "start_time": "2023-07-23T16:04:24.408Z"
   },
   {
    "duration": 12,
    "start_time": "2023-07-23T16:04:24.932Z"
   },
   {
    "duration": 7,
    "start_time": "2023-07-23T16:04:24.945Z"
   },
   {
    "duration": 19,
    "start_time": "2023-07-23T16:04:24.953Z"
   },
   {
    "duration": 28,
    "start_time": "2023-07-23T16:04:24.973Z"
   },
   {
    "duration": 13,
    "start_time": "2023-07-23T16:04:25.003Z"
   },
   {
    "duration": 15,
    "start_time": "2023-07-23T16:04:25.017Z"
   },
   {
    "duration": 25,
    "start_time": "2023-07-23T16:04:25.033Z"
   },
   {
    "duration": 20,
    "start_time": "2023-07-23T16:04:25.059Z"
   },
   {
    "duration": 2740,
    "start_time": "2023-07-23T16:04:25.081Z"
   },
   {
    "duration": 11080,
    "start_time": "2023-07-23T16:04:27.823Z"
   },
   {
    "duration": 21235,
    "start_time": "2023-07-23T16:04:38.905Z"
   },
   {
    "duration": 0,
    "start_time": "2023-07-23T16:05:00.142Z"
   },
   {
    "duration": 430514,
    "start_time": "2023-07-23T16:05:16.697Z"
   },
   {
    "duration": 4,
    "start_time": "2023-07-23T16:22:28.315Z"
   },
   {
    "duration": 9,
    "start_time": "2023-07-23T16:27:41.549Z"
   },
   {
    "duration": 32738,
    "start_time": "2023-07-23T16:27:55.488Z"
   },
   {
    "duration": 0,
    "start_time": "2023-07-23T16:28:28.233Z"
   },
   {
    "duration": 0,
    "start_time": "2023-07-23T16:28:28.234Z"
   },
   {
    "duration": 0,
    "start_time": "2023-07-23T16:28:28.235Z"
   },
   {
    "duration": 0,
    "start_time": "2023-07-23T16:28:28.236Z"
   },
   {
    "duration": 0,
    "start_time": "2023-07-23T16:28:28.237Z"
   },
   {
    "duration": 0,
    "start_time": "2023-07-23T16:28:28.238Z"
   },
   {
    "duration": 0,
    "start_time": "2023-07-23T16:28:28.239Z"
   },
   {
    "duration": 0,
    "start_time": "2023-07-23T16:28:28.239Z"
   },
   {
    "duration": 0,
    "start_time": "2023-07-23T16:28:28.240Z"
   },
   {
    "duration": 0,
    "start_time": "2023-07-23T16:28:28.241Z"
   },
   {
    "duration": 0,
    "start_time": "2023-07-23T16:28:28.242Z"
   },
   {
    "duration": 0,
    "start_time": "2023-07-23T16:28:28.243Z"
   },
   {
    "duration": 0,
    "start_time": "2023-07-23T16:28:28.244Z"
   },
   {
    "duration": 0,
    "start_time": "2023-07-23T16:28:28.244Z"
   },
   {
    "duration": 0,
    "start_time": "2023-07-23T16:28:28.245Z"
   },
   {
    "duration": 0,
    "start_time": "2023-07-23T16:28:28.246Z"
   },
   {
    "duration": 0,
    "start_time": "2023-07-23T16:28:28.247Z"
   },
   {
    "duration": 0,
    "start_time": "2023-07-23T16:28:28.248Z"
   },
   {
    "duration": 0,
    "start_time": "2023-07-23T16:28:28.249Z"
   },
   {
    "duration": 0,
    "start_time": "2023-07-23T16:28:28.250Z"
   },
   {
    "duration": 0,
    "start_time": "2023-07-23T16:28:28.251Z"
   },
   {
    "duration": 0,
    "start_time": "2023-07-23T16:28:28.252Z"
   },
   {
    "duration": 0,
    "start_time": "2023-07-23T16:28:28.252Z"
   },
   {
    "duration": 0,
    "start_time": "2023-07-23T16:28:28.253Z"
   },
   {
    "duration": 0,
    "start_time": "2023-07-23T16:28:28.254Z"
   },
   {
    "duration": 0,
    "start_time": "2023-07-23T16:28:28.255Z"
   },
   {
    "duration": 0,
    "start_time": "2023-07-23T16:28:28.256Z"
   },
   {
    "duration": 0,
    "start_time": "2023-07-23T16:28:28.257Z"
   },
   {
    "duration": 0,
    "start_time": "2023-07-23T16:28:28.258Z"
   },
   {
    "duration": 0,
    "start_time": "2023-07-23T16:28:28.258Z"
   },
   {
    "duration": 0,
    "start_time": "2023-07-23T16:28:28.260Z"
   },
   {
    "duration": 0,
    "start_time": "2023-07-23T16:28:28.260Z"
   },
   {
    "duration": 3,
    "start_time": "2023-07-23T16:28:29.491Z"
   },
   {
    "duration": 691,
    "start_time": "2023-07-23T16:28:29.496Z"
   },
   {
    "duration": 50,
    "start_time": "2023-07-23T16:28:30.189Z"
   },
   {
    "duration": 4,
    "start_time": "2023-07-23T16:28:30.241Z"
   },
   {
    "duration": 21,
    "start_time": "2023-07-23T16:28:30.246Z"
   },
   {
    "duration": 14,
    "start_time": "2023-07-23T16:28:30.268Z"
   },
   {
    "duration": 222,
    "start_time": "2023-07-23T16:28:30.284Z"
   },
   {
    "duration": 4,
    "start_time": "2023-07-23T16:28:30.508Z"
   },
   {
    "duration": 26,
    "start_time": "2023-07-23T16:28:30.522Z"
   },
   {
    "duration": 22,
    "start_time": "2023-07-23T16:28:30.551Z"
   },
   {
    "duration": 37,
    "start_time": "2023-07-23T16:28:30.574Z"
   },
   {
    "duration": 82,
    "start_time": "2023-07-23T16:28:30.613Z"
   },
   {
    "duration": 14,
    "start_time": "2023-07-23T16:28:30.697Z"
   },
   {
    "duration": 1043,
    "start_time": "2023-07-23T16:28:30.713Z"
   },
   {
    "duration": 616,
    "start_time": "2023-07-23T16:28:31.758Z"
   },
   {
    "duration": 6,
    "start_time": "2023-07-23T16:28:32.377Z"
   },
   {
    "duration": 462,
    "start_time": "2023-07-23T16:28:32.385Z"
   },
   {
    "duration": 422,
    "start_time": "2023-07-23T16:28:32.848Z"
   },
   {
    "duration": 2,
    "start_time": "2023-07-23T16:28:33.271Z"
   },
   {
    "duration": 182,
    "start_time": "2023-07-23T16:28:33.274Z"
   },
   {
    "duration": 545,
    "start_time": "2023-07-23T16:28:33.457Z"
   },
   {
    "duration": 19,
    "start_time": "2023-07-23T16:28:34.004Z"
   },
   {
    "duration": 3,
    "start_time": "2023-07-23T16:28:34.024Z"
   },
   {
    "duration": 16,
    "start_time": "2023-07-23T16:28:34.029Z"
   },
   {
    "duration": 10,
    "start_time": "2023-07-23T16:28:34.046Z"
   },
   {
    "duration": 8,
    "start_time": "2023-07-23T16:28:34.057Z"
   },
   {
    "duration": 10,
    "start_time": "2023-07-23T16:28:34.067Z"
   },
   {
    "duration": 5,
    "start_time": "2023-07-23T16:28:34.079Z"
   },
   {
    "duration": 6,
    "start_time": "2023-07-23T16:28:34.085Z"
   },
   {
    "duration": 2230,
    "start_time": "2023-07-23T16:28:34.092Z"
   },
   {
    "duration": 11512,
    "start_time": "2023-07-23T16:28:36.324Z"
   },
   {
    "duration": 1268,
    "start_time": "2023-07-23T16:30:53.655Z"
   },
   {
    "duration": 1200,
    "start_time": "2023-07-23T16:30:54.925Z"
   },
   {
    "duration": 109,
    "start_time": "2023-07-23T16:30:56.127Z"
   },
   {
    "duration": 5,
    "start_time": "2023-07-23T16:30:56.237Z"
   },
   {
    "duration": 15,
    "start_time": "2023-07-23T16:30:56.243Z"
   },
   {
    "duration": 16,
    "start_time": "2023-07-23T16:30:56.259Z"
   },
   {
    "duration": 481,
    "start_time": "2023-07-23T16:30:56.276Z"
   },
   {
    "duration": 62,
    "start_time": "2023-07-23T16:30:56.758Z"
   },
   {
    "duration": 17,
    "start_time": "2023-07-23T16:30:56.822Z"
   },
   {
    "duration": 16,
    "start_time": "2023-07-23T16:30:56.841Z"
   },
   {
    "duration": 2,
    "start_time": "2023-07-23T16:30:56.858Z"
   },
   {
    "duration": 96,
    "start_time": "2023-07-23T16:30:56.861Z"
   },
   {
    "duration": 15,
    "start_time": "2023-07-23T16:30:56.958Z"
   },
   {
    "duration": 1908,
    "start_time": "2023-07-23T16:30:56.975Z"
   },
   {
    "duration": 579,
    "start_time": "2023-07-23T16:30:58.884Z"
   },
   {
    "duration": 7,
    "start_time": "2023-07-23T16:30:59.465Z"
   },
   {
    "duration": 558,
    "start_time": "2023-07-23T16:30:59.474Z"
   },
   {
    "duration": 446,
    "start_time": "2023-07-23T16:31:00.034Z"
   },
   {
    "duration": 2,
    "start_time": "2023-07-23T16:31:00.482Z"
   },
   {
    "duration": 229,
    "start_time": "2023-07-23T16:31:00.485Z"
   },
   {
    "duration": 541,
    "start_time": "2023-07-23T16:31:00.716Z"
   },
   {
    "duration": 11,
    "start_time": "2023-07-23T16:31:01.258Z"
   },
   {
    "duration": 45,
    "start_time": "2023-07-23T16:31:01.270Z"
   },
   {
    "duration": 82,
    "start_time": "2023-07-23T16:31:01.316Z"
   },
   {
    "duration": 33,
    "start_time": "2023-07-23T16:31:01.400Z"
   },
   {
    "duration": 52,
    "start_time": "2023-07-23T16:31:01.434Z"
   },
   {
    "duration": 62,
    "start_time": "2023-07-23T16:31:01.488Z"
   },
   {
    "duration": 98,
    "start_time": "2023-07-23T16:31:01.554Z"
   },
   {
    "duration": 38,
    "start_time": "2023-07-23T16:31:01.654Z"
   },
   {
    "duration": 2335,
    "start_time": "2023-07-23T16:31:01.693Z"
   },
   {
    "duration": 10210,
    "start_time": "2023-07-23T16:31:04.029Z"
   },
   {
    "duration": 136576,
    "start_time": "2023-07-23T16:31:14.240Z"
   },
   {
    "duration": 45,
    "start_time": "2023-07-23T16:37:39.867Z"
   },
   {
    "duration": 1259,
    "start_time": "2023-07-23T16:37:46.966Z"
   },
   {
    "duration": 1960,
    "start_time": "2023-07-23T16:37:48.227Z"
   },
   {
    "duration": 45,
    "start_time": "2023-07-23T16:37:50.188Z"
   },
   {
    "duration": 26,
    "start_time": "2023-07-23T16:37:50.234Z"
   },
   {
    "duration": 29,
    "start_time": "2023-07-23T16:37:50.262Z"
   },
   {
    "duration": 44,
    "start_time": "2023-07-23T16:37:50.292Z"
   },
   {
    "duration": 235,
    "start_time": "2023-07-23T16:37:50.337Z"
   },
   {
    "duration": 4,
    "start_time": "2023-07-23T16:37:50.573Z"
   },
   {
    "duration": 35,
    "start_time": "2023-07-23T16:37:50.578Z"
   },
   {
    "duration": 33,
    "start_time": "2023-07-23T16:37:50.614Z"
   },
   {
    "duration": 17,
    "start_time": "2023-07-23T16:37:50.649Z"
   },
   {
    "duration": 58,
    "start_time": "2023-07-23T16:37:50.667Z"
   },
   {
    "duration": 15,
    "start_time": "2023-07-23T16:37:50.727Z"
   },
   {
    "duration": 991,
    "start_time": "2023-07-23T16:37:50.745Z"
   },
   {
    "duration": 525,
    "start_time": "2023-07-23T16:37:51.738Z"
   },
   {
    "duration": 5,
    "start_time": "2023-07-23T16:37:52.264Z"
   },
   {
    "duration": 516,
    "start_time": "2023-07-23T16:37:52.270Z"
   },
   {
    "duration": 449,
    "start_time": "2023-07-23T16:37:52.787Z"
   },
   {
    "duration": 2,
    "start_time": "2023-07-23T16:37:53.237Z"
   },
   {
    "duration": 206,
    "start_time": "2023-07-23T16:37:53.241Z"
   },
   {
    "duration": 495,
    "start_time": "2023-07-23T16:37:53.448Z"
   },
   {
    "duration": 12,
    "start_time": "2023-07-23T16:37:53.944Z"
   },
   {
    "duration": 71,
    "start_time": "2023-07-23T16:37:53.957Z"
   },
   {
    "duration": 26,
    "start_time": "2023-07-23T16:37:54.030Z"
   },
   {
    "duration": 46,
    "start_time": "2023-07-23T16:37:54.057Z"
   },
   {
    "duration": 76,
    "start_time": "2023-07-23T16:37:54.104Z"
   },
   {
    "duration": 27,
    "start_time": "2023-07-23T16:37:54.181Z"
   },
   {
    "duration": 58,
    "start_time": "2023-07-23T16:37:54.209Z"
   },
   {
    "duration": 56,
    "start_time": "2023-07-23T16:37:54.269Z"
   },
   {
    "duration": 44,
    "start_time": "2023-07-23T16:40:49.193Z"
   },
   {
    "duration": 1434,
    "start_time": "2023-07-23T16:40:59.989Z"
   },
   {
    "duration": 2212,
    "start_time": "2023-07-23T16:41:01.425Z"
   },
   {
    "duration": 46,
    "start_time": "2023-07-23T16:41:03.638Z"
   },
   {
    "duration": 4,
    "start_time": "2023-07-23T16:41:03.686Z"
   },
   {
    "duration": 8,
    "start_time": "2023-07-23T16:41:03.691Z"
   },
   {
    "duration": 5,
    "start_time": "2023-07-23T16:41:03.700Z"
   },
   {
    "duration": 236,
    "start_time": "2023-07-23T16:41:03.706Z"
   },
   {
    "duration": 4,
    "start_time": "2023-07-23T16:41:03.944Z"
   },
   {
    "duration": 22,
    "start_time": "2023-07-23T16:41:03.950Z"
   },
   {
    "duration": 14,
    "start_time": "2023-07-23T16:41:03.974Z"
   },
   {
    "duration": 8,
    "start_time": "2023-07-23T16:41:03.989Z"
   },
   {
    "duration": 58,
    "start_time": "2023-07-23T16:41:03.999Z"
   },
   {
    "duration": 16,
    "start_time": "2023-07-23T16:41:04.058Z"
   },
   {
    "duration": 1917,
    "start_time": "2023-07-23T16:41:04.076Z"
   },
   {
    "duration": 546,
    "start_time": "2023-07-23T16:41:05.995Z"
   },
   {
    "duration": 6,
    "start_time": "2023-07-23T16:41:06.543Z"
   },
   {
    "duration": 558,
    "start_time": "2023-07-23T16:41:06.551Z"
   },
   {
    "duration": 452,
    "start_time": "2023-07-23T16:41:07.110Z"
   },
   {
    "duration": 3,
    "start_time": "2023-07-23T16:41:07.563Z"
   },
   {
    "duration": 196,
    "start_time": "2023-07-23T16:41:07.567Z"
   },
   {
    "duration": 545,
    "start_time": "2023-07-23T16:41:07.764Z"
   },
   {
    "duration": 17,
    "start_time": "2023-07-23T16:41:08.310Z"
   },
   {
    "duration": 22,
    "start_time": "2023-07-23T16:41:08.328Z"
   },
   {
    "duration": 22,
    "start_time": "2023-07-23T16:41:08.351Z"
   },
   {
    "duration": 18,
    "start_time": "2023-07-23T16:41:08.374Z"
   },
   {
    "duration": 17,
    "start_time": "2023-07-23T16:41:08.393Z"
   },
   {
    "duration": 12,
    "start_time": "2023-07-23T16:41:08.411Z"
   },
   {
    "duration": 13,
    "start_time": "2023-07-23T16:41:08.426Z"
   },
   {
    "duration": 18,
    "start_time": "2023-07-23T16:41:08.440Z"
   },
   {
    "duration": 2062,
    "start_time": "2023-07-23T16:41:08.460Z"
   },
   {
    "duration": 12456,
    "start_time": "2023-07-23T16:41:10.524Z"
   },
   {
    "duration": 1280,
    "start_time": "2023-07-23T16:43:23.545Z"
   },
   {
    "duration": 737,
    "start_time": "2023-07-23T16:43:24.827Z"
   },
   {
    "duration": 61,
    "start_time": "2023-07-23T16:43:25.566Z"
   },
   {
    "duration": 4,
    "start_time": "2023-07-23T16:43:25.629Z"
   },
   {
    "duration": 28,
    "start_time": "2023-07-23T16:43:25.635Z"
   },
   {
    "duration": 10,
    "start_time": "2023-07-23T16:43:25.665Z"
   },
   {
    "duration": 234,
    "start_time": "2023-07-23T16:43:25.677Z"
   },
   {
    "duration": 10,
    "start_time": "2023-07-23T16:43:25.913Z"
   },
   {
    "duration": 15,
    "start_time": "2023-07-23T16:43:25.925Z"
   },
   {
    "duration": 14,
    "start_time": "2023-07-23T16:43:25.943Z"
   },
   {
    "duration": 2,
    "start_time": "2023-07-23T16:43:25.959Z"
   },
   {
    "duration": 70,
    "start_time": "2023-07-23T16:43:25.962Z"
   },
   {
    "duration": 15,
    "start_time": "2023-07-23T16:43:26.034Z"
   },
   {
    "duration": 1023,
    "start_time": "2023-07-23T16:43:26.051Z"
   },
   {
    "duration": 541,
    "start_time": "2023-07-23T16:43:27.075Z"
   },
   {
    "duration": 5,
    "start_time": "2023-07-23T16:43:27.620Z"
   },
   {
    "duration": 538,
    "start_time": "2023-07-23T16:43:27.626Z"
   },
   {
    "duration": 445,
    "start_time": "2023-07-23T16:43:28.166Z"
   },
   {
    "duration": 2,
    "start_time": "2023-07-23T16:43:28.613Z"
   },
   {
    "duration": 194,
    "start_time": "2023-07-23T16:43:28.616Z"
   },
   {
    "duration": 527,
    "start_time": "2023-07-23T16:43:28.811Z"
   },
   {
    "duration": 12,
    "start_time": "2023-07-23T16:43:29.339Z"
   },
   {
    "duration": 4,
    "start_time": "2023-07-23T16:43:29.352Z"
   },
   {
    "duration": 7,
    "start_time": "2023-07-23T16:43:29.358Z"
   },
   {
    "duration": 18,
    "start_time": "2023-07-23T16:43:29.366Z"
   },
   {
    "duration": 50,
    "start_time": "2023-07-23T16:43:29.385Z"
   },
   {
    "duration": 32,
    "start_time": "2023-07-23T16:43:29.436Z"
   },
   {
    "duration": 3,
    "start_time": "2023-07-23T16:43:29.471Z"
   },
   {
    "duration": 26,
    "start_time": "2023-07-23T16:43:29.475Z"
   },
   {
    "duration": 2319,
    "start_time": "2023-07-23T16:43:29.502Z"
   },
   {
    "duration": 10488,
    "start_time": "2023-07-23T16:43:31.823Z"
   },
   {
    "duration": 1327,
    "start_time": "2023-07-23T16:45:14.866Z"
   },
   {
    "duration": 688,
    "start_time": "2023-07-23T16:45:16.195Z"
   },
   {
    "duration": 55,
    "start_time": "2023-07-23T16:45:16.884Z"
   },
   {
    "duration": 4,
    "start_time": "2023-07-23T16:45:16.941Z"
   },
   {
    "duration": 5,
    "start_time": "2023-07-23T16:45:16.947Z"
   },
   {
    "duration": 9,
    "start_time": "2023-07-23T16:45:16.954Z"
   },
   {
    "duration": 241,
    "start_time": "2023-07-23T16:45:16.965Z"
   },
   {
    "duration": 14,
    "start_time": "2023-07-23T16:45:17.208Z"
   },
   {
    "duration": 21,
    "start_time": "2023-07-23T16:45:17.224Z"
   },
   {
    "duration": 16,
    "start_time": "2023-07-23T16:45:17.249Z"
   },
   {
    "duration": 2,
    "start_time": "2023-07-23T16:45:17.266Z"
   },
   {
    "duration": 76,
    "start_time": "2023-07-23T16:45:17.270Z"
   },
   {
    "duration": 21,
    "start_time": "2023-07-23T16:45:17.349Z"
   },
   {
    "duration": 1083,
    "start_time": "2023-07-23T16:45:17.372Z"
   },
   {
    "duration": 559,
    "start_time": "2023-07-23T16:45:18.456Z"
   },
   {
    "duration": 8,
    "start_time": "2023-07-23T16:45:19.017Z"
   },
   {
    "duration": 558,
    "start_time": "2023-07-23T16:45:19.026Z"
   },
   {
    "duration": 537,
    "start_time": "2023-07-23T16:45:19.586Z"
   },
   {
    "duration": 3,
    "start_time": "2023-07-23T16:45:20.125Z"
   },
   {
    "duration": 219,
    "start_time": "2023-07-23T16:45:20.129Z"
   },
   {
    "duration": 530,
    "start_time": "2023-07-23T16:45:20.350Z"
   },
   {
    "duration": 13,
    "start_time": "2023-07-23T16:45:20.881Z"
   },
   {
    "duration": 4,
    "start_time": "2023-07-23T16:45:20.895Z"
   },
   {
    "duration": 22,
    "start_time": "2023-07-23T16:45:20.900Z"
   },
   {
    "duration": 12,
    "start_time": "2023-07-23T16:45:20.924Z"
   },
   {
    "duration": 10,
    "start_time": "2023-07-23T16:45:20.938Z"
   },
   {
    "duration": 11,
    "start_time": "2023-07-23T16:45:20.950Z"
   },
   {
    "duration": 8,
    "start_time": "2023-07-23T16:45:20.964Z"
   },
   {
    "duration": 9,
    "start_time": "2023-07-23T16:45:20.973Z"
   },
   {
    "duration": 2438,
    "start_time": "2023-07-23T16:45:20.983Z"
   },
   {
    "duration": 10790,
    "start_time": "2023-07-23T16:45:23.423Z"
   },
   {
    "duration": 25068,
    "start_time": "2023-07-23T16:45:34.215Z"
   },
   {
    "duration": 12442,
    "start_time": "2023-07-23T16:45:59.284Z"
   },
   {
    "duration": 8,
    "start_time": "2023-07-23T18:08:10.538Z"
   },
   {
    "duration": 8,
    "start_time": "2023-07-23T18:08:23.734Z"
   },
   {
    "duration": 4,
    "start_time": "2023-07-23T18:08:27.752Z"
   },
   {
    "duration": 697,
    "start_time": "2023-07-23T18:08:27.758Z"
   },
   {
    "duration": 43,
    "start_time": "2023-07-23T18:08:28.457Z"
   },
   {
    "duration": 18,
    "start_time": "2023-07-23T18:08:28.502Z"
   },
   {
    "duration": 3,
    "start_time": "2023-07-23T18:08:28.521Z"
   },
   {
    "duration": 7,
    "start_time": "2023-07-23T18:08:28.525Z"
   },
   {
    "duration": 234,
    "start_time": "2023-07-23T18:08:28.533Z"
   },
   {
    "duration": 8,
    "start_time": "2023-07-23T18:08:28.768Z"
   },
   {
    "duration": 17,
    "start_time": "2023-07-23T18:08:28.777Z"
   },
   {
    "duration": 30,
    "start_time": "2023-07-23T18:08:28.796Z"
   },
   {
    "duration": 2,
    "start_time": "2023-07-23T18:08:28.828Z"
   },
   {
    "duration": 40,
    "start_time": "2023-07-23T18:08:28.832Z"
   },
   {
    "duration": 12,
    "start_time": "2023-07-23T18:08:28.874Z"
   },
   {
    "duration": 1137,
    "start_time": "2023-07-23T18:08:28.888Z"
   },
   {
    "duration": 1218,
    "start_time": "2023-07-23T18:08:30.026Z"
   },
   {
    "duration": 5,
    "start_time": "2023-07-23T18:08:31.246Z"
   },
   {
    "duration": 535,
    "start_time": "2023-07-23T18:08:31.252Z"
   },
   {
    "duration": 427,
    "start_time": "2023-07-23T18:08:31.788Z"
   },
   {
    "duration": 4,
    "start_time": "2023-07-23T18:08:32.216Z"
   },
   {
    "duration": 518,
    "start_time": "2023-07-23T18:08:32.221Z"
   },
   {
    "duration": 891,
    "start_time": "2023-07-23T18:08:32.740Z"
   },
   {
    "duration": 12,
    "start_time": "2023-07-23T18:08:33.633Z"
   },
   {
    "duration": 4,
    "start_time": "2023-07-23T18:08:33.646Z"
   },
   {
    "duration": 11,
    "start_time": "2023-07-23T18:08:33.651Z"
   },
   {
    "duration": 5,
    "start_time": "2023-07-23T18:08:33.663Z"
   },
   {
    "duration": 54,
    "start_time": "2023-07-23T18:08:33.669Z"
   },
   {
    "duration": 6,
    "start_time": "2023-07-23T18:08:33.724Z"
   },
   {
    "duration": 3,
    "start_time": "2023-07-23T18:08:33.733Z"
   },
   {
    "duration": 6,
    "start_time": "2023-07-23T18:08:33.737Z"
   },
   {
    "duration": 2083,
    "start_time": "2023-07-23T18:08:33.745Z"
   },
   {
    "duration": 12490,
    "start_time": "2023-07-23T18:08:35.830Z"
   },
   {
    "duration": 25879,
    "start_time": "2023-07-23T18:08:48.322Z"
   },
   {
    "duration": 19,
    "start_time": "2023-07-23T18:09:14.203Z"
   },
   {
    "duration": 0,
    "start_time": "2023-07-23T18:09:14.223Z"
   },
   {
    "duration": 8,
    "start_time": "2023-07-23T18:09:22.169Z"
   },
   {
    "duration": 2,
    "start_time": "2023-07-23T18:10:47.008Z"
   },
   {
    "duration": 24,
    "start_time": "2023-07-23T18:12:48.111Z"
   },
   {
    "duration": 15,
    "start_time": "2023-07-23T18:13:21.141Z"
   },
   {
    "duration": 4,
    "start_time": "2023-07-23T18:13:24.158Z"
   },
   {
    "duration": 694,
    "start_time": "2023-07-23T18:13:24.164Z"
   },
   {
    "duration": 47,
    "start_time": "2023-07-23T18:13:24.859Z"
   },
   {
    "duration": 14,
    "start_time": "2023-07-23T18:13:24.907Z"
   },
   {
    "duration": 25,
    "start_time": "2023-07-23T18:13:24.922Z"
   },
   {
    "duration": 12,
    "start_time": "2023-07-23T18:13:24.950Z"
   },
   {
    "duration": 247,
    "start_time": "2023-07-23T18:13:24.964Z"
   },
   {
    "duration": 9,
    "start_time": "2023-07-23T18:13:25.212Z"
   },
   {
    "duration": 19,
    "start_time": "2023-07-23T18:13:25.223Z"
   },
   {
    "duration": 43,
    "start_time": "2023-07-23T18:13:25.243Z"
   },
   {
    "duration": 7,
    "start_time": "2023-07-23T18:13:25.288Z"
   },
   {
    "duration": 66,
    "start_time": "2023-07-23T18:13:25.296Z"
   },
   {
    "duration": 22,
    "start_time": "2023-07-23T18:13:25.364Z"
   },
   {
    "duration": 1998,
    "start_time": "2023-07-23T18:13:25.388Z"
   },
   {
    "duration": 534,
    "start_time": "2023-07-23T18:13:27.389Z"
   },
   {
    "duration": 5,
    "start_time": "2023-07-23T18:13:27.925Z"
   },
   {
    "duration": 554,
    "start_time": "2023-07-23T18:13:27.932Z"
   },
   {
    "duration": 469,
    "start_time": "2023-07-23T18:13:28.488Z"
   },
   {
    "duration": 2,
    "start_time": "2023-07-23T18:13:28.959Z"
   },
   {
    "duration": 197,
    "start_time": "2023-07-23T18:13:28.962Z"
   },
   {
    "duration": 490,
    "start_time": "2023-07-23T18:13:29.161Z"
   },
   {
    "duration": 15,
    "start_time": "2023-07-23T18:13:29.653Z"
   },
   {
    "duration": 12,
    "start_time": "2023-07-23T18:13:29.670Z"
   },
   {
    "duration": 23,
    "start_time": "2023-07-23T18:13:29.683Z"
   },
   {
    "duration": 9,
    "start_time": "2023-07-23T18:13:29.707Z"
   },
   {
    "duration": 6,
    "start_time": "2023-07-23T18:13:29.718Z"
   },
   {
    "duration": 5,
    "start_time": "2023-07-23T18:13:29.725Z"
   },
   {
    "duration": 5,
    "start_time": "2023-07-23T18:13:29.732Z"
   },
   {
    "duration": 6,
    "start_time": "2023-07-23T18:13:29.738Z"
   },
   {
    "duration": 5,
    "start_time": "2023-07-23T18:13:29.746Z"
   },
   {
    "duration": 30,
    "start_time": "2023-07-23T18:13:29.753Z"
   },
   {
    "duration": 3447,
    "start_time": "2023-07-23T18:13:29.785Z"
   },
   {
    "duration": 10459,
    "start_time": "2023-07-23T18:13:33.324Z"
   },
   {
    "duration": 25724,
    "start_time": "2023-07-23T18:13:43.784Z"
   },
   {
    "duration": 14,
    "start_time": "2023-07-23T18:14:09.510Z"
   },
   {
    "duration": 0,
    "start_time": "2023-07-23T18:14:09.526Z"
   },
   {
    "duration": 8,
    "start_time": "2023-07-23T18:16:14.218Z"
   },
   {
    "duration": 4,
    "start_time": "2023-07-23T18:16:16.760Z"
   },
   {
    "duration": 98,
    "start_time": "2023-07-23T18:16:18.364Z"
   },
   {
    "duration": 2902,
    "start_time": "2023-07-23T18:17:06.628Z"
   },
   {
    "duration": 96,
    "start_time": "2023-07-23T18:17:48.715Z"
   },
   {
    "duration": 70,
    "start_time": "2023-07-23T18:18:09.388Z"
   },
   {
    "duration": 63,
    "start_time": "2023-07-23T18:18:50.845Z"
   },
   {
    "duration": 124,
    "start_time": "2023-07-23T18:19:05.807Z"
   },
   {
    "duration": 66,
    "start_time": "2023-07-23T18:19:14.676Z"
   },
   {
    "duration": 2908,
    "start_time": "2023-07-23T18:19:19.743Z"
   },
   {
    "duration": 6,
    "start_time": "2023-07-23T18:20:39.336Z"
   },
   {
    "duration": 11414,
    "start_time": "2023-07-23T18:28:04.213Z"
   },
   {
    "duration": 11366,
    "start_time": "2023-07-23T18:28:28.559Z"
   },
   {
    "duration": 11669,
    "start_time": "2023-07-23T18:29:53.958Z"
   },
   {
    "duration": 11222,
    "start_time": "2023-07-23T18:32:00.398Z"
   },
   {
    "duration": 100,
    "start_time": "2023-07-23T18:34:12.425Z"
   },
   {
    "duration": 2921,
    "start_time": "2023-07-23T18:34:28.817Z"
   },
   {
    "duration": 11391,
    "start_time": "2023-07-23T18:35:35.337Z"
   },
   {
    "duration": 11560,
    "start_time": "2023-07-23T18:36:41.164Z"
   },
   {
    "duration": 308,
    "start_time": "2023-07-23T18:38:10.322Z"
   },
   {
    "duration": 4,
    "start_time": "2023-07-23T18:44:51.331Z"
   },
   {
    "duration": 729,
    "start_time": "2023-07-23T18:44:51.337Z"
   },
   {
    "duration": 42,
    "start_time": "2023-07-23T18:44:52.068Z"
   },
   {
    "duration": 7,
    "start_time": "2023-07-23T18:44:52.121Z"
   },
   {
    "duration": 14,
    "start_time": "2023-07-23T18:44:52.130Z"
   },
   {
    "duration": 25,
    "start_time": "2023-07-23T18:44:52.145Z"
   },
   {
    "duration": 206,
    "start_time": "2023-07-23T18:44:52.172Z"
   },
   {
    "duration": 7,
    "start_time": "2023-07-23T18:44:52.380Z"
   },
   {
    "duration": 34,
    "start_time": "2023-07-23T18:44:52.389Z"
   },
   {
    "duration": 21,
    "start_time": "2023-07-23T18:44:52.424Z"
   },
   {
    "duration": 2,
    "start_time": "2023-07-23T18:44:52.447Z"
   },
   {
    "duration": 43,
    "start_time": "2023-07-23T18:44:52.450Z"
   },
   {
    "duration": 12,
    "start_time": "2023-07-23T18:44:52.494Z"
   },
   {
    "duration": 993,
    "start_time": "2023-07-23T18:44:52.508Z"
   },
   {
    "duration": 604,
    "start_time": "2023-07-23T18:44:53.503Z"
   },
   {
    "duration": 11,
    "start_time": "2023-07-23T18:44:54.109Z"
   },
   {
    "duration": 448,
    "start_time": "2023-07-23T18:44:54.121Z"
   },
   {
    "duration": 571,
    "start_time": "2023-07-23T18:44:54.570Z"
   },
   {
    "duration": 4,
    "start_time": "2023-07-23T18:44:55.143Z"
   },
   {
    "duration": 320,
    "start_time": "2023-07-23T18:44:55.149Z"
   },
   {
    "duration": 471,
    "start_time": "2023-07-23T18:44:55.471Z"
   },
   {
    "duration": 11,
    "start_time": "2023-07-23T18:44:55.944Z"
   },
   {
    "duration": 14,
    "start_time": "2023-07-23T18:44:55.956Z"
   },
   {
    "duration": 28,
    "start_time": "2023-07-23T18:44:55.972Z"
   },
   {
    "duration": 29,
    "start_time": "2023-07-23T18:44:56.002Z"
   },
   {
    "duration": 45,
    "start_time": "2023-07-23T18:44:56.033Z"
   },
   {
    "duration": 33,
    "start_time": "2023-07-23T18:44:56.079Z"
   },
   {
    "duration": 24,
    "start_time": "2023-07-23T18:44:56.113Z"
   },
   {
    "duration": 27,
    "start_time": "2023-07-23T18:44:56.138Z"
   },
   {
    "duration": 21,
    "start_time": "2023-07-23T18:44:56.167Z"
   },
   {
    "duration": 61,
    "start_time": "2023-07-23T18:44:56.189Z"
   },
   {
    "duration": 4786,
    "start_time": "2023-07-23T18:44:56.252Z"
   },
   {
    "duration": 11151,
    "start_time": "2023-07-23T18:45:01.119Z"
   },
   {
    "duration": 147311,
    "start_time": "2023-07-23T18:45:12.272Z"
   },
   {
    "duration": 4,
    "start_time": "2023-07-23T18:47:39.585Z"
   },
   {
    "duration": 3214,
    "start_time": "2023-07-23T18:47:39.590Z"
   },
   {
    "duration": 15,
    "start_time": "2023-07-23T18:47:42.805Z"
   },
   {
    "duration": 122,
    "start_time": "2023-07-23T18:47:42.822Z"
   },
   {
    "duration": 693,
    "start_time": "2023-07-23T18:47:42.947Z"
   },
   {
    "duration": 9,
    "start_time": "2023-07-23T18:47:54.006Z"
   },
   {
    "duration": 5,
    "start_time": "2023-07-23T18:48:05.934Z"
   },
   {
    "duration": 3199,
    "start_time": "2023-07-23T18:48:08.986Z"
   },
   {
    "duration": 6,
    "start_time": "2023-07-23T18:48:12.186Z"
   },
   {
    "duration": 120,
    "start_time": "2023-07-23T18:48:12.194Z"
   },
   {
    "duration": 508,
    "start_time": "2023-07-23T18:48:12.320Z"
   },
   {
    "duration": 2462,
    "start_time": "2023-07-23T19:24:36.885Z"
   },
   {
    "duration": 701,
    "start_time": "2023-07-23T19:24:39.349Z"
   },
   {
    "duration": 55,
    "start_time": "2023-07-23T19:24:40.052Z"
   },
   {
    "duration": 4,
    "start_time": "2023-07-23T19:24:40.109Z"
   },
   {
    "duration": 31,
    "start_time": "2023-07-23T19:24:40.115Z"
   },
   {
    "duration": 6,
    "start_time": "2023-07-23T19:24:40.148Z"
   },
   {
    "duration": 233,
    "start_time": "2023-07-23T19:24:40.156Z"
   },
   {
    "duration": 6,
    "start_time": "2023-07-23T19:24:40.391Z"
   },
   {
    "duration": 29,
    "start_time": "2023-07-23T19:24:40.398Z"
   },
   {
    "duration": 33,
    "start_time": "2023-07-23T19:24:40.429Z"
   },
   {
    "duration": 4,
    "start_time": "2023-07-23T19:24:40.464Z"
   },
   {
    "duration": 56,
    "start_time": "2023-07-23T19:24:40.470Z"
   },
   {
    "duration": 39,
    "start_time": "2023-07-23T19:24:40.528Z"
   },
   {
    "duration": 1271,
    "start_time": "2023-07-23T19:24:40.570Z"
   },
   {
    "duration": 616,
    "start_time": "2023-07-23T19:24:41.851Z"
   },
   {
    "duration": 7,
    "start_time": "2023-07-23T19:24:42.468Z"
   },
   {
    "duration": 646,
    "start_time": "2023-07-23T19:24:42.476Z"
   },
   {
    "duration": 519,
    "start_time": "2023-07-23T19:24:43.124Z"
   },
   {
    "duration": 2,
    "start_time": "2023-07-23T19:24:43.645Z"
   },
   {
    "duration": 206,
    "start_time": "2023-07-23T19:24:43.649Z"
   },
   {
    "duration": 635,
    "start_time": "2023-07-23T19:24:43.856Z"
   },
   {
    "duration": 14,
    "start_time": "2023-07-23T19:24:44.492Z"
   },
   {
    "duration": 115,
    "start_time": "2023-07-23T19:24:44.508Z"
   },
   {
    "duration": 14,
    "start_time": "2023-07-23T19:24:44.625Z"
   },
   {
    "duration": 9,
    "start_time": "2023-07-23T19:24:44.641Z"
   },
   {
    "duration": 8,
    "start_time": "2023-07-23T19:24:44.652Z"
   },
   {
    "duration": 7,
    "start_time": "2023-07-23T19:24:44.662Z"
   },
   {
    "duration": 9,
    "start_time": "2023-07-23T19:24:44.670Z"
   },
   {
    "duration": 7,
    "start_time": "2023-07-23T19:24:44.681Z"
   },
   {
    "duration": 8,
    "start_time": "2023-07-23T19:24:44.690Z"
   },
   {
    "duration": 23,
    "start_time": "2023-07-23T19:24:44.699Z"
   },
   {
    "duration": 12,
    "start_time": "2023-07-23T19:25:15.157Z"
   },
   {
    "duration": 47,
    "start_time": "2023-07-24T12:45:27.893Z"
   },
   {
    "duration": 2014,
    "start_time": "2023-07-24T12:45:32.187Z"
   },
   {
    "duration": 1957,
    "start_time": "2023-07-24T12:45:34.203Z"
   },
   {
    "duration": 48,
    "start_time": "2023-07-24T12:45:36.161Z"
   },
   {
    "duration": 3,
    "start_time": "2023-07-24T12:45:36.211Z"
   },
   {
    "duration": 11,
    "start_time": "2023-07-24T12:45:36.216Z"
   },
   {
    "duration": 9,
    "start_time": "2023-07-24T12:45:36.228Z"
   },
   {
    "duration": 227,
    "start_time": "2023-07-24T12:45:36.239Z"
   },
   {
    "duration": 5,
    "start_time": "2023-07-24T12:45:36.467Z"
   },
   {
    "duration": 21,
    "start_time": "2023-07-24T12:45:36.474Z"
   },
   {
    "duration": 29,
    "start_time": "2023-07-24T12:45:36.497Z"
   },
   {
    "duration": 8,
    "start_time": "2023-07-24T12:45:36.528Z"
   },
   {
    "duration": 65,
    "start_time": "2023-07-24T12:45:36.538Z"
   },
   {
    "duration": 18,
    "start_time": "2023-07-24T12:45:36.604Z"
   },
   {
    "duration": 1040,
    "start_time": "2023-07-24T12:45:36.624Z"
   },
   {
    "duration": 570,
    "start_time": "2023-07-24T12:45:37.666Z"
   },
   {
    "duration": 6,
    "start_time": "2023-07-24T12:45:38.238Z"
   },
   {
    "duration": 557,
    "start_time": "2023-07-24T12:45:38.245Z"
   },
   {
    "duration": 446,
    "start_time": "2023-07-24T12:45:38.803Z"
   },
   {
    "duration": 2,
    "start_time": "2023-07-24T12:45:39.251Z"
   },
   {
    "duration": 211,
    "start_time": "2023-07-24T12:45:39.254Z"
   },
   {
    "duration": 531,
    "start_time": "2023-07-24T12:45:39.467Z"
   },
   {
    "duration": 20,
    "start_time": "2023-07-24T12:45:39.999Z"
   },
   {
    "duration": 4,
    "start_time": "2023-07-24T12:45:40.020Z"
   },
   {
    "duration": 61,
    "start_time": "2023-07-24T12:45:40.025Z"
   },
   {
    "duration": 31,
    "start_time": "2023-07-24T12:45:40.088Z"
   },
   {
    "duration": 14,
    "start_time": "2023-07-24T12:45:40.121Z"
   },
   {
    "duration": 7,
    "start_time": "2023-07-24T12:45:40.136Z"
   },
   {
    "duration": 14,
    "start_time": "2023-07-24T12:45:40.146Z"
   },
   {
    "duration": 14,
    "start_time": "2023-07-24T12:45:40.162Z"
   },
   {
    "duration": 7,
    "start_time": "2023-07-24T12:45:40.178Z"
   },
   {
    "duration": 77,
    "start_time": "2023-07-24T12:45:40.186Z"
   },
   {
    "duration": 0,
    "start_time": "2023-07-24T12:45:40.265Z"
   },
   {
    "duration": 0,
    "start_time": "2023-07-24T12:45:40.266Z"
   },
   {
    "duration": 0,
    "start_time": "2023-07-24T12:45:40.268Z"
   },
   {
    "duration": 0,
    "start_time": "2023-07-24T12:45:40.269Z"
   },
   {
    "duration": 0,
    "start_time": "2023-07-24T12:45:40.271Z"
   },
   {
    "duration": 0,
    "start_time": "2023-07-24T12:45:40.272Z"
   },
   {
    "duration": 0,
    "start_time": "2023-07-24T12:45:40.273Z"
   },
   {
    "duration": 0,
    "start_time": "2023-07-24T12:45:40.275Z"
   },
   {
    "duration": 545,
    "start_time": "2023-07-24T12:46:03.657Z"
   },
   {
    "duration": 6,
    "start_time": "2023-07-24T12:47:08.604Z"
   },
   {
    "duration": 561,
    "start_time": "2023-07-24T12:47:30.738Z"
   },
   {
    "duration": 645,
    "start_time": "2023-07-24T12:47:47.247Z"
   },
   {
    "duration": 289,
    "start_time": "2023-07-24T12:49:32.917Z"
   },
   {
    "duration": 610,
    "start_time": "2023-07-24T12:49:52.828Z"
   },
   {
    "duration": 14,
    "start_time": "2023-07-24T12:50:36.036Z"
   },
   {
    "duration": 9,
    "start_time": "2023-07-24T13:50:14.447Z"
   },
   {
    "duration": 3,
    "start_time": "2023-07-24T13:50:17.721Z"
   },
   {
    "duration": 694,
    "start_time": "2023-07-24T13:50:17.726Z"
   },
   {
    "duration": 48,
    "start_time": "2023-07-24T13:50:18.422Z"
   },
   {
    "duration": 4,
    "start_time": "2023-07-24T13:50:18.473Z"
   },
   {
    "duration": 16,
    "start_time": "2023-07-24T13:50:18.479Z"
   },
   {
    "duration": 19,
    "start_time": "2023-07-24T13:50:18.497Z"
   },
   {
    "duration": 238,
    "start_time": "2023-07-24T13:50:18.519Z"
   },
   {
    "duration": 4,
    "start_time": "2023-07-24T13:50:18.758Z"
   },
   {
    "duration": 35,
    "start_time": "2023-07-24T13:50:18.764Z"
   },
   {
    "duration": 11,
    "start_time": "2023-07-24T13:50:18.802Z"
   },
   {
    "duration": 5,
    "start_time": "2023-07-24T13:50:18.815Z"
   },
   {
    "duration": 53,
    "start_time": "2023-07-24T13:50:18.821Z"
   },
   {
    "duration": 13,
    "start_time": "2023-07-24T13:50:18.875Z"
   },
   {
    "duration": 952,
    "start_time": "2023-07-24T13:50:18.890Z"
   },
   {
    "duration": 630,
    "start_time": "2023-07-24T13:50:19.843Z"
   },
   {
    "duration": 7,
    "start_time": "2023-07-24T13:50:20.475Z"
   },
   {
    "duration": 682,
    "start_time": "2023-07-24T13:50:20.484Z"
   },
   {
    "duration": 539,
    "start_time": "2023-07-24T13:50:21.168Z"
   },
   {
    "duration": 2,
    "start_time": "2023-07-24T13:50:21.709Z"
   },
   {
    "duration": 461,
    "start_time": "2023-07-24T13:50:21.712Z"
   },
   {
    "duration": 670,
    "start_time": "2023-07-24T13:50:22.174Z"
   },
   {
    "duration": 15,
    "start_time": "2023-07-24T13:50:22.846Z"
   },
   {
    "duration": 58,
    "start_time": "2023-07-24T13:50:22.862Z"
   },
   {
    "duration": 21,
    "start_time": "2023-07-24T13:50:22.922Z"
   },
   {
    "duration": 17,
    "start_time": "2023-07-24T13:50:22.944Z"
   },
   {
    "duration": 11,
    "start_time": "2023-07-24T13:50:22.962Z"
   },
   {
    "duration": 48,
    "start_time": "2023-07-24T13:50:22.974Z"
   },
   {
    "duration": 31,
    "start_time": "2023-07-24T13:50:23.025Z"
   },
   {
    "duration": 23,
    "start_time": "2023-07-24T13:50:23.057Z"
   },
   {
    "duration": 38,
    "start_time": "2023-07-24T13:50:23.082Z"
   },
   {
    "duration": 8,
    "start_time": "2023-07-24T13:50:23.122Z"
   },
   {
    "duration": 39,
    "start_time": "2023-07-24T13:50:23.132Z"
   },
   {
    "duration": 0,
    "start_time": "2023-07-24T13:50:23.172Z"
   },
   {
    "duration": 0,
    "start_time": "2023-07-24T13:50:23.173Z"
   },
   {
    "duration": 0,
    "start_time": "2023-07-24T13:50:23.174Z"
   },
   {
    "duration": 0,
    "start_time": "2023-07-24T13:50:23.175Z"
   },
   {
    "duration": 0,
    "start_time": "2023-07-24T13:50:23.176Z"
   },
   {
    "duration": 0,
    "start_time": "2023-07-24T13:50:23.177Z"
   },
   {
    "duration": 0,
    "start_time": "2023-07-24T13:50:23.178Z"
   },
   {
    "duration": 0,
    "start_time": "2023-07-24T13:50:23.220Z"
   },
   {
    "duration": 3,
    "start_time": "2023-07-24T13:51:17.019Z"
   },
   {
    "duration": 3,
    "start_time": "2023-07-24T13:51:19.828Z"
   },
   {
    "duration": 724,
    "start_time": "2023-07-24T13:51:19.832Z"
   },
   {
    "duration": 44,
    "start_time": "2023-07-24T13:51:20.558Z"
   },
   {
    "duration": 18,
    "start_time": "2023-07-24T13:51:20.604Z"
   },
   {
    "duration": 11,
    "start_time": "2023-07-24T13:51:20.624Z"
   },
   {
    "duration": 14,
    "start_time": "2023-07-24T13:51:20.637Z"
   },
   {
    "duration": 253,
    "start_time": "2023-07-24T13:51:20.652Z"
   },
   {
    "duration": 14,
    "start_time": "2023-07-24T13:51:20.906Z"
   },
   {
    "duration": 16,
    "start_time": "2023-07-24T13:51:20.921Z"
   },
   {
    "duration": 43,
    "start_time": "2023-07-24T13:51:20.938Z"
   },
   {
    "duration": 28,
    "start_time": "2023-07-24T13:51:20.982Z"
   },
   {
    "duration": 72,
    "start_time": "2023-07-24T13:51:21.011Z"
   },
   {
    "duration": 30,
    "start_time": "2023-07-24T13:51:21.085Z"
   },
   {
    "duration": 1503,
    "start_time": "2023-07-24T13:51:21.118Z"
   },
   {
    "duration": 1003,
    "start_time": "2023-07-24T13:51:22.622Z"
   },
   {
    "duration": 6,
    "start_time": "2023-07-24T13:51:23.626Z"
   },
   {
    "duration": 554,
    "start_time": "2023-07-24T13:51:23.634Z"
   },
   {
    "duration": 452,
    "start_time": "2023-07-24T13:51:24.190Z"
   },
   {
    "duration": 2,
    "start_time": "2023-07-24T13:51:24.643Z"
   },
   {
    "duration": 399,
    "start_time": "2023-07-24T13:51:24.647Z"
   },
   {
    "duration": 621,
    "start_time": "2023-07-24T13:51:25.048Z"
   },
   {
    "duration": 14,
    "start_time": "2023-07-24T13:51:25.670Z"
   },
   {
    "duration": 28,
    "start_time": "2023-07-24T13:51:25.685Z"
   },
   {
    "duration": 16,
    "start_time": "2023-07-24T13:51:25.714Z"
   },
   {
    "duration": 5,
    "start_time": "2023-07-24T13:51:25.731Z"
   },
   {
    "duration": 5,
    "start_time": "2023-07-24T13:51:25.737Z"
   },
   {
    "duration": 12,
    "start_time": "2023-07-24T13:51:25.743Z"
   },
   {
    "duration": 7,
    "start_time": "2023-07-24T13:51:25.756Z"
   },
   {
    "duration": 12,
    "start_time": "2023-07-24T13:51:25.764Z"
   },
   {
    "duration": 14,
    "start_time": "2023-07-24T13:51:25.778Z"
   },
   {
    "duration": 26,
    "start_time": "2023-07-24T13:51:25.793Z"
   },
   {
    "duration": 30,
    "start_time": "2023-07-24T13:51:25.821Z"
   },
   {
    "duration": 2468,
    "start_time": "2023-07-24T13:51:25.853Z"
   },
   {
    "duration": 11609,
    "start_time": "2023-07-24T13:51:28.323Z"
   },
   {
    "duration": 146599,
    "start_time": "2023-07-24T13:51:39.934Z"
   },
   {
    "duration": 5,
    "start_time": "2023-07-24T13:54:06.535Z"
   },
   {
    "duration": 3111,
    "start_time": "2023-07-24T13:54:06.541Z"
   },
   {
    "duration": 0,
    "start_time": "2023-07-24T13:54:09.654Z"
   },
   {
    "duration": 0,
    "start_time": "2023-07-24T13:54:09.655Z"
   },
   {
    "duration": 0,
    "start_time": "2023-07-24T13:54:09.657Z"
   },
   {
    "duration": 9,
    "start_time": "2023-07-24T13:56:44.273Z"
   },
   {
    "duration": 9,
    "start_time": "2023-07-24T13:58:40.889Z"
   },
   {
    "duration": 3,
    "start_time": "2023-07-24T13:59:14.040Z"
   },
   {
    "duration": 12,
    "start_time": "2023-07-24T13:59:22.316Z"
   },
   {
    "duration": 2,
    "start_time": "2023-07-24T13:59:34.359Z"
   },
   {
    "duration": 2,
    "start_time": "2023-07-24T13:59:34.488Z"
   },
   {
    "duration": 2799,
    "start_time": "2023-07-24T13:59:38.026Z"
   },
   {
    "duration": 2664,
    "start_time": "2023-07-24T13:59:54.955Z"
   },
   {
    "duration": 3400,
    "start_time": "2023-07-24T14:00:17.130Z"
   },
   {
    "duration": 2826,
    "start_time": "2023-07-24T14:00:25.918Z"
   },
   {
    "duration": 3034,
    "start_time": "2023-07-24T14:00:53.191Z"
   },
   {
    "duration": 5,
    "start_time": "2023-07-24T14:00:57.935Z"
   },
   {
    "duration": 3,
    "start_time": "2023-07-24T14:00:58.084Z"
   },
   {
    "duration": 3115,
    "start_time": "2023-07-24T14:01:03.319Z"
   },
   {
    "duration": 2717,
    "start_time": "2023-07-24T14:01:48.227Z"
   },
   {
    "duration": 15631,
    "start_time": "2023-07-24T14:06:13.033Z"
   },
   {
    "duration": 16302,
    "start_time": "2023-07-24T14:06:59.515Z"
   },
   {
    "duration": 494995,
    "start_time": "2023-07-24T14:07:36.741Z"
   },
   {
    "duration": 15231,
    "start_time": "2023-07-24T14:15:51.737Z"
   },
   {
    "duration": 3116,
    "start_time": "2023-07-24T14:30:56.713Z"
   },
   {
    "duration": 5789,
    "start_time": "2023-07-24T14:31:08.545Z"
   },
   {
    "duration": 14,
    "start_time": "2023-07-24T14:41:46.363Z"
   },
   {
    "duration": 12,
    "start_time": "2023-07-24T14:41:52.352Z"
   },
   {
    "duration": 14,
    "start_time": "2023-07-24T14:42:08.996Z"
   },
   {
    "duration": 25,
    "start_time": "2023-07-24T14:42:47.115Z"
   },
   {
    "duration": 17,
    "start_time": "2023-07-24T14:45:19.819Z"
   },
   {
    "duration": 5802,
    "start_time": "2023-07-24T14:45:24.982Z"
   },
   {
    "duration": 9,
    "start_time": "2023-07-24T14:45:37.628Z"
   },
   {
    "duration": 8,
    "start_time": "2023-07-24T14:47:19.924Z"
   },
   {
    "duration": 7,
    "start_time": "2023-07-24T14:48:40.226Z"
   },
   {
    "duration": 1699,
    "start_time": "2024-02-04T14:26:49.990Z"
   },
   {
    "duration": 3169,
    "start_time": "2024-02-04T14:26:53.315Z"
   },
   {
    "duration": 67,
    "start_time": "2024-02-04T14:26:56.486Z"
   },
   {
    "duration": 5,
    "start_time": "2024-02-04T14:26:56.555Z"
   },
   {
    "duration": 8,
    "start_time": "2024-02-04T14:26:56.563Z"
   },
   {
    "duration": 5,
    "start_time": "2024-02-04T14:26:57.663Z"
   },
   {
    "duration": 314,
    "start_time": "2024-02-04T14:26:59.643Z"
   },
   {
    "duration": 153,
    "start_time": "2024-02-04T14:27:39.466Z"
   },
   {
    "duration": 18,
    "start_time": "2024-02-04T14:28:08.201Z"
   },
   {
    "duration": 9,
    "start_time": "2024-02-04T14:28:28.206Z"
   },
   {
    "duration": 3,
    "start_time": "2024-02-04T14:30:44.537Z"
   },
   {
    "duration": 6,
    "start_time": "2024-02-04T14:31:13.193Z"
   },
   {
    "duration": 6,
    "start_time": "2024-02-04T14:31:27.130Z"
   },
   {
    "duration": 6,
    "start_time": "2024-02-04T14:31:31.592Z"
   },
   {
    "duration": 4,
    "start_time": "2024-02-04T14:31:42.255Z"
   },
   {
    "duration": 6,
    "start_time": "2024-02-04T14:32:30.687Z"
   },
   {
    "duration": 82,
    "start_time": "2024-02-04T14:33:05.971Z"
   },
   {
    "duration": 3,
    "start_time": "2024-02-04T14:34:20.477Z"
   },
   {
    "duration": 4,
    "start_time": "2024-02-04T14:34:35.585Z"
   },
   {
    "duration": 5,
    "start_time": "2024-02-04T14:34:56.947Z"
   },
   {
    "duration": 4,
    "start_time": "2024-02-04T14:38:39.466Z"
   },
   {
    "duration": 940,
    "start_time": "2024-02-04T14:38:39.471Z"
   },
   {
    "duration": 60,
    "start_time": "2024-02-04T14:38:40.413Z"
   },
   {
    "duration": 7,
    "start_time": "2024-02-04T14:38:40.491Z"
   },
   {
    "duration": 5,
    "start_time": "2024-02-04T14:38:40.500Z"
   },
   {
    "duration": 8,
    "start_time": "2024-02-04T14:38:40.507Z"
   },
   {
    "duration": 279,
    "start_time": "2024-02-04T14:38:40.518Z"
   },
   {
    "duration": 5,
    "start_time": "2024-02-04T14:38:40.799Z"
   },
   {
    "duration": 23,
    "start_time": "2024-02-04T14:38:40.805Z"
   },
   {
    "duration": 16,
    "start_time": "2024-02-04T14:38:40.830Z"
   },
   {
    "duration": 2,
    "start_time": "2024-02-04T14:38:40.848Z"
   },
   {
    "duration": 79,
    "start_time": "2024-02-04T14:38:40.852Z"
   },
   {
    "duration": 16,
    "start_time": "2024-02-04T14:38:40.932Z"
   },
   {
    "duration": 1519,
    "start_time": "2024-02-04T14:38:40.950Z"
   },
   {
    "duration": 714,
    "start_time": "2024-02-04T14:38:42.471Z"
   },
   {
    "duration": 10,
    "start_time": "2024-02-04T14:38:43.186Z"
   },
   {
    "duration": 852,
    "start_time": "2024-02-04T14:38:43.197Z"
   },
   {
    "duration": 586,
    "start_time": "2024-02-04T14:38:44.051Z"
   },
   {
    "duration": 2,
    "start_time": "2024-02-04T14:38:44.639Z"
   },
   {
    "duration": 390,
    "start_time": "2024-02-04T14:38:44.642Z"
   },
   {
    "duration": 841,
    "start_time": "2024-02-04T14:38:45.033Z"
   },
   {
    "duration": 26,
    "start_time": "2024-02-04T14:38:45.876Z"
   },
   {
    "duration": 4,
    "start_time": "2024-02-04T14:38:45.903Z"
   },
   {
    "duration": 5,
    "start_time": "2024-02-04T14:38:45.908Z"
   },
   {
    "duration": 19,
    "start_time": "2024-02-04T14:38:45.915Z"
   },
   {
    "duration": 15,
    "start_time": "2024-02-04T14:38:45.936Z"
   },
   {
    "duration": 28,
    "start_time": "2024-02-04T14:38:45.954Z"
   },
   {
    "duration": 9,
    "start_time": "2024-02-04T14:38:45.988Z"
   },
   {
    "duration": 11,
    "start_time": "2024-02-04T14:38:45.999Z"
   },
   {
    "duration": 15,
    "start_time": "2024-02-04T14:38:46.012Z"
   },
   {
    "duration": 5,
    "start_time": "2024-02-04T14:38:46.029Z"
   },
   {
    "duration": 59,
    "start_time": "2024-02-04T14:38:46.036Z"
   },
   {
    "duration": 2207,
    "start_time": "2024-02-04T14:38:46.097Z"
   },
   {
    "duration": 17151,
    "start_time": "2024-02-04T14:38:48.307Z"
   },
   {
    "duration": 1459,
    "start_time": "2024-02-04T14:43:45.340Z"
   },
   {
    "duration": 946,
    "start_time": "2024-02-04T14:43:46.800Z"
   },
   {
    "duration": 66,
    "start_time": "2024-02-04T14:43:47.748Z"
   },
   {
    "duration": 6,
    "start_time": "2024-02-04T14:43:47.816Z"
   },
   {
    "duration": 7,
    "start_time": "2024-02-04T14:43:47.823Z"
   },
   {
    "duration": 6,
    "start_time": "2024-02-04T14:43:47.832Z"
   },
   {
    "duration": 303,
    "start_time": "2024-02-04T14:43:47.840Z"
   },
   {
    "duration": 6,
    "start_time": "2024-02-04T14:43:48.144Z"
   },
   {
    "duration": 39,
    "start_time": "2024-02-04T14:43:48.151Z"
   },
   {
    "duration": 34,
    "start_time": "2024-02-04T14:43:48.193Z"
   },
   {
    "duration": 14,
    "start_time": "2024-02-04T14:43:48.229Z"
   },
   {
    "duration": 72,
    "start_time": "2024-02-04T14:43:48.244Z"
   },
   {
    "duration": 22,
    "start_time": "2024-02-04T14:43:48.318Z"
   },
   {
    "duration": 1492,
    "start_time": "2024-02-04T14:43:48.341Z"
   },
   {
    "duration": 791,
    "start_time": "2024-02-04T14:43:49.835Z"
   },
   {
    "duration": 9,
    "start_time": "2024-02-04T14:43:50.627Z"
   },
   {
    "duration": 937,
    "start_time": "2024-02-04T14:43:50.638Z"
   },
   {
    "duration": 672,
    "start_time": "2024-02-04T14:43:51.576Z"
   },
   {
    "duration": 3,
    "start_time": "2024-02-04T14:43:52.250Z"
   },
   {
    "duration": 389,
    "start_time": "2024-02-04T14:43:52.255Z"
   },
   {
    "duration": 875,
    "start_time": "2024-02-04T14:43:52.646Z"
   },
   {
    "duration": 19,
    "start_time": "2024-02-04T14:43:53.523Z"
   },
   {
    "duration": 9,
    "start_time": "2024-02-04T14:43:53.544Z"
   },
   {
    "duration": 13,
    "start_time": "2024-02-04T14:43:53.554Z"
   },
   {
    "duration": 11,
    "start_time": "2024-02-04T14:43:53.568Z"
   },
   {
    "duration": 18,
    "start_time": "2024-02-04T14:43:53.580Z"
   },
   {
    "duration": 19,
    "start_time": "2024-02-04T14:43:53.600Z"
   },
   {
    "duration": 5,
    "start_time": "2024-02-04T14:43:53.623Z"
   },
   {
    "duration": 16,
    "start_time": "2024-02-04T14:43:53.629Z"
   },
   {
    "duration": 6,
    "start_time": "2024-02-04T14:43:53.647Z"
   },
   {
    "duration": 5,
    "start_time": "2024-02-04T14:43:53.655Z"
   },
   {
    "duration": 34,
    "start_time": "2024-02-04T14:43:53.661Z"
   },
   {
    "duration": 2400,
    "start_time": "2024-02-04T14:43:53.697Z"
   },
   {
    "duration": 16393,
    "start_time": "2024-02-04T14:43:56.099Z"
   },
   {
    "duration": 693192,
    "start_time": "2024-02-04T14:44:12.493Z"
   },
   {
    "duration": 0,
    "start_time": "2024-02-04T14:55:45.687Z"
   },
   {
    "duration": 0,
    "start_time": "2024-02-04T14:55:45.691Z"
   },
   {
    "duration": 0,
    "start_time": "2024-02-04T14:55:45.692Z"
   },
   {
    "duration": 12681,
    "start_time": "2024-02-04T14:56:00.005Z"
   },
   {
    "duration": 4415,
    "start_time": "2024-02-04T14:56:13.709Z"
   },
   {
    "duration": 12009,
    "start_time": "2024-02-04T14:56:19.859Z"
   },
   {
    "duration": 367212,
    "start_time": "2024-02-04T14:56:31.870Z"
   },
   {
    "duration": 1705,
    "start_time": "2024-02-09T11:27:24.008Z"
   },
   {
    "duration": 2618,
    "start_time": "2024-02-09T11:27:25.715Z"
   },
   {
    "duration": 67,
    "start_time": "2024-02-09T11:27:28.335Z"
   },
   {
    "duration": 19,
    "start_time": "2024-02-09T11:27:28.404Z"
   },
   {
    "duration": 3,
    "start_time": "2024-02-09T11:27:28.425Z"
   },
   {
    "duration": 8,
    "start_time": "2024-02-09T11:27:28.430Z"
   },
   {
    "duration": 273,
    "start_time": "2024-02-09T11:27:28.440Z"
   },
   {
    "duration": 12,
    "start_time": "2024-02-09T11:27:28.715Z"
   },
   {
    "duration": 28,
    "start_time": "2024-02-09T11:27:28.729Z"
   },
   {
    "duration": 18,
    "start_time": "2024-02-09T11:27:28.760Z"
   },
   {
    "duration": 3,
    "start_time": "2024-02-09T11:27:28.780Z"
   },
   {
    "duration": 72,
    "start_time": "2024-02-09T11:27:28.784Z"
   },
   {
    "duration": 22,
    "start_time": "2024-02-09T11:27:28.858Z"
   },
   {
    "duration": 1414,
    "start_time": "2024-02-09T11:27:28.882Z"
   },
   {
    "duration": 742,
    "start_time": "2024-02-09T11:27:30.298Z"
   },
   {
    "duration": 8,
    "start_time": "2024-02-09T11:27:31.041Z"
   },
   {
    "duration": 932,
    "start_time": "2024-02-09T11:27:31.051Z"
   },
   {
    "duration": 581,
    "start_time": "2024-02-09T11:27:31.985Z"
   },
   {
    "duration": 2,
    "start_time": "2024-02-09T11:27:32.569Z"
   },
   {
    "duration": 404,
    "start_time": "2024-02-09T11:27:32.573Z"
   },
   {
    "duration": 865,
    "start_time": "2024-02-09T11:27:32.979Z"
   },
   {
    "duration": 19,
    "start_time": "2024-02-09T11:27:33.847Z"
   },
   {
    "duration": 60,
    "start_time": "2024-02-09T11:27:33.868Z"
   },
   {
    "duration": 71,
    "start_time": "2024-02-09T11:27:33.930Z"
   },
   {
    "duration": 46,
    "start_time": "2024-02-09T11:27:34.003Z"
   },
   {
    "duration": 3,
    "start_time": "2024-02-09T11:27:34.051Z"
   },
   {
    "duration": 11,
    "start_time": "2024-02-09T11:27:34.056Z"
   },
   {
    "duration": 15,
    "start_time": "2024-02-09T11:27:34.071Z"
   },
   {
    "duration": 58,
    "start_time": "2024-02-09T11:27:34.087Z"
   },
   {
    "duration": 23,
    "start_time": "2024-02-09T11:27:34.146Z"
   },
   {
    "duration": 5,
    "start_time": "2024-02-09T11:27:34.170Z"
   },
   {
    "duration": 39,
    "start_time": "2024-02-09T11:27:34.176Z"
   },
   {
    "duration": 2507,
    "start_time": "2024-02-09T11:27:34.217Z"
   },
   {
    "duration": 11928,
    "start_time": "2024-02-09T11:27:36.726Z"
   },
   {
    "duration": 156432,
    "start_time": "2024-02-09T11:27:48.656Z"
   },
   {
    "duration": 0,
    "start_time": "2024-02-09T11:30:25.090Z"
   },
   {
    "duration": 0,
    "start_time": "2024-02-09T11:30:25.091Z"
   },
   {
    "duration": 0,
    "start_time": "2024-02-09T11:30:25.093Z"
   },
   {
    "duration": 23,
    "start_time": "2024-02-09T11:30:32.728Z"
   },
   {
    "duration": 6250,
    "start_time": "2024-02-09T11:30:33.135Z"
   },
   {
    "duration": 11,
    "start_time": "2024-02-09T11:30:39.388Z"
   },
   {
    "duration": 4,
    "start_time": "2024-02-09T11:42:44.480Z"
   },
   {
    "duration": 933,
    "start_time": "2024-02-09T11:42:44.486Z"
   },
   {
    "duration": 66,
    "start_time": "2024-02-09T11:42:45.421Z"
   },
   {
    "duration": 5,
    "start_time": "2024-02-09T11:42:45.489Z"
   },
   {
    "duration": 13,
    "start_time": "2024-02-09T11:42:45.496Z"
   },
   {
    "duration": 4,
    "start_time": "2024-02-09T11:42:45.524Z"
   },
   {
    "duration": 280,
    "start_time": "2024-02-09T11:42:45.529Z"
   },
   {
    "duration": 4,
    "start_time": "2024-02-09T11:42:45.811Z"
   },
   {
    "duration": 20,
    "start_time": "2024-02-09T11:42:45.824Z"
   },
   {
    "duration": 21,
    "start_time": "2024-02-09T11:42:45.846Z"
   },
   {
    "duration": 19,
    "start_time": "2024-02-09T11:42:45.868Z"
   },
   {
    "duration": 63,
    "start_time": "2024-02-09T11:42:45.889Z"
   },
   {
    "duration": 16,
    "start_time": "2024-02-09T11:42:45.954Z"
   },
   {
    "duration": 1419,
    "start_time": "2024-02-09T11:42:45.972Z"
   },
   {
    "duration": 742,
    "start_time": "2024-02-09T11:42:47.393Z"
   },
   {
    "duration": 9,
    "start_time": "2024-02-09T11:42:48.137Z"
   },
   {
    "duration": 893,
    "start_time": "2024-02-09T11:42:48.148Z"
   },
   {
    "duration": 595,
    "start_time": "2024-02-09T11:42:49.043Z"
   },
   {
    "duration": 2,
    "start_time": "2024-02-09T11:42:49.640Z"
   },
   {
    "duration": 369,
    "start_time": "2024-02-09T11:42:49.644Z"
   },
   {
    "duration": 876,
    "start_time": "2024-02-09T11:42:50.015Z"
   },
   {
    "duration": 18,
    "start_time": "2024-02-09T11:42:50.893Z"
   },
   {
    "duration": 24,
    "start_time": "2024-02-09T11:42:50.913Z"
   },
   {
    "duration": 16,
    "start_time": "2024-02-09T11:42:50.938Z"
   },
   {
    "duration": 22,
    "start_time": "2024-02-09T11:42:50.955Z"
   },
   {
    "duration": 20,
    "start_time": "2024-02-09T11:42:50.979Z"
   },
   {
    "duration": 52,
    "start_time": "2024-02-09T11:42:51.001Z"
   },
   {
    "duration": 6,
    "start_time": "2024-02-09T11:42:51.057Z"
   },
   {
    "duration": 7,
    "start_time": "2024-02-09T11:42:51.065Z"
   },
   {
    "duration": 9,
    "start_time": "2024-02-09T11:42:51.074Z"
   },
   {
    "duration": 11,
    "start_time": "2024-02-09T11:42:51.084Z"
   },
   {
    "duration": 34,
    "start_time": "2024-02-09T11:42:51.097Z"
   },
   {
    "duration": 1907,
    "start_time": "2024-02-09T11:42:51.133Z"
   },
   {
    "duration": 12131,
    "start_time": "2024-02-09T11:42:53.124Z"
   },
   {
    "duration": 1543,
    "start_time": "2024-02-11T14:42:26.293Z"
   },
   {
    "duration": 2048,
    "start_time": "2024-02-11T14:42:27.838Z"
   },
   {
    "duration": 56,
    "start_time": "2024-02-11T14:42:29.888Z"
   },
   {
    "duration": 5,
    "start_time": "2024-02-11T14:42:29.945Z"
   },
   {
    "duration": 3,
    "start_time": "2024-02-11T14:42:29.952Z"
   },
   {
    "duration": 3,
    "start_time": "2024-02-11T14:42:29.957Z"
   },
   {
    "duration": 259,
    "start_time": "2024-02-11T14:42:29.961Z"
   },
   {
    "duration": 5,
    "start_time": "2024-02-11T14:42:30.222Z"
   },
   {
    "duration": 45,
    "start_time": "2024-02-11T14:42:30.228Z"
   },
   {
    "duration": 26,
    "start_time": "2024-02-11T14:42:30.275Z"
   },
   {
    "duration": 24,
    "start_time": "2024-02-11T14:42:30.302Z"
   },
   {
    "duration": 73,
    "start_time": "2024-02-11T14:42:30.328Z"
   },
   {
    "duration": 32,
    "start_time": "2024-02-11T14:42:30.402Z"
   },
   {
    "duration": 1268,
    "start_time": "2024-02-11T14:42:30.437Z"
   },
   {
    "duration": 675,
    "start_time": "2024-02-11T14:42:31.707Z"
   },
   {
    "duration": 8,
    "start_time": "2024-02-11T14:42:32.384Z"
   },
   {
    "duration": 782,
    "start_time": "2024-02-11T14:42:32.393Z"
   },
   {
    "duration": 516,
    "start_time": "2024-02-11T14:42:33.176Z"
   },
   {
    "duration": 2,
    "start_time": "2024-02-11T14:42:33.694Z"
   },
   {
    "duration": 324,
    "start_time": "2024-02-11T14:42:33.698Z"
   },
   {
    "duration": 750,
    "start_time": "2024-02-11T14:42:34.024Z"
   },
   {
    "duration": 16,
    "start_time": "2024-02-11T14:42:34.776Z"
   },
   {
    "duration": 3,
    "start_time": "2024-02-11T14:42:34.793Z"
   },
   {
    "duration": 4,
    "start_time": "2024-02-11T14:42:34.797Z"
   },
   {
    "duration": 3,
    "start_time": "2024-02-11T14:42:34.817Z"
   },
   {
    "duration": 4,
    "start_time": "2024-02-11T14:42:34.821Z"
   },
   {
    "duration": 5,
    "start_time": "2024-02-11T14:42:34.827Z"
   },
   {
    "duration": 6,
    "start_time": "2024-02-11T14:42:34.834Z"
   },
   {
    "duration": 4,
    "start_time": "2024-02-11T14:42:34.841Z"
   },
   {
    "duration": 7,
    "start_time": "2024-02-11T14:42:34.846Z"
   },
   {
    "duration": 16,
    "start_time": "2024-02-11T14:42:34.854Z"
   },
   {
    "duration": 28,
    "start_time": "2024-02-11T14:42:34.872Z"
   },
   {
    "duration": 1623,
    "start_time": "2024-02-11T14:42:34.902Z"
   },
   {
    "duration": 10442,
    "start_time": "2024-02-11T14:42:36.617Z"
   },
   {
    "duration": 323429,
    "start_time": "2024-02-11T14:42:47.061Z"
   },
   {
    "duration": 27,
    "start_time": "2024-02-11T14:48:10.491Z"
   },
   {
    "duration": 5295,
    "start_time": "2024-02-11T14:48:10.519Z"
   },
   {
    "duration": 8,
    "start_time": "2024-02-11T14:48:15.817Z"
   }
  ],
  "kernelspec": {
   "display_name": "Python 3 (ipykernel)",
   "language": "python",
   "name": "python3"
  },
  "language_info": {
   "codemirror_mode": {
    "name": "ipython",
    "version": 3
   },
   "file_extension": ".py",
   "mimetype": "text/x-python",
   "name": "python",
   "nbconvert_exporter": "python",
   "pygments_lexer": "ipython3",
   "version": "3.9.5"
  },
  "toc": {
   "base_numbering": 1,
   "nav_menu": {},
   "number_sections": true,
   "sideBar": true,
   "skip_h1_title": true,
   "title_cell": "Содержание",
   "title_sidebar": "Contents",
   "toc_cell": true,
   "toc_position": {
    "height": "calc(100% - 180px)",
    "left": "10px",
    "top": "150px",
    "width": "169.225px"
   },
   "toc_section_display": true,
   "toc_window_display": true
  }
 },
 "nbformat": 4,
 "nbformat_minor": 2
}
