{
 "cells": [
  {
   "cell_type": "markdown",
   "metadata": {
    "toc": true
   },
   "source": [
    "<h1>Содержание<span class=\"tocSkip\"></span></h1>\n",
    "<div class=\"toc\"><ul class=\"toc-item\"><li><span><a href=\"#Подготовка\" data-toc-modified-id=\"Подготовка-1\"><span class=\"toc-item-num\">1&nbsp;&nbsp;</span>Подготовка</a></span><ul class=\"toc-item\"><li><span><a href=\"#Импортирование-библиотек\" data-toc-modified-id=\"Импортирование-библиотек-1.1\"><span class=\"toc-item-num\">1.1&nbsp;&nbsp;</span>Импортирование библиотек</a></span></li><li><span><a href=\"#Загрузка-данных\" data-toc-modified-id=\"Загрузка-данных-1.2\"><span class=\"toc-item-num\">1.2&nbsp;&nbsp;</span>Загрузка данных</a></span></li><li><span><a href=\"#Изучение-данных\" data-toc-modified-id=\"Изучение-данных-1.3\"><span class=\"toc-item-num\">1.3&nbsp;&nbsp;</span>Изучение данных</a></span></li><li><span><a href=\"#Вывод\" data-toc-modified-id=\"Вывод-1.4\"><span class=\"toc-item-num\">1.4&nbsp;&nbsp;</span>Вывод</a></span></li></ul></li><li><span><a href=\"#Предобработка\" data-toc-modified-id=\"Предобработка-2\"><span class=\"toc-item-num\">2&nbsp;&nbsp;</span>Предобработка</a></span><ul class=\"toc-item\"><li><span><a href=\"#Сохранение-стоп-слов\" data-toc-modified-id=\"Сохранение-стоп-слов-2.1\"><span class=\"toc-item-num\">2.1&nbsp;&nbsp;</span>Сохранение стоп слов</a></span></li><li><span><a href=\"#Лемматезация-и-токенизация\" data-toc-modified-id=\"Лемматезация-и-токенизация-2.2\"><span class=\"toc-item-num\">2.2&nbsp;&nbsp;</span>Лемматезация и токенизация</a></span></li><li><span><a href=\"#SpaCy\" data-toc-modified-id=\"SpaCy-2.3\"><span class=\"toc-item-num\">2.3&nbsp;&nbsp;</span>SpaCy</a></span></li><li><span><a href=\"#Разделение-данных\" data-toc-modified-id=\"Разделение-данных-2.4\"><span class=\"toc-item-num\">2.4&nbsp;&nbsp;</span>Разделение данных</a></span></li><li><span><a href=\"#Векторизация\" data-toc-modified-id=\"Векторизация-2.5\"><span class=\"toc-item-num\">2.5&nbsp;&nbsp;</span>Векторизация</a></span></li><li><span><a href=\"#Вывод\" data-toc-modified-id=\"Вывод-2.6\"><span class=\"toc-item-num\">2.6&nbsp;&nbsp;</span>Вывод</a></span></li></ul></li><li><span><a href=\"#Обучение\" data-toc-modified-id=\"Обучение-3\"><span class=\"toc-item-num\">3&nbsp;&nbsp;</span>Обучение</a></span><ul class=\"toc-item\"><li><span><a href=\"#Обучение-с-лемматизацией-wordnet\" data-toc-modified-id=\"Обучение-с-лемматизацией-wordnet-3.1\"><span class=\"toc-item-num\">3.1&nbsp;&nbsp;</span>Обучение с лемматизацией wordnet</a></span><ul class=\"toc-item\"><li><span><a href=\"#Логистическая-регрессия\" data-toc-modified-id=\"Логистическая-регрессия-3.1.1\"><span class=\"toc-item-num\">3.1.1&nbsp;&nbsp;</span>Логистическая регрессия</a></span></li><li><span><a href=\"#Дерево-решений\" data-toc-modified-id=\"Дерево-решений-3.1.2\"><span class=\"toc-item-num\">3.1.2&nbsp;&nbsp;</span>Дерево решений</a></span></li></ul></li><li><span><a href=\"#Обучение-с-лемматизацией--sc\" data-toc-modified-id=\"Обучение-с-лемматизацией--sc-3.2\"><span class=\"toc-item-num\">3.2&nbsp;&nbsp;</span>Обучение с лемматизацией  sc</a></span><ul class=\"toc-item\"><li><span><a href=\"#Логистическая-регрессия\" data-toc-modified-id=\"Логистическая-регрессия-3.2.1\"><span class=\"toc-item-num\">3.2.1&nbsp;&nbsp;</span>Логистическая регрессия</a></span></li><li><span><a href=\"#Дерево-решений\" data-toc-modified-id=\"Дерево-решений-3.2.2\"><span class=\"toc-item-num\">3.2.2&nbsp;&nbsp;</span>Дерево решений</a></span></li></ul></li><li><span><a href=\"#Вывод\" data-toc-modified-id=\"Вывод-3.3\"><span class=\"toc-item-num\">3.3&nbsp;&nbsp;</span>Вывод</a></span></li></ul></li><li><span><a href=\"#Обучение-и-прогназирование-на-train-и-test-выборках\" data-toc-modified-id=\"Обучение-и-прогназирование-на-train-и-test-выборках-4\"><span class=\"toc-item-num\">4&nbsp;&nbsp;</span>Обучение и прогназирование на train и test выборках</a></span><ul class=\"toc-item\"><li><span><a href=\"#Логистическая-регрессия\" data-toc-modified-id=\"Логистическая-регрессия-4.1\"><span class=\"toc-item-num\">4.1&nbsp;&nbsp;</span>Логистическая регрессия</a></span></li><li><span><a href=\"#Решающие-деревья\" data-toc-modified-id=\"Решающие-деревья-4.2\"><span class=\"toc-item-num\">4.2&nbsp;&nbsp;</span>Решающие деревья</a></span></li><li><span><a href=\"#Вывод\" data-toc-modified-id=\"Вывод-4.3\"><span class=\"toc-item-num\">4.3&nbsp;&nbsp;</span>Вывод</a></span></li></ul></li><li><span><a href=\"#Выводы\" data-toc-modified-id=\"Выводы-5\"><span class=\"toc-item-num\">5&nbsp;&nbsp;</span>Выводы</a></span></li></ul></div>"
   ]
  },
  {
   "cell_type": "markdown",
   "metadata": {},
   "source": [
    "# Проект для «Викишоп»"
   ]
  },
  {
   "cell_type": "markdown",
   "metadata": {},
   "source": [
    "Интернет-магазин «Викишоп» запускает новый сервис. Теперь пользователи могут редактировать и дополнять описания товаров, как в вики-сообществах. То есть клиенты предлагают свои правки и комментируют изменения других. Магазину нужен инструмент, который будет искать токсичные комментарии и отправлять их на модерацию. \n",
    "\n",
    "Обучите модель классифицировать комментарии на позитивные и негативные. В вашем распоряжении набор данных с разметкой о токсичности правок.\n",
    "\n",
    "Постройте модель со значением метрики качества *F1* не меньше 0.75. \n",
    "\n",
    "**Задачи**\n",
    "\n",
    "1. Загрузить и подготовить данные.\n",
    "2. Обучить разные модели. \n",
    "3. Сформулировать выводы.\n"
   ]
  },
  {
   "cell_type": "markdown",
   "metadata": {},
   "source": [
    "## Подготовка"
   ]
  },
  {
   "cell_type": "markdown",
   "metadata": {},
   "source": [
    "### Импортирование библиотек"
   ]
  },
  {
   "cell_type": "code",
   "execution_count": 1,
   "metadata": {},
   "outputs": [
    {
     "name": "stderr",
     "output_type": "stream",
     "text": [
      "[nltk_data] Downloading package averaged_perceptron_tagger to\n",
      "[nltk_data]     /home/jovyan/nltk_data...\n",
      "[nltk_data]   Unzipping taggers/averaged_perceptron_tagger.zip.\n"
     ]
    },
    {
     "data": {
      "text/plain": [
       "True"
      ]
     },
     "execution_count": 1,
     "metadata": {},
     "output_type": "execute_result"
    }
   ],
   "source": [
    "import pandas as pd\n",
    "import nltk\n",
    "from nltk.stem import WordNetLemmatizer\n",
    "from nltk.tokenize import word_tokenize\n",
    "from nltk.corpus import stopwords\n",
    "import re\n",
    "from tqdm import notebook\n",
    "notebook.tqdm.pandas()\n",
    "from sklearn.model_selection import train_test_split\n",
    "from sklearn.feature_extraction.text import TfidfVectorizer\n",
    "from sklearn.linear_model import LogisticRegression\n",
    "from sklearn.metrics import f1_score\n",
    "from sklearn.tree import DecisionTreeClassifier\n",
    "import spacy\n",
    "from nltk.corpus import wordnet\n",
    "import nltk\n",
    "nltk.download('averaged_perceptron_tagger')"
   ]
  },
  {
   "cell_type": "markdown",
   "metadata": {},
   "source": [
    "### Загрузка данных\n"
   ]
  },
  {
   "cell_type": "code",
   "execution_count": 2,
   "metadata": {},
   "outputs": [],
   "source": [
    "data = pd.read_csv('/datasets/toxic_comments.csv')"
   ]
  },
  {
   "cell_type": "markdown",
   "metadata": {},
   "source": [
    "### Изучение данных"
   ]
  },
  {
   "cell_type": "code",
   "execution_count": 3,
   "metadata": {},
   "outputs": [
    {
     "data": {
      "text/html": [
       "<div>\n",
       "<style scoped>\n",
       "    .dataframe tbody tr th:only-of-type {\n",
       "        vertical-align: middle;\n",
       "    }\n",
       "\n",
       "    .dataframe tbody tr th {\n",
       "        vertical-align: top;\n",
       "    }\n",
       "\n",
       "    .dataframe thead th {\n",
       "        text-align: right;\n",
       "    }\n",
       "</style>\n",
       "<table border=\"1\" class=\"dataframe\">\n",
       "  <thead>\n",
       "    <tr style=\"text-align: right;\">\n",
       "      <th></th>\n",
       "      <th>Unnamed: 0</th>\n",
       "      <th>text</th>\n",
       "      <th>toxic</th>\n",
       "    </tr>\n",
       "  </thead>\n",
       "  <tbody>\n",
       "    <tr>\n",
       "      <th>0</th>\n",
       "      <td>0</td>\n",
       "      <td>Explanation\\nWhy the edits made under my usern...</td>\n",
       "      <td>0</td>\n",
       "    </tr>\n",
       "    <tr>\n",
       "      <th>1</th>\n",
       "      <td>1</td>\n",
       "      <td>D'aww! He matches this background colour I'm s...</td>\n",
       "      <td>0</td>\n",
       "    </tr>\n",
       "    <tr>\n",
       "      <th>2</th>\n",
       "      <td>2</td>\n",
       "      <td>Hey man, I'm really not trying to edit war. It...</td>\n",
       "      <td>0</td>\n",
       "    </tr>\n",
       "    <tr>\n",
       "      <th>3</th>\n",
       "      <td>3</td>\n",
       "      <td>\"\\nMore\\nI can't make any real suggestions on ...</td>\n",
       "      <td>0</td>\n",
       "    </tr>\n",
       "    <tr>\n",
       "      <th>4</th>\n",
       "      <td>4</td>\n",
       "      <td>You, sir, are my hero. Any chance you remember...</td>\n",
       "      <td>0</td>\n",
       "    </tr>\n",
       "  </tbody>\n",
       "</table>\n",
       "</div>"
      ],
      "text/plain": [
       "   Unnamed: 0                                               text  toxic\n",
       "0           0  Explanation\\nWhy the edits made under my usern...      0\n",
       "1           1  D'aww! He matches this background colour I'm s...      0\n",
       "2           2  Hey man, I'm really not trying to edit war. It...      0\n",
       "3           3  \"\\nMore\\nI can't make any real suggestions on ...      0\n",
       "4           4  You, sir, are my hero. Any chance you remember...      0"
      ]
     },
     "execution_count": 3,
     "metadata": {},
     "output_type": "execute_result"
    }
   ],
   "source": [
    "data.head()"
   ]
  },
  {
   "cell_type": "code",
   "execution_count": 4,
   "metadata": {},
   "outputs": [
    {
     "name": "stdout",
     "output_type": "stream",
     "text": [
      "Empty DataFrame\n",
      "Columns: [Unnamed: 0, text, toxic]\n",
      "Index: []\n"
     ]
    }
   ],
   "source": [
    "print(data[data['Unnamed: 0'].duplicated()])"
   ]
  },
  {
   "cell_type": "code",
   "execution_count": 5,
   "metadata": {},
   "outputs": [
    {
     "name": "stdout",
     "output_type": "stream",
     "text": [
      "<class 'pandas.core.frame.DataFrame'>\n",
      "RangeIndex: 159292 entries, 0 to 159291\n",
      "Data columns (total 3 columns):\n",
      " #   Column      Non-Null Count   Dtype \n",
      "---  ------      --------------   ----- \n",
      " 0   Unnamed: 0  159292 non-null  int64 \n",
      " 1   text        159292 non-null  object\n",
      " 2   toxic       159292 non-null  int64 \n",
      "dtypes: int64(2), object(1)\n",
      "memory usage: 3.6+ MB\n"
     ]
    }
   ],
   "source": [
    "data.info()"
   ]
  },
  {
   "cell_type": "markdown",
   "metadata": {},
   "source": [
    "Столбец \"Unnamed: 0\" не представляет никакой ценности, т.к просто повторяет индексацию  "
   ]
  },
  {
   "cell_type": "code",
   "execution_count": 6,
   "metadata": {},
   "outputs": [],
   "source": [
    "data = data.drop('Unnamed: 0',axis = 1)"
   ]
  },
  {
   "cell_type": "markdown",
   "metadata": {},
   "source": [
    "### Вывод"
   ]
  },
  {
   "cell_type": "markdown",
   "metadata": {},
   "source": [
    "Данные были успешно загружены и изучены.\n",
    "\n",
    "Всего в данных 159292 строк\n",
    "\n",
    "Столбец text содержит текст комментария, toxic - целевой признак\n",
    "\n",
    "Столбец 'Unnamed: 0' - повторение индексов, поэтому он был удален"
   ]
  },
  {
   "cell_type": "markdown",
   "metadata": {},
   "source": [
    "## Предобработка"
   ]
  },
  {
   "cell_type": "markdown",
   "metadata": {},
   "source": [
    "### Сохранение стоп слов"
   ]
  },
  {
   "cell_type": "code",
   "execution_count": 7,
   "metadata": {},
   "outputs": [
    {
     "name": "stderr",
     "output_type": "stream",
     "text": [
      "[nltk_data] Downloading package stopwords to /home/jovyan/nltk_data...\n",
      "[nltk_data]   Package stopwords is already up-to-date!\n"
     ]
    },
    {
     "data": {
      "text/plain": [
       "True"
      ]
     },
     "execution_count": 7,
     "metadata": {},
     "output_type": "execute_result"
    }
   ],
   "source": [
    "nltk.download('stopwords') "
   ]
  },
  {
   "cell_type": "code",
   "execution_count": 8,
   "metadata": {},
   "outputs": [],
   "source": [
    "stop_words = set(stopwords.words('english'))"
   ]
  },
  {
   "cell_type": "markdown",
   "metadata": {},
   "source": [
    "### Лемматезация и токенизация"
   ]
  },
  {
   "cell_type": "code",
   "execution_count": 9,
   "metadata": {},
   "outputs": [],
   "source": [
    "lemmatizer = WordNetLemmatizer()"
   ]
  },
  {
   "cell_type": "code",
   "execution_count": 10,
   "metadata": {},
   "outputs": [],
   "source": [
    "def get_wordnet_pos(word):\n",
    "    \"\"\"Map POS tag to first character lemmatize() accepts\"\"\"\n",
    "    tag = nltk.pos_tag([word])[0][1][0].upper()\n",
    "    tag_dict = {\"J\": wordnet.ADJ,\n",
    "                \"N\": wordnet.NOUN,\n",
    "                \"V\": wordnet.VERB,\n",
    "                \"R\": wordnet.ADV}\n",
    "    return tag_dict.get(tag, wordnet.NOUN)"
   ]
  },
  {
   "cell_type": "code",
   "execution_count": 11,
   "metadata": {},
   "outputs": [],
   "source": [
    "def token_lem(text):\n",
    "    text = text.lower()\n",
    "    tokens = ' '.join(word_tokenize(text))\n",
    "    tokens = re.sub(r\"[^a-zA-Z']\", ' ', tokens).split()\n",
    "    # lemmatized_tokens = lemmatizer.lemmatize(tokens)\n",
    "    lemmatized_tokens = [lemmatizer.lemmatize(w, get_wordnet_pos(w)) for w in tokens]\n",
    "    return ' '.join(lemmatized_tokens)"
   ]
  },
  {
   "cell_type": "code",
   "execution_count": 153,
   "metadata": {
    "scrolled": true
   },
   "outputs": [
    {
     "data": {
      "application/vnd.jupyter.widget-view+json": {
       "model_id": "5b2d0ee697594893b8a65484b982775b",
       "version_major": 2,
       "version_minor": 0
      },
      "text/plain": [
       "  0%|          | 0/159292 [00:00<?, ?it/s]"
      ]
     },
     "metadata": {},
     "output_type": "display_data"
    }
   ],
   "source": [
    "data['text_final'] = data['text'].progress_apply(token_lem)"
   ]
  },
  {
   "cell_type": "markdown",
   "metadata": {},
   "source": [
    "### SpaCy"
   ]
  },
  {
   "cell_type": "code",
   "execution_count": 13,
   "metadata": {},
   "outputs": [
    {
     "name": "stdout",
     "output_type": "stream",
     "text": [
      "Requirement already satisfied: spacy in /opt/conda/lib/python3.9/site-packages (3.2.0)\n",
      "Requirement already satisfied: preshed<3.1.0,>=3.0.2 in /opt/conda/lib/python3.9/site-packages (from spacy) (3.0.7)\n",
      "Requirement already satisfied: packaging>=20.0 in /opt/conda/lib/python3.9/site-packages (from spacy) (21.3)\n",
      "Requirement already satisfied: jinja2 in /opt/conda/lib/python3.9/site-packages (from spacy) (3.0.1)\n",
      "Requirement already satisfied: requests<3.0.0,>=2.13.0 in /opt/conda/lib/python3.9/site-packages (from spacy) (2.25.1)\n",
      "Requirement already satisfied: numpy>=1.15.0 in /opt/conda/lib/python3.9/site-packages (from spacy) (1.21.1)\n",
      "Requirement already satisfied: blis<0.8.0,>=0.4.0 in /opt/conda/lib/python3.9/site-packages (from spacy) (0.7.8)\n",
      "Requirement already satisfied: setuptools in /opt/conda/lib/python3.9/site-packages (from spacy) (49.6.0.post20210108)\n",
      "Requirement already satisfied: cymem<2.1.0,>=2.0.2 in /opt/conda/lib/python3.9/site-packages (from spacy) (2.0.6)\n",
      "Requirement already satisfied: langcodes<4.0.0,>=3.2.0 in /opt/conda/lib/python3.9/site-packages (from spacy) (3.3.0)\n",
      "Requirement already satisfied: spacy-loggers<2.0.0,>=1.0.0 in /opt/conda/lib/python3.9/site-packages (from spacy) (1.0.3)\n",
      "Requirement already satisfied: murmurhash<1.1.0,>=0.28.0 in /opt/conda/lib/python3.9/site-packages (from spacy) (1.0.8)\n",
      "Requirement already satisfied: srsly<3.0.0,>=2.4.1 in /opt/conda/lib/python3.9/site-packages (from spacy) (2.4.4)\n",
      "Requirement already satisfied: wasabi<1.1.0,>=0.8.1 in /opt/conda/lib/python3.9/site-packages (from spacy) (0.10.1)\n",
      "Requirement already satisfied: spacy-legacy<3.1.0,>=3.0.8 in /opt/conda/lib/python3.9/site-packages (from spacy) (3.0.10)\n",
      "Requirement already satisfied: typer<0.5.0,>=0.3.0 in /opt/conda/lib/python3.9/site-packages (from spacy) (0.4.2)\n",
      "Requirement already satisfied: pydantic!=1.8,!=1.8.1,<1.9.0,>=1.7.4 in /opt/conda/lib/python3.9/site-packages (from spacy) (1.8.2)\n",
      "Requirement already satisfied: catalogue<2.1.0,>=2.0.6 in /opt/conda/lib/python3.9/site-packages (from spacy) (2.0.8)\n",
      "Requirement already satisfied: tqdm<5.0.0,>=4.38.0 in /opt/conda/lib/python3.9/site-packages (from spacy) (4.61.2)\n",
      "Requirement already satisfied: pathy>=0.3.5 in /opt/conda/lib/python3.9/site-packages (from spacy) (0.6.2)\n",
      "Requirement already satisfied: thinc<8.1.0,>=8.0.12 in /opt/conda/lib/python3.9/site-packages (from spacy) (8.0.17)\n",
      "Requirement already satisfied: pyparsing!=3.0.5,>=2.0.2 in /opt/conda/lib/python3.9/site-packages (from packaging>=20.0->spacy) (2.4.7)\n",
      "Requirement already satisfied: smart-open<6.0.0,>=5.2.1 in /opt/conda/lib/python3.9/site-packages (from pathy>=0.3.5->spacy) (5.2.1)\n",
      "Requirement already satisfied: typing-extensions>=3.7.4.3 in /opt/conda/lib/python3.9/site-packages (from pydantic!=1.8,!=1.8.1,<1.9.0,>=1.7.4->spacy) (4.3.0)\n",
      "Requirement already satisfied: urllib3<1.27,>=1.21.1 in /opt/conda/lib/python3.9/site-packages (from requests<3.0.0,>=2.13.0->spacy) (1.26.6)\n",
      "Requirement already satisfied: idna<3,>=2.5 in /opt/conda/lib/python3.9/site-packages (from requests<3.0.0,>=2.13.0->spacy) (2.10)\n",
      "Requirement already satisfied: chardet<5,>=3.0.2 in /opt/conda/lib/python3.9/site-packages (from requests<3.0.0,>=2.13.0->spacy) (4.0.0)\n",
      "Requirement already satisfied: certifi>=2017.4.17 in /opt/conda/lib/python3.9/site-packages (from requests<3.0.0,>=2.13.0->spacy) (2022.6.15)\n",
      "Requirement already satisfied: click<9.0.0,>=7.1.1 in /opt/conda/lib/python3.9/site-packages (from typer<0.5.0,>=0.3.0->spacy) (8.1.3)\n",
      "Requirement already satisfied: MarkupSafe>=2.0 in /opt/conda/lib/python3.9/site-packages (from jinja2->spacy) (2.1.1)\n",
      "\u001b[38;5;3m⚠ As of spaCy v3.0, shortcuts like 'en' are deprecated. Please use the\n",
      "full pipeline package name 'en_core_web_sm' instead.\u001b[0m\n",
      "Collecting en-core-web-sm==3.2.0\n",
      "  Downloading https://github.com/explosion/spacy-models/releases/download/en_core_web_sm-3.2.0/en_core_web_sm-3.2.0-py3-none-any.whl (13.9 MB)\n",
      "\u001b[K     |████████████████████████████████| 13.9 MB 2.6 MB/s eta 0:00:01\n",
      "\u001b[?25hRequirement already satisfied: spacy<3.3.0,>=3.2.0 in /opt/conda/lib/python3.9/site-packages (from en-core-web-sm==3.2.0) (3.2.0)\n",
      "Requirement already satisfied: numpy>=1.15.0 in /opt/conda/lib/python3.9/site-packages (from spacy<3.3.0,>=3.2.0->en-core-web-sm==3.2.0) (1.21.1)\n",
      "Requirement already satisfied: jinja2 in /opt/conda/lib/python3.9/site-packages (from spacy<3.3.0,>=3.2.0->en-core-web-sm==3.2.0) (3.0.1)\n",
      "Requirement already satisfied: blis<0.8.0,>=0.4.0 in /opt/conda/lib/python3.9/site-packages (from spacy<3.3.0,>=3.2.0->en-core-web-sm==3.2.0) (0.7.8)\n",
      "Requirement already satisfied: wasabi<1.1.0,>=0.8.1 in /opt/conda/lib/python3.9/site-packages (from spacy<3.3.0,>=3.2.0->en-core-web-sm==3.2.0) (0.10.1)\n",
      "Requirement already satisfied: setuptools in /opt/conda/lib/python3.9/site-packages (from spacy<3.3.0,>=3.2.0->en-core-web-sm==3.2.0) (49.6.0.post20210108)\n",
      "Requirement already satisfied: murmurhash<1.1.0,>=0.28.0 in /opt/conda/lib/python3.9/site-packages (from spacy<3.3.0,>=3.2.0->en-core-web-sm==3.2.0) (1.0.8)\n",
      "Requirement already satisfied: thinc<8.1.0,>=8.0.12 in /opt/conda/lib/python3.9/site-packages (from spacy<3.3.0,>=3.2.0->en-core-web-sm==3.2.0) (8.0.17)\n",
      "Requirement already satisfied: pydantic!=1.8,!=1.8.1,<1.9.0,>=1.7.4 in /opt/conda/lib/python3.9/site-packages (from spacy<3.3.0,>=3.2.0->en-core-web-sm==3.2.0) (1.8.2)\n",
      "Requirement already satisfied: typer<0.5.0,>=0.3.0 in /opt/conda/lib/python3.9/site-packages (from spacy<3.3.0,>=3.2.0->en-core-web-sm==3.2.0) (0.4.2)\n",
      "Requirement already satisfied: requests<3.0.0,>=2.13.0 in /opt/conda/lib/python3.9/site-packages (from spacy<3.3.0,>=3.2.0->en-core-web-sm==3.2.0) (2.25.1)\n",
      "Requirement already satisfied: langcodes<4.0.0,>=3.2.0 in /opt/conda/lib/python3.9/site-packages (from spacy<3.3.0,>=3.2.0->en-core-web-sm==3.2.0) (3.3.0)\n",
      "Requirement already satisfied: cymem<2.1.0,>=2.0.2 in /opt/conda/lib/python3.9/site-packages (from spacy<3.3.0,>=3.2.0->en-core-web-sm==3.2.0) (2.0.6)\n",
      "Requirement already satisfied: srsly<3.0.0,>=2.4.1 in /opt/conda/lib/python3.9/site-packages (from spacy<3.3.0,>=3.2.0->en-core-web-sm==3.2.0) (2.4.4)\n",
      "Requirement already satisfied: catalogue<2.1.0,>=2.0.6 in /opt/conda/lib/python3.9/site-packages (from spacy<3.3.0,>=3.2.0->en-core-web-sm==3.2.0) (2.0.8)\n",
      "Requirement already satisfied: pathy>=0.3.5 in /opt/conda/lib/python3.9/site-packages (from spacy<3.3.0,>=3.2.0->en-core-web-sm==3.2.0) (0.6.2)\n",
      "Requirement already satisfied: packaging>=20.0 in /opt/conda/lib/python3.9/site-packages (from spacy<3.3.0,>=3.2.0->en-core-web-sm==3.2.0) (21.3)\n",
      "Requirement already satisfied: tqdm<5.0.0,>=4.38.0 in /opt/conda/lib/python3.9/site-packages (from spacy<3.3.0,>=3.2.0->en-core-web-sm==3.2.0) (4.61.2)\n",
      "Requirement already satisfied: spacy-loggers<2.0.0,>=1.0.0 in /opt/conda/lib/python3.9/site-packages (from spacy<3.3.0,>=3.2.0->en-core-web-sm==3.2.0) (1.0.3)\n",
      "Requirement already satisfied: spacy-legacy<3.1.0,>=3.0.8 in /opt/conda/lib/python3.9/site-packages (from spacy<3.3.0,>=3.2.0->en-core-web-sm==3.2.0) (3.0.10)\n",
      "Requirement already satisfied: preshed<3.1.0,>=3.0.2 in /opt/conda/lib/python3.9/site-packages (from spacy<3.3.0,>=3.2.0->en-core-web-sm==3.2.0) (3.0.7)\n",
      "Requirement already satisfied: pyparsing!=3.0.5,>=2.0.2 in /opt/conda/lib/python3.9/site-packages (from packaging>=20.0->spacy<3.3.0,>=3.2.0->en-core-web-sm==3.2.0) (2.4.7)\n",
      "Requirement already satisfied: smart-open<6.0.0,>=5.2.1 in /opt/conda/lib/python3.9/site-packages (from pathy>=0.3.5->spacy<3.3.0,>=3.2.0->en-core-web-sm==3.2.0) (5.2.1)\n",
      "Requirement already satisfied: typing-extensions>=3.7.4.3 in /opt/conda/lib/python3.9/site-packages (from pydantic!=1.8,!=1.8.1,<1.9.0,>=1.7.4->spacy<3.3.0,>=3.2.0->en-core-web-sm==3.2.0) (4.3.0)\n",
      "Requirement already satisfied: urllib3<1.27,>=1.21.1 in /opt/conda/lib/python3.9/site-packages (from requests<3.0.0,>=2.13.0->spacy<3.3.0,>=3.2.0->en-core-web-sm==3.2.0) (1.26.6)\n",
      "Requirement already satisfied: chardet<5,>=3.0.2 in /opt/conda/lib/python3.9/site-packages (from requests<3.0.0,>=2.13.0->spacy<3.3.0,>=3.2.0->en-core-web-sm==3.2.0) (4.0.0)\n",
      "Requirement already satisfied: idna<3,>=2.5 in /opt/conda/lib/python3.9/site-packages (from requests<3.0.0,>=2.13.0->spacy<3.3.0,>=3.2.0->en-core-web-sm==3.2.0) (2.10)\n",
      "Requirement already satisfied: certifi>=2017.4.17 in /opt/conda/lib/python3.9/site-packages (from requests<3.0.0,>=2.13.0->spacy<3.3.0,>=3.2.0->en-core-web-sm==3.2.0) (2022.6.15)\n",
      "Requirement already satisfied: click<9.0.0,>=7.1.1 in /opt/conda/lib/python3.9/site-packages (from typer<0.5.0,>=0.3.0->spacy<3.3.0,>=3.2.0->en-core-web-sm==3.2.0) (8.1.3)\n",
      "Requirement already satisfied: MarkupSafe>=2.0 in /opt/conda/lib/python3.9/site-packages (from jinja2->spacy<3.3.0,>=3.2.0->en-core-web-sm==3.2.0) (2.1.1)\n",
      "\u001b[38;5;2m✔ Download and installation successful\u001b[0m\n",
      "You can now load the package via spacy.load('en_core_web_sm')\n"
     ]
    }
   ],
   "source": [
    "import sys\n",
    "!{sys.executable} -m pip install spacy\n",
    "\n",
    "!{sys.executable} -m spacy download en"
   ]
  },
  {
   "cell_type": "code",
   "execution_count": 14,
   "metadata": {},
   "outputs": [],
   "source": [
    "import spacy\n",
    "# Initialize spacy 'en' model, keeping only tagger component needed for lemmatization\n",
    "nlp = spacy.load('en_core_web_sm', disable=['parser', 'ner'])"
   ]
  },
  {
   "cell_type": "code",
   "execution_count": 15,
   "metadata": {},
   "outputs": [],
   "source": [
    "def sc(text):\n",
    "    text = ' '.join(re.sub(r\"[^a-zA-Z']\", ' ', text).split())\n",
    "    final = nlp(text)\n",
    "    return(\" \".join([token.lemma_ for token in final]))"
   ]
  },
  {
   "cell_type": "code",
   "execution_count": 157,
   "metadata": {},
   "outputs": [
    {
     "data": {
      "application/vnd.jupyter.widget-view+json": {
       "model_id": "017c7e99bae74e19908134fb6a677e72",
       "version_major": 2,
       "version_minor": 0
      },
      "text/plain": [
       "  0%|          | 0/159292 [00:00<?, ?it/s]"
      ]
     },
     "metadata": {},
     "output_type": "display_data"
    }
   ],
   "source": [
    "data['text_final_sc'] = data['text'].progress_apply(sc)"
   ]
  },
  {
   "cell_type": "code",
   "execution_count": 16,
   "metadata": {},
   "outputs": [
    {
     "data": {
      "application/vnd.jupyter.widget-view+json": {
       "model_id": "26557f4fcc344d10aed73ab8db8e02b6",
       "version_major": 2,
       "version_minor": 0
      },
      "text/plain": [
       "  0%|          | 0/5 [00:00<?, ?it/s]"
      ]
     },
     "metadata": {},
     "output_type": "display_data"
    }
   ],
   "source": [
    "data['text_final_sc'] = data['text'].progress_apply(sc)"
   ]
  },
  {
   "cell_type": "markdown",
   "metadata": {},
   "source": [
    "### Разделение данных"
   ]
  },
  {
   "cell_type": "code",
   "execution_count": 17,
   "metadata": {},
   "outputs": [
    {
     "data": {
      "text/plain": [
       "\"explanation why the edits make under my username hardcore metallica fan be revert they be n't vandalism just closure on some gas after i vote at new york doll fac and please do n't remove the template from the talk page since i 'm retire now\""
      ]
     },
     "metadata": {},
     "output_type": "display_data"
    }
   ],
   "source": [
    "display(data['text_final'][0])"
   ]
  },
  {
   "cell_type": "code",
   "execution_count": 18,
   "metadata": {
    "scrolled": true
   },
   "outputs": [
    {
     "data": {
      "text/plain": [
       "'explanation why the edit make under my username Hardcore Metallica Fan be revert they be not vandalism just closure on some gas after I vote at New York Dolls FAC and please do not remove the template from the talk page since I be retire now'"
      ]
     },
     "metadata": {},
     "output_type": "display_data"
    }
   ],
   "source": [
    "display(data['text_final_sc'][0])"
   ]
  },
  {
   "cell_type": "code",
   "execution_count": 160,
   "metadata": {},
   "outputs": [],
   "source": [
    "features = data['text_final']\n",
    "target = data['toxic']"
   ]
  },
  {
   "cell_type": "code",
   "execution_count": 161,
   "metadata": {},
   "outputs": [],
   "source": [
    "features_train, features_test, target_train, target_test = train_test_split(features,\n",
    "                                                                            target,\n",
    "                                                                            test_size = 0.2,\n",
    "                                                                            random_state = 12345,\n",
    "                                                                            stratify=target)"
   ]
  },
  {
   "cell_type": "code",
   "execution_count": 162,
   "metadata": {},
   "outputs": [],
   "source": [
    "features_sc = data['text_final_sc']\n",
    "target_sc = data['toxic']"
   ]
  },
  {
   "cell_type": "code",
   "execution_count": 163,
   "metadata": {},
   "outputs": [],
   "source": [
    "features_train_sc, features_test_sc, target_train_sc, target_test_sc = train_test_split(features_sc,\n",
    "                                                                            target_sc,\n",
    "                                                                            test_size = 0.2,\n",
    "                                                                            random_state = 12345,\n",
    "                                                                            stratify=target_sc)"
   ]
  },
  {
   "cell_type": "markdown",
   "metadata": {},
   "source": [
    "### Векторизация"
   ]
  },
  {
   "cell_type": "code",
   "execution_count": 164,
   "metadata": {},
   "outputs": [],
   "source": [
    "tf_idf = TfidfVectorizer(stop_words=stop_words)"
   ]
  },
  {
   "cell_type": "code",
   "execution_count": 165,
   "metadata": {},
   "outputs": [],
   "source": [
    "features_train = tf_idf.fit_transform(features_train)\n",
    "features_test = tf_idf.transform(features_test)"
   ]
  },
  {
   "cell_type": "code",
   "execution_count": 166,
   "metadata": {},
   "outputs": [],
   "source": [
    "features_train_sc = tf_idf.fit_transform(features_train_sc)\n",
    "features_test_sc = tf_idf.transform(features_test_sc)"
   ]
  },
  {
   "cell_type": "code",
   "execution_count": 167,
   "metadata": {},
   "outputs": [],
   "source": [
    "features_train_v, features_valid, target_train_v, target_valid = train_test_split(features_train,\n",
    "                                                                            target_train,\n",
    "                                                                            test_size = 0.15,\n",
    "                                                                            random_state = 12345,\n",
    "                                                                            stratify=target_train)"
   ]
  },
  {
   "cell_type": "code",
   "execution_count": 168,
   "metadata": {},
   "outputs": [],
   "source": [
    "features_train_v_sc, features_valid_sc, target_train_v_sc, target_valid_sc = train_test_split(features_train_sc,\n",
    "                                                                            target_train_sc,\n",
    "                                                                            test_size = 0.15,\n",
    "                                                                            random_state = 12345,\n",
    "                                                                            stratify=target_train_sc)"
   ]
  },
  {
   "cell_type": "code",
   "execution_count": 169,
   "metadata": {},
   "outputs": [
    {
     "name": "stdout",
     "output_type": "stream",
     "text": [
      "[[0. 0. 0. ... 0. 0. 0.]\n",
      " [0. 0. 0. ... 0. 0. 0.]\n",
      " [0. 0. 0. ... 0. 0. 0.]\n",
      " [0. 0. 0. ... 0. 0. 0.]\n",
      " [0. 0. 0. ... 0. 0. 0.]]\n"
     ]
    }
   ],
   "source": [
    "print(features_train[:5].toarray())"
   ]
  },
  {
   "cell_type": "markdown",
   "metadata": {},
   "source": [
    "### Вывод"
   ]
  },
  {
   "cell_type": "markdown",
   "metadata": {},
   "source": [
    "Данные были успешно подготовленны к обучению модели по ним. Комментарии были токенизированы, лемматизированны, после чего был создан вектор tf_idf"
   ]
  },
  {
   "cell_type": "markdown",
   "metadata": {},
   "source": [
    "## Обучение"
   ]
  },
  {
   "cell_type": "markdown",
   "metadata": {},
   "source": [
    "### Обучение с лемматизацией wordnet"
   ]
  },
  {
   "cell_type": "markdown",
   "metadata": {},
   "source": [
    "#### Логистическая регрессия"
   ]
  },
  {
   "cell_type": "code",
   "execution_count": 170,
   "metadata": {},
   "outputs": [
    {
     "name": "stdout",
     "output_type": "stream",
     "text": [
      "CPU times: user 16.3 s, sys: 15.8 s, total: 32.1 s\n",
      "Wall time: 32.1 s\n"
     ]
    }
   ],
   "source": [
    "%%time\n",
    "model = LogisticRegression(random_state=12345, class_weight='balanced',max_iter=500)\n",
    "model.fit(features_train_v, target_train_v)\n",
    "predictions = model.predict(features_valid)\n",
    "    \n",
    "valid_f1_score = f1_score(target_valid, predictions)"
   ]
  },
  {
   "cell_type": "code",
   "execution_count": 171,
   "metadata": {
    "scrolled": true
   },
   "outputs": [
    {
     "name": "stdout",
     "output_type": "stream",
     "text": [
      "0.7383496249147534\n"
     ]
    }
   ],
   "source": [
    "print(valid_f1_score)"
   ]
  },
  {
   "cell_type": "markdown",
   "metadata": {},
   "source": [
    "#### Дерево решений"
   ]
  },
  {
   "cell_type": "code",
   "execution_count": 172,
   "metadata": {},
   "outputs": [
    {
     "name": "stdout",
     "output_type": "stream",
     "text": [
      "При глубине 30 удалось получить f1_score = 0.641816143497758\n",
      "CPU times: user 1min 42s, sys: 71.2 ms, total: 1min 42s\n",
      "Wall time: 1min 42s\n"
     ]
    }
   ],
   "source": [
    "%%time\n",
    "b_depth = 0\n",
    "b_score = 0\n",
    "\n",
    "for depth in [5,10,15,20,30]:\n",
    "    model = DecisionTreeClassifier(random_state=12345, max_depth = depth, class_weight = 'balanced')\n",
    "    model.fit(features_train_v, target_train_v)\n",
    "    predictions = model.predict(features_valid)\n",
    "    f1 = f1_score(target_valid, predictions)\n",
    "    if f1 > b_score:\n",
    "        b_score = f1\n",
    "        b_depth = depth\n",
    "print(f'При глубине {b_depth} удалось получить f1_score = {b_score}')"
   ]
  },
  {
   "cell_type": "markdown",
   "metadata": {},
   "source": [
    "### Обучение с лемматизацией  sc"
   ]
  },
  {
   "cell_type": "markdown",
   "metadata": {},
   "source": [
    "#### Логистическая регрессия"
   ]
  },
  {
   "cell_type": "code",
   "execution_count": 173,
   "metadata": {},
   "outputs": [
    {
     "name": "stdout",
     "output_type": "stream",
     "text": [
      "CPU times: user 27.8 s, sys: 27.6 s, total: 55.4 s\n",
      "Wall time: 55.4 s\n"
     ]
    }
   ],
   "source": [
    "%%time\n",
    "model = LogisticRegression(random_state=12345, class_weight='balanced',max_iter=500)\n",
    "model.fit(features_train_v_sc, target_train_v_sc)\n",
    "predictions = model.predict(features_valid_sc)\n",
    "    \n",
    "valid_f1_score = f1_score(target_valid_sc, predictions)"
   ]
  },
  {
   "cell_type": "code",
   "execution_count": 174,
   "metadata": {},
   "outputs": [
    {
     "name": "stdout",
     "output_type": "stream",
     "text": [
      "0.7489693082913421\n"
     ]
    }
   ],
   "source": [
    "print(valid_f1_score)"
   ]
  },
  {
   "cell_type": "markdown",
   "metadata": {},
   "source": [
    "#### Дерево решений"
   ]
  },
  {
   "cell_type": "code",
   "execution_count": 175,
   "metadata": {},
   "outputs": [
    {
     "name": "stdout",
     "output_type": "stream",
     "text": [
      "При глубине 30 удалось получить f1_score = 0.6465324384787472\n",
      "CPU times: user 1min 41s, sys: 154 ms, total: 1min 41s\n",
      "Wall time: 1min 41s\n"
     ]
    }
   ],
   "source": [
    "%%time\n",
    "b_depth = 0\n",
    "b_score = 0\n",
    "\n",
    "for depth in [5,10,15,20,30]:\n",
    "    model = DecisionTreeClassifier(random_state=12345, max_depth = depth, class_weight = 'balanced')\n",
    "    model.fit(features_train_v_sc, target_train_v_sc)\n",
    "    predictions = model.predict(features_valid_sc)\n",
    "    f1 = f1_score(target_valid_sc, predictions)\n",
    "    if f1 > b_score:\n",
    "        b_score = f1\n",
    "        b_depth = depth\n",
    "print(f'При глубине {b_depth} удалось получить f1_score = {b_score}')"
   ]
  },
  {
   "cell_type": "markdown",
   "metadata": {},
   "source": [
    "### Вывод"
   ]
  },
  {
   "cell_type": "markdown",
   "metadata": {},
   "source": [
    "Модели обученные на данных, лематизированных с помощью spacy, показали лучшие результаты, поэтому на тестовой выборке будем проверять именно их"
   ]
  },
  {
   "cell_type": "markdown",
   "metadata": {},
   "source": [
    "## Обучение и прогназирование на train и test выборках"
   ]
  },
  {
   "cell_type": "markdown",
   "metadata": {},
   "source": [
    "###  Логистическая регрессия\n"
   ]
  },
  {
   "cell_type": "code",
   "execution_count": 176,
   "metadata": {},
   "outputs": [],
   "source": [
    "model = LogisticRegression(random_state=12345, class_weight='balanced',max_iter=500)\n",
    "model.fit(features_train_sc, target_train_sc)\n",
    "predictions = model.predict(features_test_sc)\n",
    "    \n",
    "test_f1_score = f1_score(target_test_sc, predictions)"
   ]
  },
  {
   "cell_type": "code",
   "execution_count": 177,
   "metadata": {},
   "outputs": [
    {
     "name": "stdout",
     "output_type": "stream",
     "text": [
      "0.7604871447902571\n"
     ]
    }
   ],
   "source": [
    "print(test_f1_score)"
   ]
  },
  {
   "cell_type": "markdown",
   "metadata": {},
   "source": [
    "### Решающие деревья"
   ]
  },
  {
   "cell_type": "code",
   "execution_count": 178,
   "metadata": {},
   "outputs": [
    {
     "name": "stdout",
     "output_type": "stream",
     "text": [
      "При глубине 30 удалось добиться f1_score = 0.6448345712356516\n"
     ]
    }
   ],
   "source": [
    "model = DecisionTreeClassifier(random_state=12345, max_depth = b_depth, class_weight = 'balanced')\n",
    "model.fit(features_train_sc, target_train_sc)\n",
    "predictions = model.predict(features_test_sc)\n",
    "f1 = f1_score(target_test_sc, predictions)\n",
    "print(f'При глубине {b_depth} удалось добиться f1_score = {f1}')"
   ]
  },
  {
   "cell_type": "markdown",
   "metadata": {},
   "source": [
    "### Вывод"
   ]
  },
  {
   "cell_type": "markdown",
   "metadata": {},
   "source": [
    "Модель логистической регрессии показала лучшие результаты f1_score = 0.7604"
   ]
  },
  {
   "cell_type": "markdown",
   "metadata": {},
   "source": [
    "## Выводы"
   ]
  },
  {
   "cell_type": "markdown",
   "metadata": {},
   "source": [
    "В наборе данных содержится 159292 записи.\n",
    "\n",
    "Столбец “text” включает в себя текст комментария, а “toxic” является целевым признаком.\n",
    "\n",
    "Столбец ‘Unnamed: 0’ дублирует индексы, поэтому он был исключен.\n",
    "\n",
    "Данные были успешно подготовлены для обучения модели: комментарии были токенизированы и лемматизированы, после чего был создан вектор tf_idf.\n",
    "\n",
    "Логистическая регрессия показала наилучший результат с f1_score = 0.7604."
   ]
  }
 ],
 "metadata": {
  "ExecuteTimeLog": [
   {
    "duration": 499,
    "start_time": "2023-10-24T15:51:30.220Z"
   },
   {
    "duration": 390,
    "start_time": "2023-10-24T15:52:03.408Z"
   },
   {
    "duration": 5203,
    "start_time": "2023-10-24T15:52:28.112Z"
   },
   {
    "duration": 20,
    "start_time": "2023-10-24T15:52:47.794Z"
   },
   {
    "duration": 19,
    "start_time": "2023-10-24T15:52:52.910Z"
   },
   {
    "duration": 7,
    "start_time": "2023-10-24T15:53:42.343Z"
   },
   {
    "duration": 12,
    "start_time": "2023-10-24T15:54:11.385Z"
   },
   {
    "duration": 9,
    "start_time": "2023-10-24T15:54:31.678Z"
   },
   {
    "duration": 11,
    "start_time": "2023-10-24T15:54:59.906Z"
   },
   {
    "duration": 432,
    "start_time": "2023-10-24T15:55:03.579Z"
   },
   {
    "duration": 24,
    "start_time": "2023-10-24T15:55:06.484Z"
   },
   {
    "duration": 12,
    "start_time": "2023-10-24T15:55:10.002Z"
   },
   {
    "duration": 14,
    "start_time": "2023-10-24T15:55:21.891Z"
   },
   {
    "duration": 8,
    "start_time": "2023-10-24T15:55:30.609Z"
   },
   {
    "duration": 66,
    "start_time": "2023-10-24T15:55:52.745Z"
   },
   {
    "duration": 33,
    "start_time": "2023-10-24T16:02:38.265Z"
   },
   {
    "duration": 1171,
    "start_time": "2023-10-24T16:11:21.229Z"
   },
   {
    "duration": 4,
    "start_time": "2023-10-24T16:20:19.609Z"
   },
   {
    "duration": 3,
    "start_time": "2023-10-24T16:20:30.128Z"
   },
   {
    "duration": 8,
    "start_time": "2023-10-24T16:20:59.862Z"
   },
   {
    "duration": 178,
    "start_time": "2023-10-24T16:21:04.677Z"
   },
   {
    "duration": 86,
    "start_time": "2023-10-24T16:21:14.497Z"
   },
   {
    "duration": 7,
    "start_time": "2023-10-24T16:21:28.701Z"
   },
   {
    "duration": 5,
    "start_time": "2023-10-24T16:21:32.808Z"
   },
   {
    "duration": 53,
    "start_time": "2023-10-24T20:51:28.845Z"
   },
   {
    "duration": 2379,
    "start_time": "2023-10-24T20:51:32.124Z"
   },
   {
    "duration": 3047,
    "start_time": "2023-10-24T20:51:34.506Z"
   },
   {
    "duration": 13,
    "start_time": "2023-10-24T20:51:37.557Z"
   },
   {
    "duration": 7,
    "start_time": "2023-10-24T20:51:37.572Z"
   },
   {
    "duration": 35,
    "start_time": "2023-10-24T20:51:37.580Z"
   },
   {
    "duration": 24,
    "start_time": "2023-10-24T20:51:37.617Z"
   },
   {
    "duration": 104,
    "start_time": "2023-10-24T20:51:37.648Z"
   },
   {
    "duration": 0,
    "start_time": "2023-10-24T20:51:37.754Z"
   },
   {
    "duration": 0,
    "start_time": "2023-10-24T20:51:37.756Z"
   },
   {
    "duration": 15,
    "start_time": "2023-10-24T20:51:50.819Z"
   },
   {
    "duration": 4,
    "start_time": "2023-10-24T20:51:54.901Z"
   },
   {
    "duration": 13,
    "start_time": "2023-10-24T20:51:58.500Z"
   },
   {
    "duration": 4,
    "start_time": "2023-10-24T20:52:13.350Z"
   },
   {
    "duration": 3,
    "start_time": "2023-10-24T20:52:16.487Z"
   },
   {
    "duration": 1009,
    "start_time": "2023-10-24T20:52:16.492Z"
   },
   {
    "duration": 7,
    "start_time": "2023-10-24T20:52:17.503Z"
   },
   {
    "duration": 22,
    "start_time": "2023-10-24T20:52:17.512Z"
   },
   {
    "duration": 39,
    "start_time": "2023-10-24T20:52:17.540Z"
   },
   {
    "duration": 10,
    "start_time": "2023-10-24T20:52:17.580Z"
   },
   {
    "duration": 217,
    "start_time": "2023-10-24T20:52:17.592Z"
   },
   {
    "duration": 7,
    "start_time": "2023-10-24T20:52:17.810Z"
   },
   {
    "duration": 33,
    "start_time": "2023-10-24T20:52:17.818Z"
   },
   {
    "duration": 23,
    "start_time": "2023-10-24T20:52:43.618Z"
   },
   {
    "duration": 11,
    "start_time": "2023-10-24T20:52:52.894Z"
   },
   {
    "duration": 6,
    "start_time": "2023-10-24T20:53:09.847Z"
   },
   {
    "duration": 16,
    "start_time": "2023-10-24T20:53:09.944Z"
   },
   {
    "duration": 3,
    "start_time": "2023-10-24T20:53:16.605Z"
   },
   {
    "duration": 10,
    "start_time": "2023-10-24T20:54:24.492Z"
   },
   {
    "duration": 4,
    "start_time": "2023-10-24T20:54:32.365Z"
   },
   {
    "duration": 5,
    "start_time": "2023-10-24T21:03:49.351Z"
   },
   {
    "duration": 3,
    "start_time": "2023-10-24T21:03:58.557Z"
   },
   {
    "duration": 3,
    "start_time": "2023-10-24T21:04:51.209Z"
   },
   {
    "duration": 47,
    "start_time": "2023-10-24T21:06:05.208Z"
   },
   {
    "duration": 31,
    "start_time": "2023-10-24T21:06:12.937Z"
   },
   {
    "duration": 20,
    "start_time": "2023-10-24T21:07:28.892Z"
   },
   {
    "duration": 7,
    "start_time": "2023-10-24T21:11:20.221Z"
   },
   {
    "duration": 3,
    "start_time": "2023-10-24T21:11:42.870Z"
   },
   {
    "duration": 719,
    "start_time": "2023-10-24T21:13:17.920Z"
   },
   {
    "duration": 3,
    "start_time": "2023-10-24T21:13:50.705Z"
   },
   {
    "duration": 500,
    "start_time": "2023-10-24T21:13:53.403Z"
   },
   {
    "duration": 14,
    "start_time": "2023-10-24T21:14:06.052Z"
   },
   {
    "duration": 2159,
    "start_time": "2023-10-24T21:14:06.215Z"
   },
   {
    "duration": 7,
    "start_time": "2023-10-24T21:15:23.951Z"
   },
   {
    "duration": 1594,
    "start_time": "2023-10-24T21:15:24.091Z"
   },
   {
    "duration": 13,
    "start_time": "2023-10-24T21:15:30.721Z"
   },
   {
    "duration": 1859,
    "start_time": "2023-10-24T21:17:18.350Z"
   },
   {
    "duration": 1246,
    "start_time": "2023-10-24T21:17:20.211Z"
   },
   {
    "duration": 20,
    "start_time": "2023-10-24T21:17:21.459Z"
   },
   {
    "duration": 27,
    "start_time": "2023-10-24T21:17:21.482Z"
   },
   {
    "duration": 78,
    "start_time": "2023-10-24T21:17:21.511Z"
   },
   {
    "duration": 19,
    "start_time": "2023-10-24T21:17:21.599Z"
   },
   {
    "duration": 370,
    "start_time": "2023-10-24T21:17:21.620Z"
   },
   {
    "duration": 6,
    "start_time": "2023-10-24T21:17:21.992Z"
   },
   {
    "duration": 15,
    "start_time": "2023-10-24T21:17:22.000Z"
   },
   {
    "duration": 2219,
    "start_time": "2023-10-24T21:17:22.018Z"
   },
   {
    "duration": 10191,
    "start_time": "2023-10-24T21:17:49.562Z"
   },
   {
    "duration": 3,
    "start_time": "2023-10-24T21:26:12.092Z"
   },
   {
    "duration": 632,
    "start_time": "2023-10-24T21:26:12.579Z"
   },
   {
    "duration": 15,
    "start_time": "2023-10-24T21:26:51.841Z"
   },
   {
    "duration": 183527,
    "start_time": "2023-10-24T21:26:53.282Z"
   },
   {
    "duration": 1273,
    "start_time": "2023-10-25T21:24:52.410Z"
   },
   {
    "duration": 2322,
    "start_time": "2023-10-25T21:24:53.685Z"
   },
   {
    "duration": 12,
    "start_time": "2023-10-25T21:24:56.009Z"
   },
   {
    "duration": 7,
    "start_time": "2023-10-25T21:24:56.022Z"
   },
   {
    "duration": 34,
    "start_time": "2023-10-25T21:24:56.030Z"
   },
   {
    "duration": 10,
    "start_time": "2023-10-25T21:24:56.065Z"
   },
   {
    "duration": 130,
    "start_time": "2023-10-25T21:24:56.077Z"
   },
   {
    "duration": 4,
    "start_time": "2023-10-25T21:24:56.209Z"
   },
   {
    "duration": 12,
    "start_time": "2023-10-25T21:24:56.214Z"
   },
   {
    "duration": 159466,
    "start_time": "2023-10-25T21:24:56.227Z"
   },
   {
    "duration": 4,
    "start_time": "2023-10-25T21:27:35.695Z"
   },
   {
    "duration": 4,
    "start_time": "2023-10-25T21:34:26.002Z"
   },
   {
    "duration": 851,
    "start_time": "2023-10-25T21:34:26.007Z"
   },
   {
    "duration": 7,
    "start_time": "2023-10-25T21:34:26.859Z"
   },
   {
    "duration": 10,
    "start_time": "2023-10-25T21:34:26.867Z"
   },
   {
    "duration": 25,
    "start_time": "2023-10-25T21:34:26.879Z"
   },
   {
    "duration": 8,
    "start_time": "2023-10-25T21:34:26.905Z"
   },
   {
    "duration": 30,
    "start_time": "2023-10-25T21:34:26.914Z"
   },
   {
    "duration": 11,
    "start_time": "2023-10-25T21:34:26.945Z"
   },
   {
    "duration": 9,
    "start_time": "2023-10-25T21:34:26.958Z"
   },
   {
    "duration": 146254,
    "start_time": "2023-10-25T21:34:26.968Z"
   },
   {
    "duration": 114,
    "start_time": "2023-10-25T21:42:33.802Z"
   },
   {
    "duration": 3,
    "start_time": "2023-10-25T21:42:38.158Z"
   },
   {
    "duration": 74,
    "start_time": "2023-10-25T21:42:38.297Z"
   },
   {
    "duration": 43,
    "start_time": "2023-10-25T21:42:51.389Z"
   },
   {
    "duration": 50,
    "start_time": "2023-10-25T21:43:04.014Z"
   },
   {
    "duration": 63,
    "start_time": "2023-10-25T21:43:09.036Z"
   },
   {
    "duration": 41,
    "start_time": "2023-10-25T21:43:51.976Z"
   },
   {
    "duration": 791,
    "start_time": "2023-10-25T21:46:15.984Z"
   },
   {
    "duration": 0,
    "start_time": "2023-10-25T21:46:16.776Z"
   },
   {
    "duration": 4,
    "start_time": "2023-10-25T21:48:21.978Z"
   },
   {
    "duration": 3,
    "start_time": "2023-10-25T21:49:06.554Z"
   },
   {
    "duration": 145425,
    "start_time": "2023-10-25T21:49:06.750Z"
   },
   {
    "duration": 4,
    "start_time": "2023-10-25T21:51:32.176Z"
   },
   {
    "duration": 4,
    "start_time": "2023-10-25T21:51:32.181Z"
   },
   {
    "duration": 452,
    "start_time": "2023-10-25T21:51:32.186Z"
   },
   {
    "duration": 1256,
    "start_time": "2023-10-25T21:52:02.333Z"
   },
   {
    "duration": 2226,
    "start_time": "2023-10-25T21:52:03.590Z"
   },
   {
    "duration": 12,
    "start_time": "2023-10-25T21:52:05.817Z"
   },
   {
    "duration": 8,
    "start_time": "2023-10-25T21:52:05.831Z"
   },
   {
    "duration": 23,
    "start_time": "2023-10-25T21:52:05.841Z"
   },
   {
    "duration": 13,
    "start_time": "2023-10-25T21:52:05.866Z"
   },
   {
    "duration": 136,
    "start_time": "2023-10-25T21:52:05.880Z"
   },
   {
    "duration": 3,
    "start_time": "2023-10-25T21:52:06.018Z"
   },
   {
    "duration": 15,
    "start_time": "2023-10-25T21:52:06.023Z"
   },
   {
    "duration": 139080,
    "start_time": "2023-10-25T21:52:06.040Z"
   },
   {
    "duration": 3,
    "start_time": "2023-10-25T21:54:25.122Z"
   },
   {
    "duration": 13,
    "start_time": "2023-10-25T21:54:25.126Z"
   },
   {
    "duration": 111,
    "start_time": "2023-10-25T21:54:25.141Z"
   },
   {
    "duration": 0,
    "start_time": "2023-10-25T21:54:25.254Z"
   },
   {
    "duration": 0,
    "start_time": "2023-10-25T21:54:25.255Z"
   },
   {
    "duration": 4,
    "start_time": "2023-10-25T21:56:55.244Z"
   },
   {
    "duration": 36,
    "start_time": "2023-10-25T21:56:58.726Z"
   },
   {
    "duration": 1616,
    "start_time": "2023-10-25T21:57:01.296Z"
   },
   {
    "duration": 7,
    "start_time": "2023-10-25T21:57:02.915Z"
   },
   {
    "duration": 4,
    "start_time": "2023-10-25T21:57:28.192Z"
   },
   {
    "duration": 2,
    "start_time": "2023-10-25T21:57:31.894Z"
   },
   {
    "duration": 6153,
    "start_time": "2023-10-25T21:59:31.621Z"
   },
   {
    "duration": 10,
    "start_time": "2023-10-25T22:00:06.177Z"
   },
   {
    "duration": 3,
    "start_time": "2023-10-25T22:00:11.237Z"
   },
   {
    "duration": 8,
    "start_time": "2023-10-25T22:00:14.351Z"
   },
   {
    "duration": 3,
    "start_time": "2023-10-25T22:00:24.574Z"
   },
   {
    "duration": 10,
    "start_time": "2023-10-25T22:00:29.873Z"
   },
   {
    "duration": 18,
    "start_time": "2023-10-25T22:02:22.676Z"
   },
   {
    "duration": 27990,
    "start_time": "2023-10-25T22:03:22.971Z"
   },
   {
    "duration": 54615,
    "start_time": "2023-10-25T22:03:55.939Z"
   },
   {
    "duration": 3,
    "start_time": "2023-10-25T22:05:18.275Z"
   },
   {
    "duration": 10649,
    "start_time": "2023-10-25T22:12:58.879Z"
   },
   {
    "duration": 2,
    "start_time": "2023-10-25T22:13:09.530Z"
   },
   {
    "duration": 55,
    "start_time": "2023-10-26T09:57:11.436Z"
   },
   {
    "duration": 9,
    "start_time": "2023-10-26T09:57:11.657Z"
   },
   {
    "duration": 11,
    "start_time": "2023-10-26T09:57:11.940Z"
   },
   {
    "duration": 1661,
    "start_time": "2023-10-26T09:57:16.711Z"
   },
   {
    "duration": 3311,
    "start_time": "2023-10-26T09:57:18.374Z"
   },
   {
    "duration": 22,
    "start_time": "2023-10-26T09:57:21.687Z"
   },
   {
    "duration": 28,
    "start_time": "2023-10-26T09:57:21.711Z"
   },
   {
    "duration": 37,
    "start_time": "2023-10-26T09:57:21.742Z"
   },
   {
    "duration": 24,
    "start_time": "2023-10-26T09:57:21.781Z"
   },
   {
    "duration": 185,
    "start_time": "2023-10-26T09:57:21.807Z"
   },
   {
    "duration": 5,
    "start_time": "2023-10-26T09:57:21.994Z"
   },
   {
    "duration": 32,
    "start_time": "2023-10-26T09:57:22.002Z"
   },
   {
    "duration": 199835,
    "start_time": "2023-10-26T09:57:22.036Z"
   },
   {
    "duration": 4,
    "start_time": "2023-10-26T10:00:41.873Z"
   },
   {
    "duration": 6,
    "start_time": "2023-10-26T10:00:41.879Z"
   },
   {
    "duration": 104,
    "start_time": "2023-10-26T10:00:41.887Z"
   },
   {
    "duration": 2286,
    "start_time": "2023-10-26T10:00:41.994Z"
   },
   {
    "duration": 4,
    "start_time": "2023-10-26T10:00:44.282Z"
   },
   {
    "duration": 9930,
    "start_time": "2023-10-26T10:00:44.288Z"
   },
   {
    "duration": 15,
    "start_time": "2023-10-26T10:00:54.224Z"
   },
   {
    "duration": 72907,
    "start_time": "2023-10-26T10:00:54.242Z"
   },
   {
    "duration": 3,
    "start_time": "2023-10-26T10:02:07.151Z"
   },
   {
    "duration": 79198,
    "start_time": "2023-10-26T10:02:07.156Z"
   },
   {
    "duration": 4,
    "start_time": "2023-10-26T10:03:26.356Z"
   },
   {
    "duration": 18640,
    "start_time": "2023-10-26T10:03:26.362Z"
   },
   {
    "duration": 12,
    "start_time": "2023-10-26T10:03:45.004Z"
   },
   {
    "duration": 5695,
    "start_time": "2023-10-26T15:00:03.000Z"
   },
   {
    "duration": 3745,
    "start_time": "2023-10-26T15:00:08.698Z"
   },
   {
    "duration": 32,
    "start_time": "2023-10-26T15:00:12.450Z"
   },
   {
    "duration": 9,
    "start_time": "2023-10-26T15:00:12.487Z"
   },
   {
    "duration": 37,
    "start_time": "2023-10-26T15:00:12.497Z"
   },
   {
    "duration": 48,
    "start_time": "2023-10-26T15:00:12.536Z"
   },
   {
    "duration": 189,
    "start_time": "2023-10-26T15:00:12.587Z"
   },
   {
    "duration": 7,
    "start_time": "2023-10-26T15:00:12.778Z"
   },
   {
    "duration": 23,
    "start_time": "2023-10-26T15:00:12.789Z"
   },
   {
    "duration": 230199,
    "start_time": "2023-10-26T15:00:12.815Z"
   },
   {
    "duration": 4,
    "start_time": "2023-10-26T15:04:03.016Z"
   },
   {
    "duration": 71,
    "start_time": "2023-10-26T15:04:03.021Z"
   },
   {
    "duration": 89,
    "start_time": "2023-10-26T15:04:03.094Z"
   },
   {
    "duration": 0,
    "start_time": "2023-10-26T15:04:03.185Z"
   },
   {
    "duration": 0,
    "start_time": "2023-10-26T15:04:03.187Z"
   },
   {
    "duration": 0,
    "start_time": "2023-10-26T15:04:03.188Z"
   },
   {
    "duration": 0,
    "start_time": "2023-10-26T15:04:03.190Z"
   },
   {
    "duration": 0,
    "start_time": "2023-10-26T15:04:03.191Z"
   },
   {
    "duration": 0,
    "start_time": "2023-10-26T15:04:03.193Z"
   },
   {
    "duration": 0,
    "start_time": "2023-10-26T15:04:03.194Z"
   },
   {
    "duration": 0,
    "start_time": "2023-10-26T15:04:03.196Z"
   },
   {
    "duration": 0,
    "start_time": "2023-10-26T15:04:03.197Z"
   },
   {
    "duration": 310,
    "start_time": "2023-10-26T15:04:39.038Z"
   },
   {
    "duration": 3,
    "start_time": "2023-10-26T15:05:05.217Z"
   },
   {
    "duration": 146,
    "start_time": "2023-10-26T15:05:05.361Z"
   },
   {
    "duration": 140,
    "start_time": "2023-10-26T15:06:07.880Z"
   },
   {
    "duration": 145,
    "start_time": "2023-10-26T15:07:02.695Z"
   },
   {
    "duration": 3646,
    "start_time": "2023-10-26T15:07:03.746Z"
   },
   {
    "duration": 5,
    "start_time": "2023-10-26T15:07:07.397Z"
   },
   {
    "duration": 56658,
    "start_time": "2023-10-26T15:07:21.218Z"
   },
   {
    "duration": 0,
    "start_time": "2023-10-26T15:08:17.881Z"
   },
   {
    "duration": 5042,
    "start_time": "2023-10-26T15:08:36.989Z"
   },
   {
    "duration": 2577,
    "start_time": "2023-10-26T15:08:42.033Z"
   },
   {
    "duration": 25,
    "start_time": "2023-10-26T15:08:44.612Z"
   },
   {
    "duration": 21,
    "start_time": "2023-10-26T15:08:44.639Z"
   },
   {
    "duration": 54,
    "start_time": "2023-10-26T15:08:44.663Z"
   },
   {
    "duration": 25,
    "start_time": "2023-10-26T15:08:44.719Z"
   },
   {
    "duration": 197,
    "start_time": "2023-10-26T15:08:44.747Z"
   },
   {
    "duration": 4,
    "start_time": "2023-10-26T15:08:44.946Z"
   },
   {
    "duration": 15,
    "start_time": "2023-10-26T15:08:44.953Z"
   },
   {
    "duration": 220734,
    "start_time": "2023-10-26T15:08:44.970Z"
   },
   {
    "duration": 5,
    "start_time": "2023-10-26T15:12:25.706Z"
   },
   {
    "duration": 25,
    "start_time": "2023-10-26T15:12:25.712Z"
   },
   {
    "duration": 177,
    "start_time": "2023-10-26T15:12:25.739Z"
   },
   {
    "duration": 2459,
    "start_time": "2023-10-26T15:12:25.919Z"
   },
   {
    "duration": 3,
    "start_time": "2023-10-26T15:12:28.380Z"
   },
   {
    "duration": 9712,
    "start_time": "2023-10-26T15:12:28.385Z"
   },
   {
    "duration": 13,
    "start_time": "2023-10-26T15:12:38.100Z"
   },
   {
    "duration": 90393,
    "start_time": "2023-10-26T15:12:38.115Z"
   },
   {
    "duration": 4,
    "start_time": "2023-10-26T15:14:08.509Z"
   },
   {
    "duration": 24862,
    "start_time": "2023-10-26T15:14:08.514Z"
   },
   {
    "duration": 5,
    "start_time": "2023-10-26T15:14:33.378Z"
   },
   {
    "duration": 227,
    "start_time": "2023-10-26T15:17:21.913Z"
   },
   {
    "duration": 104,
    "start_time": "2023-10-26T15:18:01.686Z"
   },
   {
    "duration": 6890,
    "start_time": "2023-10-26T15:19:09.622Z"
   },
   {
    "duration": 3646,
    "start_time": "2023-10-26T15:19:16.514Z"
   },
   {
    "duration": 24,
    "start_time": "2023-10-26T15:19:20.162Z"
   },
   {
    "duration": 22,
    "start_time": "2023-10-26T15:19:20.188Z"
   },
   {
    "duration": 72,
    "start_time": "2023-10-26T15:19:20.212Z"
   },
   {
    "duration": 17,
    "start_time": "2023-10-26T15:19:20.289Z"
   },
   {
    "duration": 223,
    "start_time": "2023-10-26T15:19:20.308Z"
   },
   {
    "duration": 7,
    "start_time": "2023-10-26T15:19:20.534Z"
   },
   {
    "duration": 36,
    "start_time": "2023-10-26T15:19:20.543Z"
   },
   {
    "duration": 2056,
    "start_time": "2023-10-26T15:19:48.973Z"
   },
   {
    "duration": 1195,
    "start_time": "2023-10-26T15:19:51.032Z"
   },
   {
    "duration": 40,
    "start_time": "2023-10-26T15:19:52.229Z"
   },
   {
    "duration": 15,
    "start_time": "2023-10-26T15:19:52.278Z"
   },
   {
    "duration": 60,
    "start_time": "2023-10-26T15:19:52.296Z"
   },
   {
    "duration": 28,
    "start_time": "2023-10-26T15:19:52.360Z"
   },
   {
    "duration": 177,
    "start_time": "2023-10-26T15:19:52.391Z"
   },
   {
    "duration": 10,
    "start_time": "2023-10-26T15:19:52.574Z"
   },
   {
    "duration": 56,
    "start_time": "2023-10-26T15:19:52.586Z"
   },
   {
    "duration": 1731,
    "start_time": "2023-10-26T15:21:23.874Z"
   },
   {
    "duration": 1122,
    "start_time": "2023-10-26T15:21:25.607Z"
   },
   {
    "duration": 29,
    "start_time": "2023-10-26T15:21:26.731Z"
   },
   {
    "duration": 12,
    "start_time": "2023-10-26T15:21:26.761Z"
   },
   {
    "duration": 39,
    "start_time": "2023-10-26T15:21:26.776Z"
   },
   {
    "duration": 16,
    "start_time": "2023-10-26T15:21:26.816Z"
   },
   {
    "duration": 165,
    "start_time": "2023-10-26T15:21:26.833Z"
   },
   {
    "duration": 4,
    "start_time": "2023-10-26T15:21:27.000Z"
   },
   {
    "duration": 7,
    "start_time": "2023-10-26T15:21:27.006Z"
   },
   {
    "duration": 193340,
    "start_time": "2023-10-26T15:21:27.015Z"
   },
   {
    "duration": 14,
    "start_time": "2023-10-26T15:24:40.360Z"
   },
   {
    "duration": 8,
    "start_time": "2023-10-26T15:24:40.376Z"
   },
   {
    "duration": 141,
    "start_time": "2023-10-26T15:24:40.386Z"
   },
   {
    "duration": 6163,
    "start_time": "2023-10-26T15:25:16.922Z"
   },
   {
    "duration": 3530,
    "start_time": "2023-10-26T15:25:23.087Z"
   },
   {
    "duration": 18,
    "start_time": "2023-10-26T15:25:26.618Z"
   },
   {
    "duration": 20,
    "start_time": "2023-10-26T15:25:26.639Z"
   },
   {
    "duration": 33,
    "start_time": "2023-10-26T15:25:26.668Z"
   },
   {
    "duration": 17,
    "start_time": "2023-10-26T15:25:26.702Z"
   },
   {
    "duration": 196,
    "start_time": "2023-10-26T15:25:26.720Z"
   },
   {
    "duration": 5,
    "start_time": "2023-10-26T15:25:26.918Z"
   },
   {
    "duration": 39,
    "start_time": "2023-10-26T15:25:26.925Z"
   },
   {
    "duration": 192324,
    "start_time": "2023-10-26T15:25:26.968Z"
   },
   {
    "duration": 5,
    "start_time": "2023-10-26T15:28:39.294Z"
   },
   {
    "duration": 8,
    "start_time": "2023-10-26T15:28:39.301Z"
   },
   {
    "duration": 172,
    "start_time": "2023-10-26T15:28:39.311Z"
   },
   {
    "duration": 2990,
    "start_time": "2023-10-26T15:36:00.870Z"
   },
   {
    "duration": 3616,
    "start_time": "2023-10-26T15:36:03.869Z"
   },
   {
    "duration": 15,
    "start_time": "2023-10-26T15:36:07.487Z"
   },
   {
    "duration": 27,
    "start_time": "2023-10-26T15:36:07.503Z"
   },
   {
    "duration": 65,
    "start_time": "2023-10-26T15:36:07.532Z"
   },
   {
    "duration": 76,
    "start_time": "2023-10-26T15:36:07.599Z"
   },
   {
    "duration": 271,
    "start_time": "2023-10-26T15:36:07.677Z"
   },
   {
    "duration": 17,
    "start_time": "2023-10-26T15:36:07.951Z"
   },
   {
    "duration": 4,
    "start_time": "2023-10-26T15:36:07.974Z"
   },
   {
    "duration": 137650,
    "start_time": "2023-10-26T15:36:07.980Z"
   },
   {
    "duration": 28,
    "start_time": "2023-10-26T15:38:25.632Z"
   },
   {
    "duration": 13,
    "start_time": "2023-10-26T15:38:25.667Z"
   },
   {
    "duration": 166,
    "start_time": "2023-10-26T15:38:25.682Z"
   },
   {
    "duration": 3065,
    "start_time": "2023-10-26T15:42:22.245Z"
   },
   {
    "duration": 3727,
    "start_time": "2023-10-26T15:42:25.312Z"
   },
   {
    "duration": 43,
    "start_time": "2023-10-26T15:42:29.041Z"
   },
   {
    "duration": 12,
    "start_time": "2023-10-26T15:42:29.087Z"
   },
   {
    "duration": 48,
    "start_time": "2023-10-26T15:42:29.102Z"
   },
   {
    "duration": 30,
    "start_time": "2023-10-26T15:42:29.154Z"
   },
   {
    "duration": 218,
    "start_time": "2023-10-26T15:42:29.189Z"
   },
   {
    "duration": 15,
    "start_time": "2023-10-26T15:42:29.409Z"
   },
   {
    "duration": 4,
    "start_time": "2023-10-26T15:42:29.426Z"
   },
   {
    "duration": 135735,
    "start_time": "2023-10-26T15:42:29.431Z"
   },
   {
    "duration": 5,
    "start_time": "2023-10-26T15:44:45.169Z"
   },
   {
    "duration": 30,
    "start_time": "2023-10-26T15:44:45.176Z"
   },
   {
    "duration": 167,
    "start_time": "2023-10-26T15:44:45.208Z"
   },
   {
    "duration": 2695,
    "start_time": "2023-10-26T15:46:19.027Z"
   },
   {
    "duration": 3542,
    "start_time": "2023-10-26T15:46:21.724Z"
   },
   {
    "duration": 19,
    "start_time": "2023-10-26T15:46:25.269Z"
   },
   {
    "duration": 84,
    "start_time": "2023-10-26T15:46:25.290Z"
   },
   {
    "duration": 55,
    "start_time": "2023-10-26T15:46:25.376Z"
   },
   {
    "duration": 34,
    "start_time": "2023-10-26T15:46:25.433Z"
   },
   {
    "duration": 276,
    "start_time": "2023-10-26T15:46:25.469Z"
   },
   {
    "duration": 16,
    "start_time": "2023-10-26T15:46:25.747Z"
   },
   {
    "duration": 19,
    "start_time": "2023-10-26T15:46:25.770Z"
   },
   {
    "duration": 133311,
    "start_time": "2023-10-26T15:46:25.793Z"
   },
   {
    "duration": 4,
    "start_time": "2023-10-26T15:48:39.107Z"
   },
   {
    "duration": 6,
    "start_time": "2023-10-26T15:48:39.113Z"
   },
   {
    "duration": 158,
    "start_time": "2023-10-26T15:48:39.120Z"
   },
   {
    "duration": 2604,
    "start_time": "2023-10-26T15:48:39.284Z"
   },
   {
    "duration": 12,
    "start_time": "2023-10-26T15:48:41.890Z"
   },
   {
    "duration": 12809,
    "start_time": "2023-10-26T15:48:41.905Z"
   },
   {
    "duration": 5,
    "start_time": "2023-10-26T15:48:54.716Z"
   },
   {
    "duration": 86929,
    "start_time": "2023-10-26T15:48:54.723Z"
   },
   {
    "duration": 10,
    "start_time": "2023-10-26T15:50:21.655Z"
   },
   {
    "duration": 173,
    "start_time": "2023-10-26T15:53:14.714Z"
   },
   {
    "duration": 12,
    "start_time": "2023-10-26T15:53:14.891Z"
   },
   {
    "duration": 69,
    "start_time": "2023-10-26T15:53:21.473Z"
   },
   {
    "duration": 21013,
    "start_time": "2023-10-26T15:53:22.563Z"
   },
   {
    "duration": 20,
    "start_time": "2023-10-26T15:54:27.793Z"
   },
   {
    "duration": 20785,
    "start_time": "2023-10-26T15:54:53.377Z"
   },
   {
    "duration": 111,
    "start_time": "2023-10-26T15:56:57.469Z"
   },
   {
    "duration": 2574,
    "start_time": "2023-10-26T15:56:59.217Z"
   },
   {
    "duration": 15,
    "start_time": "2023-10-26T15:57:01.793Z"
   },
   {
    "duration": 14326,
    "start_time": "2023-10-26T15:57:01.811Z"
   },
   {
    "duration": 19,
    "start_time": "2023-10-26T15:57:16.138Z"
   },
   {
    "duration": 95,
    "start_time": "2023-10-26T15:57:16.160Z"
   },
   {
    "duration": 78963,
    "start_time": "2023-10-26T15:57:16.259Z"
   },
   {
    "duration": 80302,
    "start_time": "2023-10-26T16:00:13.986Z"
   },
   {
    "duration": 14983,
    "start_time": "2023-10-26T16:03:27.930Z"
   },
   {
    "duration": 90,
    "start_time": "2023-10-26T22:22:40.085Z"
   },
   {
    "duration": 4539,
    "start_time": "2023-10-26T22:25:16.393Z"
   },
   {
    "duration": 5,
    "start_time": "2023-10-26T22:26:38.285Z"
   },
   {
    "duration": 3394,
    "start_time": "2023-10-26T22:26:38.292Z"
   },
   {
    "duration": 31,
    "start_time": "2023-10-26T22:26:41.687Z"
   },
   {
    "duration": 17,
    "start_time": "2023-10-26T22:26:41.723Z"
   },
   {
    "duration": 41,
    "start_time": "2023-10-26T22:26:41.742Z"
   },
   {
    "duration": 13,
    "start_time": "2023-10-26T22:26:41.785Z"
   },
   {
    "duration": 166,
    "start_time": "2023-10-26T22:26:41.799Z"
   },
   {
    "duration": 5,
    "start_time": "2023-10-26T22:26:41.967Z"
   },
   {
    "duration": 471,
    "start_time": "2023-10-26T22:26:41.973Z"
   },
   {
    "duration": 756,
    "start_time": "2023-10-26T22:27:28.333Z"
   },
   {
    "duration": 97,
    "start_time": "2023-10-26T22:28:44.091Z"
   },
   {
    "duration": 100,
    "start_time": "2023-10-26T22:28:48.252Z"
   },
   {
    "duration": 106,
    "start_time": "2023-10-26T22:28:51.596Z"
   },
   {
    "duration": 13786,
    "start_time": "2023-10-26T22:29:15.790Z"
   },
   {
    "duration": 106,
    "start_time": "2023-10-26T22:29:52.495Z"
   },
   {
    "duration": 838,
    "start_time": "2023-10-26T22:30:12.806Z"
   },
   {
    "duration": 4,
    "start_time": "2023-10-26T22:30:48.291Z"
   },
   {
    "duration": 537,
    "start_time": "2023-10-26T22:30:49.669Z"
   },
   {
    "duration": 118,
    "start_time": "2023-10-26T22:31:01.074Z"
   },
   {
    "duration": 540,
    "start_time": "2023-10-26T22:31:03.133Z"
   },
   {
    "duration": 153,
    "start_time": "2023-10-26T22:31:13.527Z"
   },
   {
    "duration": 1007,
    "start_time": "2023-10-26T22:31:14.350Z"
   },
   {
    "duration": 3,
    "start_time": "2023-10-26T22:31:21.872Z"
   },
   {
    "duration": 469,
    "start_time": "2023-10-26T22:31:22.381Z"
   },
   {
    "duration": 4,
    "start_time": "2023-10-26T22:32:53.082Z"
   },
   {
    "duration": 129470,
    "start_time": "2023-10-26T22:32:53.729Z"
   },
   {
    "duration": 6,
    "start_time": "2023-10-26T22:39:49.451Z"
   },
   {
    "duration": 1016,
    "start_time": "2023-10-26T22:39:49.459Z"
   },
   {
    "duration": 7,
    "start_time": "2023-10-26T22:39:50.478Z"
   },
   {
    "duration": 27,
    "start_time": "2023-10-26T22:39:50.487Z"
   },
   {
    "duration": 39,
    "start_time": "2023-10-26T22:39:50.527Z"
   },
   {
    "duration": 19,
    "start_time": "2023-10-26T22:39:50.569Z"
   },
   {
    "duration": 33,
    "start_time": "2023-10-26T22:39:50.591Z"
   },
   {
    "duration": 5,
    "start_time": "2023-10-26T22:39:50.629Z"
   },
   {
    "duration": 12537,
    "start_time": "2023-10-26T22:39:50.637Z"
   },
   {
    "duration": 558,
    "start_time": "2023-10-26T22:40:03.178Z"
   },
   {
    "duration": 4,
    "start_time": "2023-10-26T22:40:03.738Z"
   },
   {
    "duration": 1322569,
    "start_time": "2023-10-26T22:40:03.743Z"
   },
   {
    "duration": 4,
    "start_time": "2023-10-26T23:02:06.314Z"
   },
   {
    "duration": 165,
    "start_time": "2023-10-26T23:02:06.320Z"
   },
   {
    "duration": 130,
    "start_time": "2023-10-26T23:02:06.487Z"
   },
   {
    "duration": 3,
    "start_time": "2023-10-26T23:02:06.619Z"
   },
   {
    "duration": 1840,
    "start_time": "2023-10-26T23:02:06.623Z"
   },
   {
    "duration": 5,
    "start_time": "2023-10-26T23:02:08.465Z"
   },
   {
    "duration": 48,
    "start_time": "2023-10-26T23:02:08.471Z"
   },
   {
    "duration": 0,
    "start_time": "2023-10-26T23:02:08.521Z"
   },
   {
    "duration": 0,
    "start_time": "2023-10-26T23:02:08.522Z"
   },
   {
    "duration": 0,
    "start_time": "2023-10-26T23:02:08.523Z"
   },
   {
    "duration": 0,
    "start_time": "2023-10-26T23:02:08.524Z"
   },
   {
    "duration": 0,
    "start_time": "2023-10-26T23:02:08.525Z"
   },
   {
    "duration": 0,
    "start_time": "2023-10-26T23:02:08.526Z"
   },
   {
    "duration": 3,
    "start_time": "2023-10-26T23:03:51.879Z"
   },
   {
    "duration": 1470,
    "start_time": "2023-10-26T23:04:06.247Z"
   },
   {
    "duration": 5,
    "start_time": "2023-10-26T23:04:12.378Z"
   },
   {
    "duration": 3,
    "start_time": "2023-10-26T23:09:54.042Z"
   },
   {
    "duration": 104527,
    "start_time": "2023-10-26T23:09:54.451Z"
   },
   {
    "duration": 4,
    "start_time": "2023-10-26T23:11:38.980Z"
   },
   {
    "duration": 2,
    "start_time": "2023-10-26T23:14:04.253Z"
   },
   {
    "duration": 4,
    "start_time": "2023-10-26T23:14:04.763Z"
   },
   {
    "duration": 146339,
    "start_time": "2023-10-26T23:14:55.341Z"
   },
   {
    "duration": 4,
    "start_time": "2023-10-26T23:20:42.633Z"
   },
   {
    "duration": 3,
    "start_time": "2023-10-26T23:23:40.347Z"
   },
   {
    "duration": 5,
    "start_time": "2023-10-26T23:23:40.605Z"
   },
   {
    "duration": 4,
    "start_time": "2023-10-26T23:23:40.859Z"
   },
   {
    "duration": 414,
    "start_time": "2023-10-26T23:23:41.879Z"
   },
   {
    "duration": 5,
    "start_time": "2023-10-26T23:24:09.515Z"
   },
   {
    "duration": 4,
    "start_time": "2023-10-26T23:24:14.654Z"
   },
   {
    "duration": 3,
    "start_time": "2023-10-26T23:24:14.811Z"
   },
   {
    "duration": 3,
    "start_time": "2023-10-26T23:24:14.979Z"
   },
   {
    "duration": 391,
    "start_time": "2023-10-26T23:24:15.825Z"
   },
   {
    "duration": 68,
    "start_time": "2023-10-26T23:24:31.678Z"
   },
   {
    "duration": 440,
    "start_time": "2023-10-26T23:24:35.428Z"
   },
   {
    "duration": 3,
    "start_time": "2023-10-26T23:24:43.611Z"
   },
   {
    "duration": 3,
    "start_time": "2023-10-26T23:24:43.806Z"
   },
   {
    "duration": 4,
    "start_time": "2023-10-26T23:24:43.973Z"
   },
   {
    "duration": 28738,
    "start_time": "2023-10-26T23:24:44.879Z"
   },
   {
    "duration": 4,
    "start_time": "2023-10-26T23:26:43.201Z"
   },
   {
    "duration": 104553,
    "start_time": "2023-10-26T23:28:28.223Z"
   },
   {
    "duration": 5,
    "start_time": "2023-10-26T23:30:12.777Z"
   },
   {
    "duration": 17,
    "start_time": "2023-10-26T23:30:12.784Z"
   },
   {
    "duration": 59,
    "start_time": "2023-10-26T23:30:12.803Z"
   },
   {
    "duration": 64,
    "start_time": "2023-10-26T23:30:12.864Z"
   },
   {
    "duration": 16,
    "start_time": "2023-10-26T23:30:12.930Z"
   },
   {
    "duration": 7076,
    "start_time": "2023-10-26T23:30:12.947Z"
   },
   {
    "duration": 4,
    "start_time": "2023-10-26T23:30:20.025Z"
   },
   {
    "duration": 66,
    "start_time": "2023-10-26T23:30:20.031Z"
   },
   {
    "duration": 0,
    "start_time": "2023-10-26T23:30:20.099Z"
   },
   {
    "duration": 1,
    "start_time": "2023-10-26T23:30:20.100Z"
   },
   {
    "duration": 0,
    "start_time": "2023-10-26T23:30:20.102Z"
   },
   {
    "duration": 0,
    "start_time": "2023-10-26T23:30:20.103Z"
   },
   {
    "duration": 0,
    "start_time": "2023-10-26T23:30:20.105Z"
   },
   {
    "duration": 83,
    "start_time": "2023-10-26T23:32:03.445Z"
   },
   {
    "duration": 92,
    "start_time": "2023-10-26T23:32:08.404Z"
   },
   {
    "duration": 5,
    "start_time": "2023-10-26T23:32:09.458Z"
   },
   {
    "duration": 77864,
    "start_time": "2023-10-26T23:32:09.650Z"
   },
   {
    "duration": 6,
    "start_time": "2023-10-26T23:33:27.525Z"
   },
   {
    "duration": 64772,
    "start_time": "2023-10-26T23:33:27.537Z"
   },
   {
    "duration": 55712,
    "start_time": "2023-10-26T23:34:32.311Z"
   },
   {
    "duration": 5,
    "start_time": "2023-10-26T23:35:28.101Z"
   },
   {
    "duration": 12875,
    "start_time": "2023-10-26T23:35:28.108Z"
   },
   {
    "duration": 7696,
    "start_time": "2023-10-27T07:00:01.904Z"
   },
   {
    "duration": 2717,
    "start_time": "2023-10-27T07:00:09.603Z"
   },
   {
    "duration": 13,
    "start_time": "2023-10-27T07:00:12.322Z"
   },
   {
    "duration": 20,
    "start_time": "2023-10-27T07:00:12.337Z"
   },
   {
    "duration": 33,
    "start_time": "2023-10-27T07:00:12.365Z"
   },
   {
    "duration": 16,
    "start_time": "2023-10-27T07:00:12.401Z"
   },
   {
    "duration": 8,
    "start_time": "2023-10-27T07:00:12.419Z"
   },
   {
    "duration": 9,
    "start_time": "2023-10-27T07:00:12.446Z"
   },
   {
    "duration": 13,
    "start_time": "2023-10-27T07:00:12.457Z"
   },
   {
    "duration": 6,
    "start_time": "2023-10-27T07:00:12.473Z"
   },
   {
    "duration": 15,
    "start_time": "2023-10-27T07:00:12.481Z"
   },
   {
    "duration": 1603,
    "start_time": "2023-10-27T07:00:12.499Z"
   },
   {
    "duration": 5,
    "start_time": "2023-10-27T07:00:14.104Z"
   },
   {
    "duration": 5,
    "start_time": "2023-10-27T07:00:24.163Z"
   },
   {
    "duration": 407,
    "start_time": "2023-10-27T07:00:25.277Z"
   },
   {
    "duration": 5,
    "start_time": "2023-10-27T07:00:29.213Z"
   },
   {
    "duration": 6708,
    "start_time": "2023-10-27T07:02:15.098Z"
   },
   {
    "duration": 1100,
    "start_time": "2023-10-27T07:02:21.808Z"
   },
   {
    "duration": 11,
    "start_time": "2023-10-27T07:02:22.910Z"
   },
   {
    "duration": 53,
    "start_time": "2023-10-27T07:02:22.923Z"
   },
   {
    "duration": 61,
    "start_time": "2023-10-27T07:02:22.978Z"
   },
   {
    "duration": 55,
    "start_time": "2023-10-27T07:02:23.041Z"
   },
   {
    "duration": 37,
    "start_time": "2023-10-27T07:02:23.098Z"
   },
   {
    "duration": 37,
    "start_time": "2023-10-27T07:02:23.136Z"
   },
   {
    "duration": 24,
    "start_time": "2023-10-27T07:02:23.175Z"
   },
   {
    "duration": 62,
    "start_time": "2023-10-27T07:02:23.201Z"
   },
   {
    "duration": 67,
    "start_time": "2023-10-27T07:02:23.265Z"
   },
   {
    "duration": 2019,
    "start_time": "2023-10-27T07:02:23.334Z"
   },
   {
    "duration": 12,
    "start_time": "2023-10-27T07:02:25.356Z"
   },
   {
    "duration": 8,
    "start_time": "2023-10-27T07:02:56.825Z"
   },
   {
    "duration": 4,
    "start_time": "2023-10-27T07:07:12.613Z"
   },
   {
    "duration": 1174,
    "start_time": "2023-10-27T07:07:16.276Z"
   },
   {
    "duration": 4,
    "start_time": "2023-10-27T07:08:27.523Z"
   },
   {
    "duration": 583,
    "start_time": "2023-10-27T07:08:29.984Z"
   },
   {
    "duration": 495,
    "start_time": "2023-10-27T07:11:21.211Z"
   },
   {
    "duration": 4,
    "start_time": "2023-10-27T07:12:38.015Z"
   },
   {
    "duration": 485,
    "start_time": "2023-10-27T07:12:40.112Z"
   },
   {
    "duration": 5,
    "start_time": "2023-10-27T07:19:42.076Z"
   },
   {
    "duration": 572,
    "start_time": "2023-10-27T07:19:44.913Z"
   },
   {
    "duration": 6369,
    "start_time": "2023-10-27T09:35:47.438Z"
   },
   {
    "duration": 3199,
    "start_time": "2023-10-27T09:35:53.809Z"
   },
   {
    "duration": 9,
    "start_time": "2023-10-27T09:35:57.010Z"
   },
   {
    "duration": 39,
    "start_time": "2023-10-27T09:35:57.020Z"
   },
   {
    "duration": 40,
    "start_time": "2023-10-27T09:35:57.061Z"
   },
   {
    "duration": 12,
    "start_time": "2023-10-27T09:35:57.103Z"
   },
   {
    "duration": 9,
    "start_time": "2023-10-27T09:35:57.116Z"
   },
   {
    "duration": 11,
    "start_time": "2023-10-27T09:35:57.126Z"
   },
   {
    "duration": 4,
    "start_time": "2023-10-27T09:35:57.138Z"
   },
   {
    "duration": 7,
    "start_time": "2023-10-27T09:35:57.143Z"
   },
   {
    "duration": 21,
    "start_time": "2023-10-27T09:35:57.152Z"
   },
   {
    "duration": 9605,
    "start_time": "2023-10-27T09:35:57.174Z"
   },
   {
    "duration": 24,
    "start_time": "2023-10-27T09:36:28.811Z"
   },
   {
    "duration": 548,
    "start_time": "2023-10-27T09:37:02.516Z"
   },
   {
    "duration": 14,
    "start_time": "2023-10-27T09:37:21.761Z"
   },
   {
    "duration": 1409,
    "start_time": "2023-10-27T09:37:25.557Z"
   },
   {
    "duration": 4,
    "start_time": "2023-10-27T09:38:05.721Z"
   },
   {
    "duration": 3,
    "start_time": "2023-10-27T09:38:06.076Z"
   },
   {
    "duration": 75,
    "start_time": "2023-10-27T09:38:06.609Z"
   },
   {
    "duration": 3,
    "start_time": "2023-10-27T09:38:57.527Z"
   },
   {
    "duration": 6,
    "start_time": "2023-10-27T09:38:58.193Z"
   },
   {
    "duration": 3,
    "start_time": "2023-10-27T09:39:02.643Z"
   },
   {
    "duration": 4,
    "start_time": "2023-10-27T09:39:02.838Z"
   },
   {
    "duration": 7,
    "start_time": "2023-10-27T09:39:03.418Z"
   },
   {
    "duration": 4,
    "start_time": "2023-10-27T09:39:36.132Z"
   },
   {
    "duration": 3,
    "start_time": "2023-10-27T09:39:36.344Z"
   },
   {
    "duration": 5,
    "start_time": "2023-10-27T09:39:36.530Z"
   },
   {
    "duration": 5,
    "start_time": "2023-10-27T09:39:55.072Z"
   },
   {
    "duration": 5,
    "start_time": "2023-10-27T09:39:56.023Z"
   },
   {
    "duration": 5,
    "start_time": "2023-10-27T09:40:31.077Z"
   },
   {
    "duration": 3,
    "start_time": "2023-10-27T09:40:31.220Z"
   },
   {
    "duration": 6,
    "start_time": "2023-10-27T09:40:31.388Z"
   },
   {
    "duration": 4,
    "start_time": "2023-10-27T09:41:13.498Z"
   },
   {
    "duration": 746,
    "start_time": "2023-10-27T09:41:13.650Z"
   },
   {
    "duration": 0,
    "start_time": "2023-10-27T09:41:14.398Z"
   },
   {
    "duration": 4,
    "start_time": "2023-10-27T09:41:24.751Z"
   },
   {
    "duration": 47,
    "start_time": "2023-10-27T09:41:24.925Z"
   },
   {
    "duration": 4,
    "start_time": "2023-10-27T09:42:21.173Z"
   },
   {
    "duration": 22,
    "start_time": "2023-10-27T09:42:21.734Z"
   },
   {
    "duration": 3,
    "start_time": "2023-10-27T09:42:52.138Z"
   },
   {
    "duration": 4,
    "start_time": "2023-10-27T09:42:52.296Z"
   },
   {
    "duration": 23,
    "start_time": "2023-10-27T09:42:52.980Z"
   },
   {
    "duration": 3,
    "start_time": "2023-10-27T09:43:49.017Z"
   },
   {
    "duration": 3,
    "start_time": "2023-10-27T09:43:49.203Z"
   },
   {
    "duration": 3,
    "start_time": "2023-10-27T09:43:49.420Z"
   },
   {
    "duration": 10,
    "start_time": "2023-10-27T09:43:49.979Z"
   },
   {
    "duration": 13,
    "start_time": "2023-10-27T09:44:02.533Z"
   },
   {
    "duration": 950,
    "start_time": "2023-10-27T09:44:02.547Z"
   },
   {
    "duration": 7,
    "start_time": "2023-10-27T09:44:03.498Z"
   },
   {
    "duration": 8,
    "start_time": "2023-10-27T09:44:03.507Z"
   },
   {
    "duration": 45,
    "start_time": "2023-10-27T09:44:03.516Z"
   },
   {
    "duration": 9,
    "start_time": "2023-10-27T09:44:03.562Z"
   },
   {
    "duration": 22,
    "start_time": "2023-10-27T09:44:03.573Z"
   },
   {
    "duration": 11,
    "start_time": "2023-10-27T09:44:03.597Z"
   },
   {
    "duration": 13,
    "start_time": "2023-10-27T09:44:03.610Z"
   },
   {
    "duration": 26,
    "start_time": "2023-10-27T09:44:03.626Z"
   },
   {
    "duration": 26,
    "start_time": "2023-10-27T09:44:03.654Z"
   },
   {
    "duration": 1262608,
    "start_time": "2023-10-27T09:44:03.681Z"
   },
   {
    "duration": 4,
    "start_time": "2023-10-27T10:05:06.291Z"
   },
   {
    "duration": 22,
    "start_time": "2023-10-27T10:05:06.296Z"
   },
   {
    "duration": 78,
    "start_time": "2023-10-27T10:05:06.319Z"
   },
   {
    "duration": 3,
    "start_time": "2023-10-27T10:05:06.399Z"
   },
   {
    "duration": 7324,
    "start_time": "2023-10-27T10:05:06.403Z"
   },
   {
    "duration": 77,
    "start_time": "2023-10-27T10:05:13.728Z"
   },
   {
    "duration": 5,
    "start_time": "2023-10-27T10:05:13.806Z"
   },
   {
    "duration": 65538,
    "start_time": "2023-10-27T10:05:13.813Z"
   },
   {
    "duration": 4,
    "start_time": "2023-10-27T10:06:19.352Z"
   },
   {
    "duration": 59517,
    "start_time": "2023-10-27T10:06:19.357Z"
   },
   {
    "duration": 60068,
    "start_time": "2023-10-27T10:07:18.877Z"
   },
   {
    "duration": 4,
    "start_time": "2023-10-27T10:08:18.947Z"
   },
   {
    "duration": 11060,
    "start_time": "2023-10-27T10:08:18.953Z"
   },
   {
    "duration": 3,
    "start_time": "2023-10-27T10:31:18.286Z"
   },
   {
    "duration": 94,
    "start_time": "2023-10-27T10:31:18.501Z"
   },
   {
    "duration": 17,
    "start_time": "2023-10-27T10:31:19.306Z"
   },
   {
    "duration": 7133,
    "start_time": "2023-10-27T10:31:19.468Z"
   },
   {
    "duration": 76,
    "start_time": "2023-10-27T10:31:26.604Z"
   },
   {
    "duration": 4,
    "start_time": "2023-10-27T10:31:26.681Z"
   },
   {
    "duration": 66363,
    "start_time": "2023-10-27T10:31:26.687Z"
   },
   {
    "duration": 3,
    "start_time": "2023-10-27T10:32:33.052Z"
   },
   {
    "duration": 87616,
    "start_time": "2023-10-27T10:32:33.056Z"
   },
   {
    "duration": 52077,
    "start_time": "2023-10-27T10:34:00.674Z"
   },
   {
    "duration": 4,
    "start_time": "2023-10-27T10:34:52.753Z"
   },
   {
    "duration": 17376,
    "start_time": "2023-10-27T10:34:52.759Z"
   },
   {
    "duration": 11766,
    "start_time": "2023-10-27T10:35:10.137Z"
   },
   {
    "duration": 3,
    "start_time": "2023-10-27T10:35:21.905Z"
   },
   {
    "duration": 119,
    "start_time": "2023-10-27T10:35:21.910Z"
   },
   {
    "duration": 21,
    "start_time": "2023-10-27T10:35:22.031Z"
   },
   {
    "duration": 6188,
    "start_time": "2023-10-27T10:35:22.054Z"
   },
   {
    "duration": 65,
    "start_time": "2023-10-27T10:35:28.243Z"
   },
   {
    "duration": 5,
    "start_time": "2023-10-27T10:35:28.309Z"
   },
   {
    "duration": 42129,
    "start_time": "2023-10-27T10:35:28.315Z"
   },
   {
    "duration": 3,
    "start_time": "2023-10-27T10:36:10.446Z"
   },
   {
    "duration": 101459,
    "start_time": "2023-10-27T10:36:10.451Z"
   },
   {
    "duration": 65633,
    "start_time": "2023-10-27T10:37:51.912Z"
   },
   {
    "duration": 4,
    "start_time": "2023-10-27T10:38:57.546Z"
   },
   {
    "duration": 27142,
    "start_time": "2023-10-27T10:38:57.551Z"
   },
   {
    "duration": 780,
    "start_time": "2023-10-27T10:39:24.695Z"
   },
   {
    "duration": 37,
    "start_time": "2023-10-27T10:50:56.469Z"
   },
   {
    "duration": 4,
    "start_time": "2023-10-27T10:51:02.467Z"
   },
   {
    "duration": 5,
    "start_time": "2023-10-27T10:52:55.038Z"
   },
   {
    "duration": 35,
    "start_time": "2023-10-27T10:53:49.547Z"
   },
   {
    "duration": 17,
    "start_time": "2023-10-27T10:54:17.943Z"
   },
   {
    "duration": 12,
    "start_time": "2023-10-27T10:54:45.018Z"
   },
   {
    "duration": 11,
    "start_time": "2023-10-27T10:55:05.752Z"
   },
   {
    "duration": 10,
    "start_time": "2023-10-27T10:55:39.278Z"
   },
   {
    "duration": 11,
    "start_time": "2023-10-27T10:55:53.796Z"
   },
   {
    "duration": 11,
    "start_time": "2023-10-27T10:56:11.217Z"
   },
   {
    "duration": 10,
    "start_time": "2023-10-27T10:56:43.402Z"
   },
   {
    "duration": 17,
    "start_time": "2023-10-27T10:56:52.044Z"
   },
   {
    "duration": 11,
    "start_time": "2023-10-27T10:56:56.576Z"
   },
   {
    "duration": 12,
    "start_time": "2023-10-27T10:57:03.102Z"
   },
   {
    "duration": 11,
    "start_time": "2023-10-27T10:57:10.828Z"
   },
   {
    "duration": 3,
    "start_time": "2023-10-27T10:57:54.113Z"
   },
   {
    "duration": 8532,
    "start_time": "2023-10-27T10:57:57.391Z"
   },
   {
    "duration": 7,
    "start_time": "2023-10-27T10:58:08.853Z"
   },
   {
    "duration": 1063461,
    "start_time": "2023-10-27T10:58:09.493Z"
   },
   {
    "duration": 29,
    "start_time": "2023-10-27T11:54:51.968Z"
   },
   {
    "duration": 4,
    "start_time": "2023-10-27T11:54:55.402Z"
   },
   {
    "duration": 4,
    "start_time": "2023-10-27T11:56:05.983Z"
   },
   {
    "duration": 254761,
    "start_time": "2023-10-27T11:56:08.256Z"
   },
   {
    "duration": 0,
    "start_time": "2023-10-27T12:00:23.207Z"
   },
   {
    "duration": 0,
    "start_time": "2023-10-27T12:00:23.208Z"
   },
   {
    "duration": 0,
    "start_time": "2023-10-27T12:00:23.209Z"
   },
   {
    "duration": 0,
    "start_time": "2023-10-27T12:00:23.210Z"
   },
   {
    "duration": 0,
    "start_time": "2023-10-27T12:00:23.212Z"
   },
   {
    "duration": 0,
    "start_time": "2023-10-27T12:00:23.213Z"
   },
   {
    "duration": 0,
    "start_time": "2023-10-27T12:00:23.214Z"
   },
   {
    "duration": 3,
    "start_time": "2023-10-27T12:01:04.512Z"
   },
   {
    "duration": 81,
    "start_time": "2023-10-27T12:01:04.654Z"
   },
   {
    "duration": 2,
    "start_time": "2023-10-27T12:01:05.280Z"
   },
   {
    "duration": 102,
    "start_time": "2023-10-27T12:01:05.627Z"
   },
   {
    "duration": 3,
    "start_time": "2023-10-27T12:01:06.373Z"
   },
   {
    "duration": 764,
    "start_time": "2023-10-27T12:01:06.542Z"
   },
   {
    "duration": 7465,
    "start_time": "2023-10-27T12:01:07.308Z"
   },
   {
    "duration": 51,
    "start_time": "2023-10-27T12:01:14.775Z"
   },
   {
    "duration": 85,
    "start_time": "2023-10-27T12:01:14.828Z"
   },
   {
    "duration": 5,
    "start_time": "2023-10-27T12:01:14.915Z"
   },
   {
    "duration": 926,
    "start_time": "2023-10-27T12:01:16.021Z"
   },
   {
    "duration": 3,
    "start_time": "2023-10-27T12:01:16.949Z"
   },
   {
    "duration": 4875,
    "start_time": "2023-10-27T12:01:17.171Z"
   },
   {
    "duration": 57797,
    "start_time": "2023-10-27T12:01:22.048Z"
   },
   {
    "duration": 1654,
    "start_time": "2023-10-27T12:02:19.846Z"
   },
   {
    "duration": 4,
    "start_time": "2023-10-27T12:03:22.492Z"
   },
   {
    "duration": 239,
    "start_time": "2023-10-27T12:03:32.336Z"
   },
   {
    "duration": 867,
    "start_time": "2023-10-27T12:03:32.577Z"
   },
   {
    "duration": 7,
    "start_time": "2023-10-27T12:03:33.446Z"
   },
   {
    "duration": 86,
    "start_time": "2023-10-27T12:03:33.455Z"
   },
   {
    "duration": 31,
    "start_time": "2023-10-27T12:03:33.543Z"
   },
   {
    "duration": 27,
    "start_time": "2023-10-27T12:03:33.575Z"
   },
   {
    "duration": 19,
    "start_time": "2023-10-27T12:03:33.603Z"
   },
   {
    "duration": 31,
    "start_time": "2023-10-27T12:03:33.623Z"
   },
   {
    "duration": 18,
    "start_time": "2023-10-27T12:03:33.655Z"
   },
   {
    "duration": 11,
    "start_time": "2023-10-27T12:03:33.675Z"
   },
   {
    "duration": 14,
    "start_time": "2023-10-27T12:03:33.688Z"
   },
   {
    "duration": 86529,
    "start_time": "2023-10-27T12:03:33.704Z"
   },
   {
    "duration": 0,
    "start_time": "2023-10-27T12:05:00.235Z"
   },
   {
    "duration": 0,
    "start_time": "2023-10-27T12:05:00.236Z"
   },
   {
    "duration": 0,
    "start_time": "2023-10-27T12:05:00.237Z"
   },
   {
    "duration": 0,
    "start_time": "2023-10-27T12:05:00.238Z"
   },
   {
    "duration": 0,
    "start_time": "2023-10-27T12:05:00.239Z"
   },
   {
    "duration": 0,
    "start_time": "2023-10-27T12:05:00.240Z"
   },
   {
    "duration": 0,
    "start_time": "2023-10-27T12:05:00.241Z"
   },
   {
    "duration": 0,
    "start_time": "2023-10-27T12:05:00.242Z"
   },
   {
    "duration": 0,
    "start_time": "2023-10-27T12:05:00.243Z"
   },
   {
    "duration": 0,
    "start_time": "2023-10-27T12:05:00.244Z"
   },
   {
    "duration": 0,
    "start_time": "2023-10-27T12:05:00.245Z"
   },
   {
    "duration": 0,
    "start_time": "2023-10-27T12:05:00.246Z"
   },
   {
    "duration": 0,
    "start_time": "2023-10-27T12:05:00.247Z"
   },
   {
    "duration": 0,
    "start_time": "2023-10-27T12:05:00.249Z"
   },
   {
    "duration": 0,
    "start_time": "2023-10-27T12:05:00.249Z"
   },
   {
    "duration": 0,
    "start_time": "2023-10-27T12:05:00.250Z"
   },
   {
    "duration": 0,
    "start_time": "2023-10-27T12:05:00.251Z"
   },
   {
    "duration": 0,
    "start_time": "2023-10-27T12:05:00.252Z"
   },
   {
    "duration": 0,
    "start_time": "2023-10-27T12:05:00.253Z"
   },
   {
    "duration": 0,
    "start_time": "2023-10-27T12:05:00.254Z"
   },
   {
    "duration": 0,
    "start_time": "2023-10-27T12:05:00.255Z"
   },
   {
    "duration": 0,
    "start_time": "2023-10-27T12:05:00.256Z"
   },
   {
    "duration": 0,
    "start_time": "2023-10-27T12:05:00.257Z"
   },
   {
    "duration": 0,
    "start_time": "2023-10-27T12:05:00.258Z"
   },
   {
    "duration": 0,
    "start_time": "2023-10-27T12:05:00.259Z"
   },
   {
    "duration": 4,
    "start_time": "2023-10-27T12:05:20.260Z"
   },
   {
    "duration": 1247840,
    "start_time": "2023-10-27T12:05:20.926Z"
   },
   {
    "duration": 11010,
    "start_time": "2023-10-27T12:26:08.769Z"
   },
   {
    "duration": 549,
    "start_time": "2023-10-27T12:26:19.781Z"
   },
   {
    "duration": 3,
    "start_time": "2023-10-27T12:26:20.333Z"
   },
   {
    "duration": 1000083,
    "start_time": "2023-10-27T12:26:20.338Z"
   },
   {
    "duration": 4,
    "start_time": "2023-10-27T12:43:00.424Z"
   },
   {
    "duration": 46,
    "start_time": "2023-10-27T12:43:00.446Z"
   },
   {
    "duration": 17,
    "start_time": "2023-10-27T12:43:06.226Z"
   },
   {
    "duration": 75,
    "start_time": "2023-10-27T12:43:06.417Z"
   },
   {
    "duration": 41,
    "start_time": "2023-10-27T12:43:06.742Z"
   },
   {
    "duration": 73,
    "start_time": "2023-10-27T12:43:06.900Z"
   },
   {
    "duration": 19,
    "start_time": "2023-10-27T12:43:07.783Z"
   },
   {
    "duration": 6716,
    "start_time": "2023-10-27T12:43:07.961Z"
   },
   {
    "duration": 6824,
    "start_time": "2023-10-27T12:43:14.679Z"
   },
   {
    "duration": 82,
    "start_time": "2023-10-27T12:43:21.505Z"
   },
   {
    "duration": 80,
    "start_time": "2023-10-27T12:43:21.589Z"
   },
   {
    "duration": 5,
    "start_time": "2023-10-27T12:43:21.670Z"
   },
   {
    "duration": 32148,
    "start_time": "2023-10-27T12:44:34.798Z"
   },
   {
    "duration": 4,
    "start_time": "2023-10-27T12:45:06.947Z"
   },
   {
    "duration": 102235,
    "start_time": "2023-10-27T12:45:06.952Z"
   },
   {
    "duration": 55369,
    "start_time": "2023-10-27T12:46:49.189Z"
   },
   {
    "duration": 4,
    "start_time": "2023-10-27T12:47:44.644Z"
   },
   {
    "duration": 101618,
    "start_time": "2023-10-27T12:47:44.649Z"
   },
   {
    "duration": 80767,
    "start_time": "2023-10-27T12:58:32.093Z"
   },
   {
    "duration": 90,
    "start_time": "2023-10-27T12:59:52.863Z"
   },
   {
    "duration": 29608,
    "start_time": "2023-10-27T12:59:52.955Z"
   },
   {
    "duration": 6256,
    "start_time": "2023-10-28T07:24:22.882Z"
   },
   {
    "duration": 2323,
    "start_time": "2023-10-28T07:24:29.141Z"
   },
   {
    "duration": 10,
    "start_time": "2023-10-28T07:24:31.466Z"
   },
   {
    "duration": 33,
    "start_time": "2023-10-28T07:24:31.478Z"
   },
   {
    "duration": 58,
    "start_time": "2023-10-28T07:24:31.513Z"
   },
   {
    "duration": 32,
    "start_time": "2023-10-28T07:24:31.573Z"
   },
   {
    "duration": 67,
    "start_time": "2023-10-28T07:24:31.607Z"
   },
   {
    "duration": 40,
    "start_time": "2023-10-28T07:24:31.676Z"
   },
   {
    "duration": 55,
    "start_time": "2023-10-28T07:24:31.717Z"
   },
   {
    "duration": 29,
    "start_time": "2023-10-28T07:24:31.774Z"
   },
   {
    "duration": 54,
    "start_time": "2023-10-28T07:24:31.805Z"
   },
   {
    "duration": 1521,
    "start_time": "2023-10-28T07:24:47.393Z"
   },
   {
    "duration": 12459,
    "start_time": "2023-10-28T07:24:54.832Z"
   },
   {
    "duration": 1022,
    "start_time": "2023-10-28T07:25:07.293Z"
   },
   {
    "duration": 3,
    "start_time": "2023-10-28T07:25:08.317Z"
   },
   {
    "duration": 77,
    "start_time": "2023-10-28T07:25:18.384Z"
   },
   {
    "duration": 5,
    "start_time": "2023-10-28T07:25:23.852Z"
   },
   {
    "duration": 4,
    "start_time": "2023-10-28T07:25:24.893Z"
   }
  ],
  "kernelspec": {
   "display_name": "Python 3 (ipykernel)",
   "language": "python",
   "name": "python3"
  },
  "language_info": {
   "codemirror_mode": {
    "name": "ipython",
    "version": 3
   },
   "file_extension": ".py",
   "mimetype": "text/x-python",
   "name": "python",
   "nbconvert_exporter": "python",
   "pygments_lexer": "ipython3",
   "version": "3.9.5"
  },
  "toc": {
   "base_numbering": 1,
   "nav_menu": {},
   "number_sections": true,
   "sideBar": true,
   "skip_h1_title": true,
   "title_cell": "Содержание",
   "title_sidebar": "Contents",
   "toc_cell": true,
   "toc_position": {
    "height": "calc(100% - 180px)",
    "left": "10px",
    "top": "150px",
    "width": "302.391px"
   },
   "toc_section_display": true,
   "toc_window_display": false
  }
 },
 "nbformat": 4,
 "nbformat_minor": 2
}
